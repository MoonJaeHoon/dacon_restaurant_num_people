{
  "nbformat": 4,
  "nbformat_minor": 0,
  "metadata": {
    "colab": {
      "name": "[72.7582]Pycaret_Modeling_79.828수정.ipynb",
      "provenance": [],
      "collapsed_sections": [],
      "include_colab_link": true
    },
    "kernelspec": {
      "name": "python3",
      "display_name": "Python 3"
    },
    "language_info": {
      "name": "python"
    },
    "widgets": {
      "application/vnd.jupyter.widget-state+json": {
        "e5008e32e2b94fefbcd4c8653fdb1536": {
          "model_module": "@jupyter-widgets/controls",
          "model_name": "IntProgressModel",
          "state": {
            "_view_name": "ProgressView",
            "style": "IPY_MODEL_b972fc3a50304458aa204e395982b774",
            "_dom_classes": [],
            "description": "Processing: ",
            "_model_name": "IntProgressModel",
            "bar_style": "",
            "max": 3,
            "_view_module": "@jupyter-widgets/controls",
            "_model_module_version": "1.5.0",
            "value": 3,
            "_view_count": null,
            "_view_module_version": "1.5.0",
            "orientation": "horizontal",
            "min": 0,
            "description_tooltip": null,
            "_model_module": "@jupyter-widgets/controls",
            "layout": "IPY_MODEL_59ab84cd6caf47bbaad90053da9183e5"
          }
        },
        "b972fc3a50304458aa204e395982b774": {
          "model_module": "@jupyter-widgets/controls",
          "model_name": "ProgressStyleModel",
          "state": {
            "_view_name": "StyleView",
            "_model_name": "ProgressStyleModel",
            "description_width": "",
            "_view_module": "@jupyter-widgets/base",
            "_model_module_version": "1.5.0",
            "_view_count": null,
            "_view_module_version": "1.2.0",
            "bar_color": null,
            "_model_module": "@jupyter-widgets/controls"
          }
        },
        "59ab84cd6caf47bbaad90053da9183e5": {
          "model_module": "@jupyter-widgets/base",
          "model_name": "LayoutModel",
          "state": {
            "_view_name": "LayoutView",
            "grid_template_rows": null,
            "right": null,
            "justify_content": null,
            "_view_module": "@jupyter-widgets/base",
            "overflow": null,
            "_model_module_version": "1.2.0",
            "_view_count": null,
            "flex_flow": null,
            "width": null,
            "min_width": null,
            "border": null,
            "align_items": null,
            "bottom": null,
            "_model_module": "@jupyter-widgets/base",
            "top": null,
            "grid_column": null,
            "overflow_y": null,
            "overflow_x": null,
            "grid_auto_flow": null,
            "grid_area": null,
            "grid_template_columns": null,
            "flex": null,
            "_model_name": "LayoutModel",
            "justify_items": null,
            "grid_row": null,
            "max_height": null,
            "align_content": null,
            "visibility": null,
            "align_self": null,
            "height": null,
            "min_height": null,
            "padding": null,
            "grid_auto_rows": null,
            "grid_gap": null,
            "max_width": null,
            "order": null,
            "_view_module_version": "1.2.0",
            "grid_template_areas": null,
            "object_position": null,
            "object_fit": null,
            "grid_auto_columns": null,
            "margin": null,
            "display": null,
            "left": null
          }
        },
        "872cfd24a2cf42ac8aca72cae888e7cc": {
          "model_module": "@jupyter-widgets/controls",
          "model_name": "TextModel",
          "state": {
            "_view_name": "TextView",
            "style": "IPY_MODEL_a79a22c3f62b438d8d369df2ac6da295",
            "_dom_classes": [],
            "description": "",
            "_model_name": "TextModel",
            "placeholder": "​",
            "_view_module": "@jupyter-widgets/controls",
            "_model_module_version": "1.5.0",
            "value": "Following data types have been inferred automatically, if they are correct press enter to continue or type 'quit' otherwise.",
            "_view_count": null,
            "disabled": false,
            "_view_module_version": "1.5.0",
            "continuous_update": true,
            "description_tooltip": null,
            "_model_module": "@jupyter-widgets/controls",
            "layout": "IPY_MODEL_3ae0a875f531475e8b9f1c515481f9ca"
          }
        },
        "a79a22c3f62b438d8d369df2ac6da295": {
          "model_module": "@jupyter-widgets/controls",
          "model_name": "DescriptionStyleModel",
          "state": {
            "_view_name": "StyleView",
            "_model_name": "DescriptionStyleModel",
            "description_width": "",
            "_view_module": "@jupyter-widgets/base",
            "_model_module_version": "1.5.0",
            "_view_count": null,
            "_view_module_version": "1.2.0",
            "_model_module": "@jupyter-widgets/controls"
          }
        },
        "3ae0a875f531475e8b9f1c515481f9ca": {
          "model_module": "@jupyter-widgets/base",
          "model_name": "LayoutModel",
          "state": {
            "_view_name": "LayoutView",
            "grid_template_rows": null,
            "right": null,
            "justify_content": null,
            "_view_module": "@jupyter-widgets/base",
            "overflow": null,
            "_model_module_version": "1.2.0",
            "_view_count": null,
            "flex_flow": null,
            "width": "100%",
            "min_width": null,
            "border": null,
            "align_items": null,
            "bottom": null,
            "_model_module": "@jupyter-widgets/base",
            "top": null,
            "grid_column": null,
            "overflow_y": null,
            "overflow_x": null,
            "grid_auto_flow": null,
            "grid_area": null,
            "grid_template_columns": null,
            "flex": null,
            "_model_name": "LayoutModel",
            "justify_items": null,
            "grid_row": null,
            "max_height": null,
            "align_content": null,
            "visibility": null,
            "align_self": null,
            "height": null,
            "min_height": null,
            "padding": null,
            "grid_auto_rows": null,
            "grid_gap": null,
            "max_width": null,
            "order": null,
            "_view_module_version": "1.2.0",
            "grid_template_areas": null,
            "object_position": null,
            "object_fit": null,
            "grid_auto_columns": null,
            "margin": null,
            "display": null,
            "left": null
          }
        },
        "af394bfd48f247ebb5ba48b5ed75fb75": {
          "model_module": "@jupyter-widgets/controls",
          "model_name": "IntProgressModel",
          "state": {
            "_view_name": "ProgressView",
            "style": "IPY_MODEL_700c9b87093c4ec38bbcd8088756cfb8",
            "_dom_classes": [],
            "description": "Processing: ",
            "_model_name": "IntProgressModel",
            "bar_style": "",
            "max": 99,
            "_view_module": "@jupyter-widgets/controls",
            "_model_module_version": "1.5.0",
            "value": 99,
            "_view_count": null,
            "_view_module_version": "1.5.0",
            "orientation": "horizontal",
            "min": 0,
            "description_tooltip": null,
            "_model_module": "@jupyter-widgets/controls",
            "layout": "IPY_MODEL_1b05e17ef1f8498e986e7c397d949f32"
          }
        },
        "700c9b87093c4ec38bbcd8088756cfb8": {
          "model_module": "@jupyter-widgets/controls",
          "model_name": "ProgressStyleModel",
          "state": {
            "_view_name": "StyleView",
            "_model_name": "ProgressStyleModel",
            "description_width": "",
            "_view_module": "@jupyter-widgets/base",
            "_model_module_version": "1.5.0",
            "_view_count": null,
            "_view_module_version": "1.2.0",
            "bar_color": null,
            "_model_module": "@jupyter-widgets/controls"
          }
        },
        "1b05e17ef1f8498e986e7c397d949f32": {
          "model_module": "@jupyter-widgets/base",
          "model_name": "LayoutModel",
          "state": {
            "_view_name": "LayoutView",
            "grid_template_rows": null,
            "right": null,
            "justify_content": null,
            "_view_module": "@jupyter-widgets/base",
            "overflow": null,
            "_model_module_version": "1.2.0",
            "_view_count": null,
            "flex_flow": null,
            "width": null,
            "min_width": null,
            "border": null,
            "align_items": null,
            "bottom": null,
            "_model_module": "@jupyter-widgets/base",
            "top": null,
            "grid_column": null,
            "overflow_y": null,
            "overflow_x": null,
            "grid_auto_flow": null,
            "grid_area": null,
            "grid_template_columns": null,
            "flex": null,
            "_model_name": "LayoutModel",
            "justify_items": null,
            "grid_row": null,
            "max_height": null,
            "align_content": null,
            "visibility": null,
            "align_self": null,
            "height": null,
            "min_height": null,
            "padding": null,
            "grid_auto_rows": null,
            "grid_gap": null,
            "max_width": null,
            "order": null,
            "_view_module_version": "1.2.0",
            "grid_template_areas": null,
            "object_position": null,
            "object_fit": null,
            "grid_auto_columns": null,
            "margin": null,
            "display": null,
            "left": null
          }
        },
        "3ec721609f634c1eb3a7d85d9d76da15": {
          "model_module": "@jupyter-widgets/controls",
          "model_name": "IntProgressModel",
          "state": {
            "_view_name": "ProgressView",
            "style": "IPY_MODEL_19ebc8e907004f469724be315cba41dd",
            "_dom_classes": [],
            "description": "Processing: ",
            "_model_name": "IntProgressModel",
            "bar_style": "",
            "max": 3,
            "_view_module": "@jupyter-widgets/controls",
            "_model_module_version": "1.5.0",
            "value": 3,
            "_view_count": null,
            "_view_module_version": "1.5.0",
            "orientation": "horizontal",
            "min": 0,
            "description_tooltip": null,
            "_model_module": "@jupyter-widgets/controls",
            "layout": "IPY_MODEL_3113c8d72772412fadc3b0147e8dcf5d"
          }
        },
        "19ebc8e907004f469724be315cba41dd": {
          "model_module": "@jupyter-widgets/controls",
          "model_name": "ProgressStyleModel",
          "state": {
            "_view_name": "StyleView",
            "_model_name": "ProgressStyleModel",
            "description_width": "",
            "_view_module": "@jupyter-widgets/base",
            "_model_module_version": "1.5.0",
            "_view_count": null,
            "_view_module_version": "1.2.0",
            "bar_color": null,
            "_model_module": "@jupyter-widgets/controls"
          }
        },
        "3113c8d72772412fadc3b0147e8dcf5d": {
          "model_module": "@jupyter-widgets/base",
          "model_name": "LayoutModel",
          "state": {
            "_view_name": "LayoutView",
            "grid_template_rows": null,
            "right": null,
            "justify_content": null,
            "_view_module": "@jupyter-widgets/base",
            "overflow": null,
            "_model_module_version": "1.2.0",
            "_view_count": null,
            "flex_flow": null,
            "width": null,
            "min_width": null,
            "border": null,
            "align_items": null,
            "bottom": null,
            "_model_module": "@jupyter-widgets/base",
            "top": null,
            "grid_column": null,
            "overflow_y": null,
            "overflow_x": null,
            "grid_auto_flow": null,
            "grid_area": null,
            "grid_template_columns": null,
            "flex": null,
            "_model_name": "LayoutModel",
            "justify_items": null,
            "grid_row": null,
            "max_height": null,
            "align_content": null,
            "visibility": null,
            "align_self": null,
            "height": null,
            "min_height": null,
            "padding": null,
            "grid_auto_rows": null,
            "grid_gap": null,
            "max_width": null,
            "order": null,
            "_view_module_version": "1.2.0",
            "grid_template_areas": null,
            "object_position": null,
            "object_fit": null,
            "grid_auto_columns": null,
            "margin": null,
            "display": null,
            "left": null
          }
        },
        "c39c564baa61495cb914487d019dd069": {
          "model_module": "@jupyter-widgets/controls",
          "model_name": "TextModel",
          "state": {
            "_view_name": "TextView",
            "style": "IPY_MODEL_7cef661286b842f4b3a6319215da59c6",
            "_dom_classes": [],
            "description": "",
            "_model_name": "TextModel",
            "placeholder": "​",
            "_view_module": "@jupyter-widgets/controls",
            "_model_module_version": "1.5.0",
            "value": "Following data types have been inferred automatically, if they are correct press enter to continue or type 'quit' otherwise.",
            "_view_count": null,
            "disabled": false,
            "_view_module_version": "1.5.0",
            "continuous_update": true,
            "description_tooltip": null,
            "_model_module": "@jupyter-widgets/controls",
            "layout": "IPY_MODEL_d9524285d45d4cdaae22d433295c9b65"
          }
        },
        "7cef661286b842f4b3a6319215da59c6": {
          "model_module": "@jupyter-widgets/controls",
          "model_name": "DescriptionStyleModel",
          "state": {
            "_view_name": "StyleView",
            "_model_name": "DescriptionStyleModel",
            "description_width": "",
            "_view_module": "@jupyter-widgets/base",
            "_model_module_version": "1.5.0",
            "_view_count": null,
            "_view_module_version": "1.2.0",
            "_model_module": "@jupyter-widgets/controls"
          }
        },
        "d9524285d45d4cdaae22d433295c9b65": {
          "model_module": "@jupyter-widgets/base",
          "model_name": "LayoutModel",
          "state": {
            "_view_name": "LayoutView",
            "grid_template_rows": null,
            "right": null,
            "justify_content": null,
            "_view_module": "@jupyter-widgets/base",
            "overflow": null,
            "_model_module_version": "1.2.0",
            "_view_count": null,
            "flex_flow": null,
            "width": "100%",
            "min_width": null,
            "border": null,
            "align_items": null,
            "bottom": null,
            "_model_module": "@jupyter-widgets/base",
            "top": null,
            "grid_column": null,
            "overflow_y": null,
            "overflow_x": null,
            "grid_auto_flow": null,
            "grid_area": null,
            "grid_template_columns": null,
            "flex": null,
            "_model_name": "LayoutModel",
            "justify_items": null,
            "grid_row": null,
            "max_height": null,
            "align_content": null,
            "visibility": null,
            "align_self": null,
            "height": null,
            "min_height": null,
            "padding": null,
            "grid_auto_rows": null,
            "grid_gap": null,
            "max_width": null,
            "order": null,
            "_view_module_version": "1.2.0",
            "grid_template_areas": null,
            "object_position": null,
            "object_fit": null,
            "grid_auto_columns": null,
            "margin": null,
            "display": null,
            "left": null
          }
        },
        "09e7090b70634c83819f9c47fb424fb1": {
          "model_module": "@jupyter-widgets/controls",
          "model_name": "IntProgressModel",
          "state": {
            "_view_name": "ProgressView",
            "style": "IPY_MODEL_989a1006dc5340c98b7fa6ce8c6f4d50",
            "_dom_classes": [],
            "description": "Processing: ",
            "_model_name": "IntProgressModel",
            "bar_style": "",
            "max": 4,
            "_view_module": "@jupyter-widgets/controls",
            "_model_module_version": "1.5.0",
            "value": 4,
            "_view_count": null,
            "_view_module_version": "1.5.0",
            "orientation": "horizontal",
            "min": 0,
            "description_tooltip": null,
            "_model_module": "@jupyter-widgets/controls",
            "layout": "IPY_MODEL_21c4df72e12242d4aaab6f61c8fac51d"
          }
        },
        "989a1006dc5340c98b7fa6ce8c6f4d50": {
          "model_module": "@jupyter-widgets/controls",
          "model_name": "ProgressStyleModel",
          "state": {
            "_view_name": "StyleView",
            "_model_name": "ProgressStyleModel",
            "description_width": "",
            "_view_module": "@jupyter-widgets/base",
            "_model_module_version": "1.5.0",
            "_view_count": null,
            "_view_module_version": "1.2.0",
            "bar_color": null,
            "_model_module": "@jupyter-widgets/controls"
          }
        },
        "21c4df72e12242d4aaab6f61c8fac51d": {
          "model_module": "@jupyter-widgets/base",
          "model_name": "LayoutModel",
          "state": {
            "_view_name": "LayoutView",
            "grid_template_rows": null,
            "right": null,
            "justify_content": null,
            "_view_module": "@jupyter-widgets/base",
            "overflow": null,
            "_model_module_version": "1.2.0",
            "_view_count": null,
            "flex_flow": null,
            "width": null,
            "min_width": null,
            "border": null,
            "align_items": null,
            "bottom": null,
            "_model_module": "@jupyter-widgets/base",
            "top": null,
            "grid_column": null,
            "overflow_y": null,
            "overflow_x": null,
            "grid_auto_flow": null,
            "grid_area": null,
            "grid_template_columns": null,
            "flex": null,
            "_model_name": "LayoutModel",
            "justify_items": null,
            "grid_row": null,
            "max_height": null,
            "align_content": null,
            "visibility": null,
            "align_self": null,
            "height": null,
            "min_height": null,
            "padding": null,
            "grid_auto_rows": null,
            "grid_gap": null,
            "max_width": null,
            "order": null,
            "_view_module_version": "1.2.0",
            "grid_template_areas": null,
            "object_position": null,
            "object_fit": null,
            "grid_auto_columns": null,
            "margin": null,
            "display": null,
            "left": null
          }
        },
        "7daffb71443f4c48864da6c6c9f23d18": {
          "model_module": "@jupyter-widgets/controls",
          "model_name": "IntProgressModel",
          "state": {
            "_view_name": "ProgressView",
            "style": "IPY_MODEL_0d1201b66d014616a553baf4fa3eb76f",
            "_dom_classes": [],
            "description": "Processing: ",
            "_model_name": "IntProgressModel",
            "bar_style": "",
            "max": 7,
            "_view_module": "@jupyter-widgets/controls",
            "_model_module_version": "1.5.0",
            "value": 7,
            "_view_count": null,
            "_view_module_version": "1.5.0",
            "orientation": "horizontal",
            "min": 0,
            "description_tooltip": null,
            "_model_module": "@jupyter-widgets/controls",
            "layout": "IPY_MODEL_7093c1887bf04f2bbf6e75af989d5fde"
          }
        },
        "0d1201b66d014616a553baf4fa3eb76f": {
          "model_module": "@jupyter-widgets/controls",
          "model_name": "ProgressStyleModel",
          "state": {
            "_view_name": "StyleView",
            "_model_name": "ProgressStyleModel",
            "description_width": "",
            "_view_module": "@jupyter-widgets/base",
            "_model_module_version": "1.5.0",
            "_view_count": null,
            "_view_module_version": "1.2.0",
            "bar_color": null,
            "_model_module": "@jupyter-widgets/controls"
          }
        },
        "7093c1887bf04f2bbf6e75af989d5fde": {
          "model_module": "@jupyter-widgets/base",
          "model_name": "LayoutModel",
          "state": {
            "_view_name": "LayoutView",
            "grid_template_rows": null,
            "right": null,
            "justify_content": null,
            "_view_module": "@jupyter-widgets/base",
            "overflow": null,
            "_model_module_version": "1.2.0",
            "_view_count": null,
            "flex_flow": null,
            "width": null,
            "min_width": null,
            "border": null,
            "align_items": null,
            "bottom": null,
            "_model_module": "@jupyter-widgets/base",
            "top": null,
            "grid_column": null,
            "overflow_y": null,
            "overflow_x": null,
            "grid_auto_flow": null,
            "grid_area": null,
            "grid_template_columns": null,
            "flex": null,
            "_model_name": "LayoutModel",
            "justify_items": null,
            "grid_row": null,
            "max_height": null,
            "align_content": null,
            "visibility": null,
            "align_self": null,
            "height": null,
            "min_height": null,
            "padding": null,
            "grid_auto_rows": null,
            "grid_gap": null,
            "max_width": null,
            "order": null,
            "_view_module_version": "1.2.0",
            "grid_template_areas": null,
            "object_position": null,
            "object_fit": null,
            "grid_auto_columns": null,
            "margin": null,
            "display": null,
            "left": null
          }
        },
        "3794e7ab1cf748f381eb19ff73577282": {
          "model_module": "@jupyter-widgets/controls",
          "model_name": "IntProgressModel",
          "state": {
            "_view_name": "ProgressView",
            "style": "IPY_MODEL_e358841911bc4dcf96d74f72c1c7fb07",
            "_dom_classes": [],
            "description": "Processing: ",
            "_model_name": "IntProgressModel",
            "bar_style": "",
            "max": 5,
            "_view_module": "@jupyter-widgets/controls",
            "_model_module_version": "1.5.0",
            "value": 5,
            "_view_count": null,
            "_view_module_version": "1.5.0",
            "orientation": "horizontal",
            "min": 0,
            "description_tooltip": null,
            "_model_module": "@jupyter-widgets/controls",
            "layout": "IPY_MODEL_f62909a8d8b54a7f87f633edd046b6a0"
          }
        },
        "2afc5f06603d424db34184522cd39406": {
          "model_module": "@jupyter-widgets/controls",
          "model_name": "IntProgressModel",
          "state": {
            "_view_name": "ProgressView",
            "style": "IPY_MODEL_a4fce5bfa18f498995d5bdd2ebd93de9",
            "_dom_classes": [],
            "description": "Processing: ",
            "_model_name": "IntProgressModel",
            "bar_style": "",
            "max": 3,
            "_view_module": "@jupyter-widgets/controls",
            "_model_module_version": "1.5.0",
            "value": 3,
            "_view_count": null,
            "_view_module_version": "1.5.0",
            "orientation": "horizontal",
            "min": 0,
            "description_tooltip": null,
            "_model_module": "@jupyter-widgets/controls",
            "layout": "IPY_MODEL_34c7ee5a441e4e24ac749c853a789ce8"
          }
        },
        "a4fce5bfa18f498995d5bdd2ebd93de9": {
          "model_module": "@jupyter-widgets/controls",
          "model_name": "ProgressStyleModel",
          "state": {
            "_view_name": "StyleView",
            "_model_name": "ProgressStyleModel",
            "description_width": "",
            "_view_module": "@jupyter-widgets/base",
            "_model_module_version": "1.5.0",
            "_view_count": null,
            "_view_module_version": "1.2.0",
            "bar_color": null,
            "_model_module": "@jupyter-widgets/controls"
          }
        },
        "34c7ee5a441e4e24ac749c853a789ce8": {
          "model_module": "@jupyter-widgets/base",
          "model_name": "LayoutModel",
          "state": {
            "_view_name": "LayoutView",
            "grid_template_rows": null,
            "right": null,
            "justify_content": null,
            "_view_module": "@jupyter-widgets/base",
            "overflow": null,
            "_model_module_version": "1.2.0",
            "_view_count": null,
            "flex_flow": null,
            "width": null,
            "min_width": null,
            "border": null,
            "align_items": null,
            "bottom": null,
            "_model_module": "@jupyter-widgets/base",
            "top": null,
            "grid_column": null,
            "overflow_y": null,
            "overflow_x": null,
            "grid_auto_flow": null,
            "grid_area": null,
            "grid_template_columns": null,
            "flex": null,
            "_model_name": "LayoutModel",
            "justify_items": null,
            "grid_row": null,
            "max_height": null,
            "align_content": null,
            "visibility": null,
            "align_self": null,
            "height": null,
            "min_height": null,
            "padding": null,
            "grid_auto_rows": null,
            "grid_gap": null,
            "max_width": null,
            "order": null,
            "_view_module_version": "1.2.0",
            "grid_template_areas": null,
            "object_position": null,
            "object_fit": null,
            "grid_auto_columns": null,
            "margin": null,
            "display": null,
            "left": null
          }
        },
        "52fd53502f6941bba9460d39fda3cc80": {
          "model_module": "@jupyter-widgets/controls",
          "model_name": "TextModel",
          "state": {
            "_view_name": "TextView",
            "style": "IPY_MODEL_84f9d973c0e7422c8e84e5bce55ce200",
            "_dom_classes": [],
            "description": "",
            "_model_name": "TextModel",
            "placeholder": "​",
            "_view_module": "@jupyter-widgets/controls",
            "_model_module_version": "1.5.0",
            "value": "Following data types have been inferred automatically, if they are correct press enter to continue or type 'quit' otherwise.",
            "_view_count": null,
            "disabled": false,
            "_view_module_version": "1.5.0",
            "continuous_update": true,
            "description_tooltip": null,
            "_model_module": "@jupyter-widgets/controls",
            "layout": "IPY_MODEL_cddc449b0bb64732a78ecc157357ddfc"
          }
        },
        "84f9d973c0e7422c8e84e5bce55ce200": {
          "model_module": "@jupyter-widgets/controls",
          "model_name": "DescriptionStyleModel",
          "state": {
            "_view_name": "StyleView",
            "_model_name": "DescriptionStyleModel",
            "description_width": "",
            "_view_module": "@jupyter-widgets/base",
            "_model_module_version": "1.5.0",
            "_view_count": null,
            "_view_module_version": "1.2.0",
            "_model_module": "@jupyter-widgets/controls"
          }
        },
        "cddc449b0bb64732a78ecc157357ddfc": {
          "model_module": "@jupyter-widgets/base",
          "model_name": "LayoutModel",
          "state": {
            "_view_name": "LayoutView",
            "grid_template_rows": null,
            "right": null,
            "justify_content": null,
            "_view_module": "@jupyter-widgets/base",
            "overflow": null,
            "_model_module_version": "1.2.0",
            "_view_count": null,
            "flex_flow": null,
            "width": "100%",
            "min_width": null,
            "border": null,
            "align_items": null,
            "bottom": null,
            "_model_module": "@jupyter-widgets/base",
            "top": null,
            "grid_column": null,
            "overflow_y": null,
            "overflow_x": null,
            "grid_auto_flow": null,
            "grid_area": null,
            "grid_template_columns": null,
            "flex": null,
            "_model_name": "LayoutModel",
            "justify_items": null,
            "grid_row": null,
            "max_height": null,
            "align_content": null,
            "visibility": null,
            "align_self": null,
            "height": null,
            "min_height": null,
            "padding": null,
            "grid_auto_rows": null,
            "grid_gap": null,
            "max_width": null,
            "order": null,
            "_view_module_version": "1.2.0",
            "grid_template_areas": null,
            "object_position": null,
            "object_fit": null,
            "grid_auto_columns": null,
            "margin": null,
            "display": null,
            "left": null
          }
        },
        "3a308a7e93494a2ba57d6cc988e1503a": {
          "model_module": "@jupyter-widgets/controls",
          "model_name": "IntProgressModel",
          "state": {
            "_view_name": "ProgressView",
            "style": "IPY_MODEL_d3aaa1e27ff0438ebbf25f552784cab3",
            "_dom_classes": [],
            "description": "Processing: ",
            "_model_name": "IntProgressModel",
            "bar_style": "",
            "max": 99,
            "_view_module": "@jupyter-widgets/controls",
            "_model_module_version": "1.5.0",
            "value": 99,
            "_view_count": null,
            "_view_module_version": "1.5.0",
            "orientation": "horizontal",
            "min": 0,
            "description_tooltip": null,
            "_model_module": "@jupyter-widgets/controls",
            "layout": "IPY_MODEL_74e3d27a159f48b79b5a4c1e24a5099b"
          }
        },
        "d3aaa1e27ff0438ebbf25f552784cab3": {
          "model_module": "@jupyter-widgets/controls",
          "model_name": "ProgressStyleModel",
          "state": {
            "_view_name": "StyleView",
            "_model_name": "ProgressStyleModel",
            "description_width": "",
            "_view_module": "@jupyter-widgets/base",
            "_model_module_version": "1.5.0",
            "_view_count": null,
            "_view_module_version": "1.2.0",
            "bar_color": null,
            "_model_module": "@jupyter-widgets/controls"
          }
        },
        "74e3d27a159f48b79b5a4c1e24a5099b": {
          "model_module": "@jupyter-widgets/base",
          "model_name": "LayoutModel",
          "state": {
            "_view_name": "LayoutView",
            "grid_template_rows": null,
            "right": null,
            "justify_content": null,
            "_view_module": "@jupyter-widgets/base",
            "overflow": null,
            "_model_module_version": "1.2.0",
            "_view_count": null,
            "flex_flow": null,
            "width": null,
            "min_width": null,
            "border": null,
            "align_items": null,
            "bottom": null,
            "_model_module": "@jupyter-widgets/base",
            "top": null,
            "grid_column": null,
            "overflow_y": null,
            "overflow_x": null,
            "grid_auto_flow": null,
            "grid_area": null,
            "grid_template_columns": null,
            "flex": null,
            "_model_name": "LayoutModel",
            "justify_items": null,
            "grid_row": null,
            "max_height": null,
            "align_content": null,
            "visibility": null,
            "align_self": null,
            "height": null,
            "min_height": null,
            "padding": null,
            "grid_auto_rows": null,
            "grid_gap": null,
            "max_width": null,
            "order": null,
            "_view_module_version": "1.2.0",
            "grid_template_areas": null,
            "object_position": null,
            "object_fit": null,
            "grid_auto_columns": null,
            "margin": null,
            "display": null,
            "left": null
          }
        },
        "988cacc6706d491d9d5bd313ebe49bc3": {
          "model_module": "@jupyter-widgets/controls",
          "model_name": "IntProgressModel",
          "state": {
            "_view_name": "ProgressView",
            "style": "IPY_MODEL_a0c2cd078eee4912bc27343cfb66498f",
            "_dom_classes": [],
            "description": "Processing: ",
            "_model_name": "IntProgressModel",
            "bar_style": "",
            "max": 3,
            "_view_module": "@jupyter-widgets/controls",
            "_model_module_version": "1.5.0",
            "value": 3,
            "_view_count": null,
            "_view_module_version": "1.5.0",
            "orientation": "horizontal",
            "min": 0,
            "description_tooltip": null,
            "_model_module": "@jupyter-widgets/controls",
            "layout": "IPY_MODEL_14562929f76b47de8ed8b8fb0745dc4f"
          }
        },
        "a0c2cd078eee4912bc27343cfb66498f": {
          "model_module": "@jupyter-widgets/controls",
          "model_name": "ProgressStyleModel",
          "state": {
            "_view_name": "StyleView",
            "_model_name": "ProgressStyleModel",
            "description_width": "",
            "_view_module": "@jupyter-widgets/base",
            "_model_module_version": "1.5.0",
            "_view_count": null,
            "_view_module_version": "1.2.0",
            "bar_color": null,
            "_model_module": "@jupyter-widgets/controls"
          }
        },
        "14562929f76b47de8ed8b8fb0745dc4f": {
          "model_module": "@jupyter-widgets/base",
          "model_name": "LayoutModel",
          "state": {
            "_view_name": "LayoutView",
            "grid_template_rows": null,
            "right": null,
            "justify_content": null,
            "_view_module": "@jupyter-widgets/base",
            "overflow": null,
            "_model_module_version": "1.2.0",
            "_view_count": null,
            "flex_flow": null,
            "width": null,
            "min_width": null,
            "border": null,
            "align_items": null,
            "bottom": null,
            "_model_module": "@jupyter-widgets/base",
            "top": null,
            "grid_column": null,
            "overflow_y": null,
            "overflow_x": null,
            "grid_auto_flow": null,
            "grid_area": null,
            "grid_template_columns": null,
            "flex": null,
            "_model_name": "LayoutModel",
            "justify_items": null,
            "grid_row": null,
            "max_height": null,
            "align_content": null,
            "visibility": null,
            "align_self": null,
            "height": null,
            "min_height": null,
            "padding": null,
            "grid_auto_rows": null,
            "grid_gap": null,
            "max_width": null,
            "order": null,
            "_view_module_version": "1.2.0",
            "grid_template_areas": null,
            "object_position": null,
            "object_fit": null,
            "grid_auto_columns": null,
            "margin": null,
            "display": null,
            "left": null
          }
        },
        "51900a37dceb49d28e9cab7c8994aceb": {
          "model_module": "@jupyter-widgets/controls",
          "model_name": "TextModel",
          "state": {
            "_view_name": "TextView",
            "style": "IPY_MODEL_b411f15bdc434dec9315317d2fae13e1",
            "_dom_classes": [],
            "description": "",
            "_model_name": "TextModel",
            "placeholder": "​",
            "_view_module": "@jupyter-widgets/controls",
            "_model_module_version": "1.5.0",
            "value": "Following data types have been inferred automatically, if they are correct press enter to continue or type 'quit' otherwise.",
            "_view_count": null,
            "disabled": false,
            "_view_module_version": "1.5.0",
            "continuous_update": true,
            "description_tooltip": null,
            "_model_module": "@jupyter-widgets/controls",
            "layout": "IPY_MODEL_4d61329a6872447ea62727b5080adbc5"
          }
        },
        "b411f15bdc434dec9315317d2fae13e1": {
          "model_module": "@jupyter-widgets/controls",
          "model_name": "DescriptionStyleModel",
          "state": {
            "_view_name": "StyleView",
            "_model_name": "DescriptionStyleModel",
            "description_width": "",
            "_view_module": "@jupyter-widgets/base",
            "_model_module_version": "1.5.0",
            "_view_count": null,
            "_view_module_version": "1.2.0",
            "_model_module": "@jupyter-widgets/controls"
          }
        },
        "4d61329a6872447ea62727b5080adbc5": {
          "model_module": "@jupyter-widgets/base",
          "model_name": "LayoutModel",
          "state": {
            "_view_name": "LayoutView",
            "grid_template_rows": null,
            "right": null,
            "justify_content": null,
            "_view_module": "@jupyter-widgets/base",
            "overflow": null,
            "_model_module_version": "1.2.0",
            "_view_count": null,
            "flex_flow": null,
            "width": "100%",
            "min_width": null,
            "border": null,
            "align_items": null,
            "bottom": null,
            "_model_module": "@jupyter-widgets/base",
            "top": null,
            "grid_column": null,
            "overflow_y": null,
            "overflow_x": null,
            "grid_auto_flow": null,
            "grid_area": null,
            "grid_template_columns": null,
            "flex": null,
            "_model_name": "LayoutModel",
            "justify_items": null,
            "grid_row": null,
            "max_height": null,
            "align_content": null,
            "visibility": null,
            "align_self": null,
            "height": null,
            "min_height": null,
            "padding": null,
            "grid_auto_rows": null,
            "grid_gap": null,
            "max_width": null,
            "order": null,
            "_view_module_version": "1.2.0",
            "grid_template_areas": null,
            "object_position": null,
            "object_fit": null,
            "grid_auto_columns": null,
            "margin": null,
            "display": null,
            "left": null
          }
        },
        "71a37d5fa92941c0a360ab5f8aa28a56": {
          "model_module": "@jupyter-widgets/controls",
          "model_name": "IntProgressModel",
          "state": {
            "_view_name": "ProgressView",
            "style": "IPY_MODEL_6ee65b366cc14783a88d2a479de9eb6a",
            "_dom_classes": [],
            "description": "Processing: ",
            "_model_name": "IntProgressModel",
            "bar_style": "",
            "max": 4,
            "_view_module": "@jupyter-widgets/controls",
            "_model_module_version": "1.5.0",
            "value": 4,
            "_view_count": null,
            "_view_module_version": "1.5.0",
            "orientation": "horizontal",
            "min": 0,
            "description_tooltip": null,
            "_model_module": "@jupyter-widgets/controls",
            "layout": "IPY_MODEL_370ecb1170f3428b90dada70d1cf2d60"
          }
        },
        "6ee65b366cc14783a88d2a479de9eb6a": {
          "model_module": "@jupyter-widgets/controls",
          "model_name": "ProgressStyleModel",
          "state": {
            "_view_name": "StyleView",
            "_model_name": "ProgressStyleModel",
            "description_width": "",
            "_view_module": "@jupyter-widgets/base",
            "_model_module_version": "1.5.0",
            "_view_count": null,
            "_view_module_version": "1.2.0",
            "bar_color": null,
            "_model_module": "@jupyter-widgets/controls"
          }
        },
        "370ecb1170f3428b90dada70d1cf2d60": {
          "model_module": "@jupyter-widgets/base",
          "model_name": "LayoutModel",
          "state": {
            "_view_name": "LayoutView",
            "grid_template_rows": null,
            "right": null,
            "justify_content": null,
            "_view_module": "@jupyter-widgets/base",
            "overflow": null,
            "_model_module_version": "1.2.0",
            "_view_count": null,
            "flex_flow": null,
            "width": null,
            "min_width": null,
            "border": null,
            "align_items": null,
            "bottom": null,
            "_model_module": "@jupyter-widgets/base",
            "top": null,
            "grid_column": null,
            "overflow_y": null,
            "overflow_x": null,
            "grid_auto_flow": null,
            "grid_area": null,
            "grid_template_columns": null,
            "flex": null,
            "_model_name": "LayoutModel",
            "justify_items": null,
            "grid_row": null,
            "max_height": null,
            "align_content": null,
            "visibility": null,
            "align_self": null,
            "height": null,
            "min_height": null,
            "padding": null,
            "grid_auto_rows": null,
            "grid_gap": null,
            "max_width": null,
            "order": null,
            "_view_module_version": "1.2.0",
            "grid_template_areas": null,
            "object_position": null,
            "object_fit": null,
            "grid_auto_columns": null,
            "margin": null,
            "display": null,
            "left": null
          }
        },
        "f16af137e4d944e692abd1875bacce5a": {
          "model_module": "@jupyter-widgets/controls",
          "model_name": "IntProgressModel",
          "state": {
            "_view_name": "ProgressView",
            "style": "IPY_MODEL_acad5a7ce0c040fcb97c65d6aa6fe95b",
            "_dom_classes": [],
            "description": "Processing: ",
            "_model_name": "IntProgressModel",
            "bar_style": "",
            "max": 7,
            "_view_module": "@jupyter-widgets/controls",
            "_model_module_version": "1.5.0",
            "value": 7,
            "_view_count": null,
            "_view_module_version": "1.5.0",
            "orientation": "horizontal",
            "min": 0,
            "description_tooltip": null,
            "_model_module": "@jupyter-widgets/controls",
            "layout": "IPY_MODEL_3ce936161bfb44fb9ab2fd1f6ed6640f"
          }
        },
        "acad5a7ce0c040fcb97c65d6aa6fe95b": {
          "model_module": "@jupyter-widgets/controls",
          "model_name": "ProgressStyleModel",
          "state": {
            "_view_name": "StyleView",
            "_model_name": "ProgressStyleModel",
            "description_width": "",
            "_view_module": "@jupyter-widgets/base",
            "_model_module_version": "1.5.0",
            "_view_count": null,
            "_view_module_version": "1.2.0",
            "bar_color": null,
            "_model_module": "@jupyter-widgets/controls"
          }
        },
        "3ce936161bfb44fb9ab2fd1f6ed6640f": {
          "model_module": "@jupyter-widgets/base",
          "model_name": "LayoutModel",
          "state": {
            "_view_name": "LayoutView",
            "grid_template_rows": null,
            "right": null,
            "justify_content": null,
            "_view_module": "@jupyter-widgets/base",
            "overflow": null,
            "_model_module_version": "1.2.0",
            "_view_count": null,
            "flex_flow": null,
            "width": null,
            "min_width": null,
            "border": null,
            "align_items": null,
            "bottom": null,
            "_model_module": "@jupyter-widgets/base",
            "top": null,
            "grid_column": null,
            "overflow_y": null,
            "overflow_x": null,
            "grid_auto_flow": null,
            "grid_area": null,
            "grid_template_columns": null,
            "flex": null,
            "_model_name": "LayoutModel",
            "justify_items": null,
            "grid_row": null,
            "max_height": null,
            "align_content": null,
            "visibility": null,
            "align_self": null,
            "height": null,
            "min_height": null,
            "padding": null,
            "grid_auto_rows": null,
            "grid_gap": null,
            "max_width": null,
            "order": null,
            "_view_module_version": "1.2.0",
            "grid_template_areas": null,
            "object_position": null,
            "object_fit": null,
            "grid_auto_columns": null,
            "margin": null,
            "display": null,
            "left": null
          }
        }
      }
    }
  },
  "cells": [
    {
      "cell_type": "markdown",
      "metadata": {
        "id": "view-in-github",
        "colab_type": "text"
      },
      "source": [
        "<a href=\"https://colab.research.google.com/github/MoonJaeHoon/dacon_restaurant_num_people/blob/master/%5B72_7582%5DPycaret_Modeling_79_828%EC%88%98%EC%A0%95.ipynb\" target=\"_parent\"><img src=\"https://colab.research.google.com/assets/colab-badge.svg\" alt=\"Open In Colab\"/></a>"
      ]
    },
    {
      "cell_type": "markdown",
      "metadata": {
        "id": "MPsjLyq1hRm_"
      },
      "source": [
        "# 2. 한글 패치 (matplotlib)"
      ]
    },
    {
      "cell_type": "code",
      "metadata": {
        "colab": {
          "base_uri": "https://localhost:8080/"
        },
        "id": "x3xUXl93IQx3",
        "outputId": "c8d7de76-2fcd-4ef5-b2a3-69a3104ad4b4"
      },
      "source": [
        "from google.colab import drive\n",
        "drive.mount('/content/drive')"
      ],
      "execution_count": 1,
      "outputs": [
        {
          "output_type": "stream",
          "text": [
            "Drive already mounted at /content/drive; to attempt to forcibly remount, call drive.mount(\"/content/drive\", force_remount=True).\n"
          ],
          "name": "stdout"
        }
      ]
    },
    {
      "cell_type": "code",
      "metadata": {
        "colab": {
          "base_uri": "https://localhost:8080/"
        },
        "id": "VlyNvpVXIkNm",
        "outputId": "eac4476c-e53c-4217-e3a1-69f592298da0"
      },
      "source": [
        "cd /content/drive/MyDrive"
      ],
      "execution_count": 2,
      "outputs": [
        {
          "output_type": "stream",
          "text": [
            "/content/drive/MyDrive\n"
          ],
          "name": "stdout"
        }
      ]
    },
    {
      "cell_type": "code",
      "metadata": {
        "id": "0nsJZqH6hQQv"
      },
      "source": [
        "# Step 1. Matplotlib 업그레이드\n",
        "!pip install matplotlib -U\n",
        "\n",
        "# Step 2. 한글 설치 및 사용 설정\n",
        "!sudo apt-get install -y fonts-nanum\n",
        "!sudo fc-cache -fv\n",
        "!rm ~/.cache/matplotlib -rf\n",
        "\n",
        "# Step 3. 런타임 재시작"
      ],
      "execution_count": null,
      "outputs": []
    },
    {
      "cell_type": "code",
      "metadata": {
        "id": "Ti8krtu0hWgO"
      },
      "source": [
        "# Step 4. 한글 글꼴 설정\n",
        "import matplotlib.pyplot as plt\n",
        "from matplotlib import font_manager, rc\n",
        "\n",
        "plt.rcParams['font.family']=['NanumGothic', 'sans-serif']\n",
        "plt.rcParams['axes.unicode_minus'] = False"
      ],
      "execution_count": 3,
      "outputs": []
    },
    {
      "cell_type": "markdown",
      "metadata": {
        "id": "eRrwo3Zohftz"
      },
      "source": [
        "# 3. 기타 설정 (임포트 등)"
      ]
    },
    {
      "cell_type": "code",
      "metadata": {
        "id": "3DAtET_OhiTF",
        "colab": {
          "base_uri": "https://localhost:8080/"
        },
        "outputId": "e4a3478a-eff5-46f5-d3a2-051649b62760"
      },
      "source": [
        "import pandas as pd\n",
        "import numpy as np\n",
        "from tqdm import tqdm, tqdm_notebook\n",
        "import os\n",
        "import random\n",
        "import time\n",
        "from datetime import timedelta, timezone, datetime\n",
        "from copy import deepcopy\n",
        "from collections import defaultdict\n",
        "# 한글폰트 설정, 그래프 마이너스 표시 설정\n",
        "import matplotlib\n",
        "import platform\n",
        "import seaborn as sns\n",
        "import warnings\n",
        "warnings.filterwarnings('ignore')\n",
        "\n",
        "seed=47\n",
        "def set_seed(seed: int = 42, contain_cuda: bool = False):\n",
        "    random.seed(seed)\n",
        "    np.random.seed(seed)\n",
        "\n",
        "    # if contain_cuda:\n",
        "    #     torch.backends.cudnn.deterministic = True\n",
        "    #     torch.backends.cudnn.benchmark = False\n",
        "\n",
        "    # torch.manual_seed(seed)\n",
        "    # torch.cuda.manual_seed(seed)\n",
        "    # torch.cuda.manual_seed_all(seed)\n",
        "    print(f\"Seed set as {seed}\")\n",
        "set_seed(seed)"
      ],
      "execution_count": 4,
      "outputs": [
        {
          "output_type": "stream",
          "text": [
            "Seed set as 47\n"
          ],
          "name": "stdout"
        }
      ]
    },
    {
      "cell_type": "markdown",
      "metadata": {
        "id": "4EmraMPChldg"
      },
      "source": [
        "# 4. 데이터 불러오기"
      ]
    },
    {
      "cell_type": "code",
      "metadata": {
        "id": "Pzybxsxkhkqk"
      },
      "source": [
        "train = pd.read_csv('./data/train.csv')\n",
        "test = pd.read_csv('./data/test.csv')"
      ],
      "execution_count": 5,
      "outputs": []
    },
    {
      "cell_type": "code",
      "metadata": {
        "colab": {
          "base_uri": "https://localhost:8080/",
          "height": 489
        },
        "id": "q55OX81EhuQo",
        "outputId": "1a350b3a-fce5-4cc5-eb88-3c1ba7ab0018"
      },
      "source": [
        "train.head()"
      ],
      "execution_count": 6,
      "outputs": [
        {
          "output_type": "execute_result",
          "data": {
            "text/html": [
              "<div>\n",
              "<style scoped>\n",
              "    .dataframe tbody tr th:only-of-type {\n",
              "        vertical-align: middle;\n",
              "    }\n",
              "\n",
              "    .dataframe tbody tr th {\n",
              "        vertical-align: top;\n",
              "    }\n",
              "\n",
              "    .dataframe thead th {\n",
              "        text-align: right;\n",
              "    }\n",
              "</style>\n",
              "<table border=\"1\" class=\"dataframe\">\n",
              "  <thead>\n",
              "    <tr style=\"text-align: right;\">\n",
              "      <th></th>\n",
              "      <th>일자</th>\n",
              "      <th>요일</th>\n",
              "      <th>본사정원수</th>\n",
              "      <th>본사휴가자수</th>\n",
              "      <th>본사출장자수</th>\n",
              "      <th>본사시간외근무명령서승인건수</th>\n",
              "      <th>현본사소속재택근무자수</th>\n",
              "      <th>조식메뉴</th>\n",
              "      <th>중식메뉴</th>\n",
              "      <th>석식메뉴</th>\n",
              "      <th>중식계</th>\n",
              "      <th>석식계</th>\n",
              "    </tr>\n",
              "  </thead>\n",
              "  <tbody>\n",
              "    <tr>\n",
              "      <th>0</th>\n",
              "      <td>2016-02-01</td>\n",
              "      <td>월</td>\n",
              "      <td>2601</td>\n",
              "      <td>50</td>\n",
              "      <td>150</td>\n",
              "      <td>238</td>\n",
              "      <td>0.0</td>\n",
              "      <td>모닝롤/찐빵  우유/두유/주스 계란후라이  호두죽/쌀밥 (쌀:국내산) 된장찌개  쥐...</td>\n",
              "      <td>쌀밥/잡곡밥 (쌀,현미흑미:국내산) 오징어찌개  쇠불고기 (쇠고기:호주산) 계란찜 ...</td>\n",
              "      <td>쌀밥/잡곡밥 (쌀,현미흑미:국내산) 육개장  자반고등어구이  두부조림  건파래무침 ...</td>\n",
              "      <td>1039.0</td>\n",
              "      <td>331.0</td>\n",
              "    </tr>\n",
              "    <tr>\n",
              "      <th>1</th>\n",
              "      <td>2016-02-02</td>\n",
              "      <td>화</td>\n",
              "      <td>2601</td>\n",
              "      <td>50</td>\n",
              "      <td>173</td>\n",
              "      <td>319</td>\n",
              "      <td>0.0</td>\n",
              "      <td>모닝롤/단호박샌드  우유/두유/주스 계란후라이  팥죽/쌀밥 (쌀:국내산) 호박젓국찌...</td>\n",
              "      <td>쌀밥/잡곡밥 (쌀,현미흑미:국내산) 김치찌개  가자미튀김  모둠소세지구이  마늘쫑무...</td>\n",
              "      <td>콩나물밥*양념장 (쌀,현미흑미:국내산) 어묵국  유산슬 (쇠고기:호주산) 아삭고추무...</td>\n",
              "      <td>867.0</td>\n",
              "      <td>560.0</td>\n",
              "    </tr>\n",
              "    <tr>\n",
              "      <th>2</th>\n",
              "      <td>2016-02-03</td>\n",
              "      <td>수</td>\n",
              "      <td>2601</td>\n",
              "      <td>56</td>\n",
              "      <td>180</td>\n",
              "      <td>111</td>\n",
              "      <td>0.0</td>\n",
              "      <td>모닝롤/베이글  우유/두유/주스 계란후라이  표고버섯죽/쌀밥 (쌀:국내산) 콩나물국...</td>\n",
              "      <td>카레덮밥 (쌀,현미흑미:국내산) 팽이장국  치킨핑거 (닭고기:국내산) 쫄면야채무침 ...</td>\n",
              "      <td>쌀밥/잡곡밥 (쌀,현미흑미:국내산) 청국장찌개  황태양념구이 (황태:러시아산) 고기...</td>\n",
              "      <td>1017.0</td>\n",
              "      <td>573.0</td>\n",
              "    </tr>\n",
              "    <tr>\n",
              "      <th>3</th>\n",
              "      <td>2016-02-04</td>\n",
              "      <td>목</td>\n",
              "      <td>2601</td>\n",
              "      <td>104</td>\n",
              "      <td>220</td>\n",
              "      <td>355</td>\n",
              "      <td>0.0</td>\n",
              "      <td>모닝롤/토마토샌드  우유/두유/주스 계란후라이  닭죽/쌀밥 (쌀,닭:국내산) 근대국...</td>\n",
              "      <td>쌀밥/잡곡밥 (쌀,현미흑미:국내산) 쇠고기무국  주꾸미볶음  부추전  시금치나물  ...</td>\n",
              "      <td>미니김밥*겨자장 (쌀,현미흑미:국내산) 우동  멕시칸샐러드  군고구마  무피클  포...</td>\n",
              "      <td>978.0</td>\n",
              "      <td>525.0</td>\n",
              "    </tr>\n",
              "    <tr>\n",
              "      <th>4</th>\n",
              "      <td>2016-02-05</td>\n",
              "      <td>금</td>\n",
              "      <td>2601</td>\n",
              "      <td>278</td>\n",
              "      <td>181</td>\n",
              "      <td>34</td>\n",
              "      <td>0.0</td>\n",
              "      <td>모닝롤/와플  우유/두유/주스 계란후라이  쇠고기죽/쌀밥 (쌀:국내산) 재첩국  방...</td>\n",
              "      <td>쌀밥/잡곡밥 (쌀,현미흑미:국내산) 떡국  돈육씨앗강정 (돼지고기:국내산) 우엉잡채...</td>\n",
              "      <td>쌀밥/잡곡밥 (쌀,현미흑미:국내산) 차돌박이찌개 (쇠고기:호주산) 닭갈비 (닭고기:...</td>\n",
              "      <td>925.0</td>\n",
              "      <td>330.0</td>\n",
              "    </tr>\n",
              "  </tbody>\n",
              "</table>\n",
              "</div>"
            ],
            "text/plain": [
              "           일자 요일  ...     중식계    석식계\n",
              "0  2016-02-01  월  ...  1039.0  331.0\n",
              "1  2016-02-02  화  ...   867.0  560.0\n",
              "2  2016-02-03  수  ...  1017.0  573.0\n",
              "3  2016-02-04  목  ...   978.0  525.0\n",
              "4  2016-02-05  금  ...   925.0  330.0\n",
              "\n",
              "[5 rows x 12 columns]"
            ]
          },
          "metadata": {
            "tags": []
          },
          "execution_count": 6
        }
      ]
    },
    {
      "cell_type": "code",
      "metadata": {
        "colab": {
          "base_uri": "https://localhost:8080/",
          "height": 472
        },
        "id": "kPf-WyvphvHw",
        "outputId": "b0cb7de3-4712-4038-9978-b6e4f71d0710"
      },
      "source": [
        "test.head()"
      ],
      "execution_count": 7,
      "outputs": [
        {
          "output_type": "execute_result",
          "data": {
            "text/html": [
              "<div>\n",
              "<style scoped>\n",
              "    .dataframe tbody tr th:only-of-type {\n",
              "        vertical-align: middle;\n",
              "    }\n",
              "\n",
              "    .dataframe tbody tr th {\n",
              "        vertical-align: top;\n",
              "    }\n",
              "\n",
              "    .dataframe thead th {\n",
              "        text-align: right;\n",
              "    }\n",
              "</style>\n",
              "<table border=\"1\" class=\"dataframe\">\n",
              "  <thead>\n",
              "    <tr style=\"text-align: right;\">\n",
              "      <th></th>\n",
              "      <th>일자</th>\n",
              "      <th>요일</th>\n",
              "      <th>본사정원수</th>\n",
              "      <th>본사휴가자수</th>\n",
              "      <th>본사출장자수</th>\n",
              "      <th>본사시간외근무명령서승인건수</th>\n",
              "      <th>현본사소속재택근무자수</th>\n",
              "      <th>조식메뉴</th>\n",
              "      <th>중식메뉴</th>\n",
              "      <th>석식메뉴</th>\n",
              "    </tr>\n",
              "  </thead>\n",
              "  <tbody>\n",
              "    <tr>\n",
              "      <th>0</th>\n",
              "      <td>2021-01-27</td>\n",
              "      <td>수</td>\n",
              "      <td>2983</td>\n",
              "      <td>88</td>\n",
              "      <td>182</td>\n",
              "      <td>5</td>\n",
              "      <td>358.0</td>\n",
              "      <td>모닝롤/연유버터베이글 우유/주스 계란후라이/찐계란 단호박죽/흑미밥 우거지국 고기완자...</td>\n",
              "      <td>쌀밥/흑미밥/찰현미밥 대구지리 매운돈갈비찜 오꼬노미계란말이 상추무침 포기김치 양상추...</td>\n",
              "      <td>흑미밥 얼큰순두부찌개 쇠고기우엉볶음 버섯햄볶음 (New)아삭이고추무절임 포기김치</td>\n",
              "    </tr>\n",
              "    <tr>\n",
              "      <th>1</th>\n",
              "      <td>2021-01-28</td>\n",
              "      <td>목</td>\n",
              "      <td>2983</td>\n",
              "      <td>104</td>\n",
              "      <td>212</td>\n",
              "      <td>409</td>\n",
              "      <td>348.0</td>\n",
              "      <td>모닝롤/대만샌드위치 우유/주스 계란후라이/찐계란 누룽지탕/흑미밥 황태국 시래기지짐 ...</td>\n",
              "      <td>쌀밥/보리밥/찰현미밥 우렁된장찌개 오리주물럭 청양부추전 수제삼색무쌈 겉절이김치 양상...</td>\n",
              "      <td>충무김밥 우동국물 오징어무침 꽃맛살샐러드 얼갈이쌈장무침 석박지</td>\n",
              "    </tr>\n",
              "    <tr>\n",
              "      <th>2</th>\n",
              "      <td>2021-01-29</td>\n",
              "      <td>금</td>\n",
              "      <td>2983</td>\n",
              "      <td>270</td>\n",
              "      <td>249</td>\n",
              "      <td>0</td>\n",
              "      <td>294.0</td>\n",
              "      <td>모닝롤/핫케익 우유/주스 계란후라이/찐계란 오곡죽/흑미밥 매생이굴국 고구마순볶음 양...</td>\n",
              "      <td>쌀밥/흑미밥/찰현미밥 팽이장국 수제돈까스*소스 가자미조림 동초나물무침 포기김치 양상...</td>\n",
              "      <td>흑미밥 물만둣국 카레찜닭 숯불양념꼬지어묵 꼬시래기무침 포기김치</td>\n",
              "    </tr>\n",
              "    <tr>\n",
              "      <th>3</th>\n",
              "      <td>2021-02-01</td>\n",
              "      <td>월</td>\n",
              "      <td>2924</td>\n",
              "      <td>108</td>\n",
              "      <td>154</td>\n",
              "      <td>538</td>\n",
              "      <td>322.0</td>\n",
              "      <td>모닝롤/촉촉한치즈케익 우유/주스 계란후라이/찐계란 누룽지탕/흑미밥 두부김칫국 새우완...</td>\n",
              "      <td>쌀밥/흑미밥/찰현미밥 배추들깨국 오리대패불고기 시금치프리타타 부추고추장무침 포기김치...</td>\n",
              "      <td>흑미밥 동태탕 돈육꽈리고추장조림 당면채소무침 모자반무침 포기김치</td>\n",
              "    </tr>\n",
              "    <tr>\n",
              "      <th>4</th>\n",
              "      <td>2021-02-02</td>\n",
              "      <td>화</td>\n",
              "      <td>2924</td>\n",
              "      <td>62</td>\n",
              "      <td>186</td>\n",
              "      <td>455</td>\n",
              "      <td>314.0</td>\n",
              "      <td>모닝롤/토마토샌드 우유/주스 계란후라이/찐계란 채소죽/흑미밥 호박맑은국 오이생채 양...</td>\n",
              "      <td>쌀밥/팥밥/찰현미밥 부대찌개 닭살데리야끼조림 버섯탕수 세발나물무침 알타리김치/사과푸...</td>\n",
              "      <td>흑미밥 바지락살국 쇠고기청경채볶음 두부구이*볶은김치 머위된장무침 백김치</td>\n",
              "    </tr>\n",
              "  </tbody>\n",
              "</table>\n",
              "</div>"
            ],
            "text/plain": [
              "           일자  ...                                           석식메뉴\n",
              "0  2021-01-27  ...  흑미밥 얼큰순두부찌개 쇠고기우엉볶음 버섯햄볶음 (New)아삭이고추무절임 포기김치 \n",
              "1  2021-01-28  ...            충무김밥 우동국물 오징어무침 꽃맛살샐러드 얼갈이쌈장무침 석박지 \n",
              "2  2021-01-29  ...            흑미밥 물만둣국 카레찜닭 숯불양념꼬지어묵 꼬시래기무침 포기김치 \n",
              "3  2021-02-01  ...           흑미밥 동태탕 돈육꽈리고추장조림 당면채소무침 모자반무침 포기김치 \n",
              "4  2021-02-02  ...       흑미밥 바지락살국 쇠고기청경채볶음 두부구이*볶은김치 머위된장무침 백김치 \n",
              "\n",
              "[5 rows x 10 columns]"
            ]
          },
          "metadata": {
            "tags": []
          },
          "execution_count": 7
        }
      ]
    },
    {
      "cell_type": "code",
      "metadata": {
        "colab": {
          "base_uri": "https://localhost:8080/"
        },
        "id": "IjXAdD_ciMnC",
        "outputId": "892af2c0-4d66-4e09-ea6f-99b74422a083"
      },
      "source": [
        "train.info()"
      ],
      "execution_count": 8,
      "outputs": [
        {
          "output_type": "stream",
          "text": [
            "<class 'pandas.core.frame.DataFrame'>\n",
            "RangeIndex: 1205 entries, 0 to 1204\n",
            "Data columns (total 12 columns):\n",
            " #   Column          Non-Null Count  Dtype  \n",
            "---  ------          --------------  -----  \n",
            " 0   일자              1205 non-null   object \n",
            " 1   요일              1205 non-null   object \n",
            " 2   본사정원수           1205 non-null   int64  \n",
            " 3   본사휴가자수          1205 non-null   int64  \n",
            " 4   본사출장자수          1205 non-null   int64  \n",
            " 5   본사시간외근무명령서승인건수  1205 non-null   int64  \n",
            " 6   현본사소속재택근무자수     1205 non-null   float64\n",
            " 7   조식메뉴            1205 non-null   object \n",
            " 8   중식메뉴            1205 non-null   object \n",
            " 9   석식메뉴            1205 non-null   object \n",
            " 10  중식계             1205 non-null   float64\n",
            " 11  석식계             1205 non-null   float64\n",
            "dtypes: float64(3), int64(4), object(5)\n",
            "memory usage: 113.1+ KB\n"
          ],
          "name": "stdout"
        }
      ]
    },
    {
      "cell_type": "code",
      "metadata": {
        "colab": {
          "base_uri": "https://localhost:8080/"
        },
        "id": "bSqBiU1tiOqv",
        "outputId": "e9c4e679-18e0-4aa8-9f60-5a524dbb344c"
      },
      "source": [
        "test.info()"
      ],
      "execution_count": 9,
      "outputs": [
        {
          "output_type": "stream",
          "text": [
            "<class 'pandas.core.frame.DataFrame'>\n",
            "RangeIndex: 50 entries, 0 to 49\n",
            "Data columns (total 10 columns):\n",
            " #   Column          Non-Null Count  Dtype  \n",
            "---  ------          --------------  -----  \n",
            " 0   일자              50 non-null     object \n",
            " 1   요일              50 non-null     object \n",
            " 2   본사정원수           50 non-null     int64  \n",
            " 3   본사휴가자수          50 non-null     int64  \n",
            " 4   본사출장자수          50 non-null     int64  \n",
            " 5   본사시간외근무명령서승인건수  50 non-null     int64  \n",
            " 6   현본사소속재택근무자수     50 non-null     float64\n",
            " 7   조식메뉴            50 non-null     object \n",
            " 8   중식메뉴            50 non-null     object \n",
            " 9   석식메뉴            50 non-null     object \n",
            "dtypes: float64(1), int64(4), object(5)\n",
            "memory usage: 4.0+ KB\n"
          ],
          "name": "stdout"
        }
      ]
    },
    {
      "cell_type": "markdown",
      "metadata": {
        "id": "sgzwuR0ohx-7"
      },
      "source": [
        "# 5. 데이터 정제 (Dtype: object)\n",
        "\n",
        "1. 조식, 중식, 석식메뉴는 버리기 (drop)\n",
        "2. 일자, 요일은 라벨 인코딩 (숫자형으로 변환)"
      ]
    },
    {
      "cell_type": "markdown",
      "metadata": {
        "id": "7xvkl4ZKiz_Z"
      },
      "source": [
        "## 1. 조식, 중식, 석식메뉴는 버리기 (drop)"
      ]
    },
    {
      "cell_type": "code",
      "metadata": {
        "id": "J10l4Bynhvsg"
      },
      "source": [
        "drops = ['조식메뉴', '중식메뉴', '석식메뉴']\n",
        "\n",
        "train = train.drop(drops, axis=1)\n",
        "test = test.drop(drops, axis=1)"
      ],
      "execution_count": 10,
      "outputs": []
    },
    {
      "cell_type": "code",
      "metadata": {
        "colab": {
          "base_uri": "https://localhost:8080/",
          "height": 203
        },
        "id": "sBhs6ddJiB8A",
        "outputId": "ed0613ec-720c-46a5-fb17-4126c368eb8b"
      },
      "source": [
        "train.head()"
      ],
      "execution_count": 11,
      "outputs": [
        {
          "output_type": "execute_result",
          "data": {
            "text/html": [
              "<div>\n",
              "<style scoped>\n",
              "    .dataframe tbody tr th:only-of-type {\n",
              "        vertical-align: middle;\n",
              "    }\n",
              "\n",
              "    .dataframe tbody tr th {\n",
              "        vertical-align: top;\n",
              "    }\n",
              "\n",
              "    .dataframe thead th {\n",
              "        text-align: right;\n",
              "    }\n",
              "</style>\n",
              "<table border=\"1\" class=\"dataframe\">\n",
              "  <thead>\n",
              "    <tr style=\"text-align: right;\">\n",
              "      <th></th>\n",
              "      <th>일자</th>\n",
              "      <th>요일</th>\n",
              "      <th>본사정원수</th>\n",
              "      <th>본사휴가자수</th>\n",
              "      <th>본사출장자수</th>\n",
              "      <th>본사시간외근무명령서승인건수</th>\n",
              "      <th>현본사소속재택근무자수</th>\n",
              "      <th>중식계</th>\n",
              "      <th>석식계</th>\n",
              "    </tr>\n",
              "  </thead>\n",
              "  <tbody>\n",
              "    <tr>\n",
              "      <th>0</th>\n",
              "      <td>2016-02-01</td>\n",
              "      <td>월</td>\n",
              "      <td>2601</td>\n",
              "      <td>50</td>\n",
              "      <td>150</td>\n",
              "      <td>238</td>\n",
              "      <td>0.0</td>\n",
              "      <td>1039.0</td>\n",
              "      <td>331.0</td>\n",
              "    </tr>\n",
              "    <tr>\n",
              "      <th>1</th>\n",
              "      <td>2016-02-02</td>\n",
              "      <td>화</td>\n",
              "      <td>2601</td>\n",
              "      <td>50</td>\n",
              "      <td>173</td>\n",
              "      <td>319</td>\n",
              "      <td>0.0</td>\n",
              "      <td>867.0</td>\n",
              "      <td>560.0</td>\n",
              "    </tr>\n",
              "    <tr>\n",
              "      <th>2</th>\n",
              "      <td>2016-02-03</td>\n",
              "      <td>수</td>\n",
              "      <td>2601</td>\n",
              "      <td>56</td>\n",
              "      <td>180</td>\n",
              "      <td>111</td>\n",
              "      <td>0.0</td>\n",
              "      <td>1017.0</td>\n",
              "      <td>573.0</td>\n",
              "    </tr>\n",
              "    <tr>\n",
              "      <th>3</th>\n",
              "      <td>2016-02-04</td>\n",
              "      <td>목</td>\n",
              "      <td>2601</td>\n",
              "      <td>104</td>\n",
              "      <td>220</td>\n",
              "      <td>355</td>\n",
              "      <td>0.0</td>\n",
              "      <td>978.0</td>\n",
              "      <td>525.0</td>\n",
              "    </tr>\n",
              "    <tr>\n",
              "      <th>4</th>\n",
              "      <td>2016-02-05</td>\n",
              "      <td>금</td>\n",
              "      <td>2601</td>\n",
              "      <td>278</td>\n",
              "      <td>181</td>\n",
              "      <td>34</td>\n",
              "      <td>0.0</td>\n",
              "      <td>925.0</td>\n",
              "      <td>330.0</td>\n",
              "    </tr>\n",
              "  </tbody>\n",
              "</table>\n",
              "</div>"
            ],
            "text/plain": [
              "           일자 요일  본사정원수  본사휴가자수  ...  본사시간외근무명령서승인건수  현본사소속재택근무자수     중식계    석식계\n",
              "0  2016-02-01  월   2601      50  ...             238          0.0  1039.0  331.0\n",
              "1  2016-02-02  화   2601      50  ...             319          0.0   867.0  560.0\n",
              "2  2016-02-03  수   2601      56  ...             111          0.0  1017.0  573.0\n",
              "3  2016-02-04  목   2601     104  ...             355          0.0   978.0  525.0\n",
              "4  2016-02-05  금   2601     278  ...              34          0.0   925.0  330.0\n",
              "\n",
              "[5 rows x 9 columns]"
            ]
          },
          "metadata": {
            "tags": []
          },
          "execution_count": 11
        }
      ]
    },
    {
      "cell_type": "code",
      "metadata": {
        "colab": {
          "base_uri": "https://localhost:8080/",
          "height": 203
        },
        "id": "_jWRSKz3iEIk",
        "outputId": "b30d85ae-8356-406e-a234-9c34d8258aa1"
      },
      "source": [
        "test.head()"
      ],
      "execution_count": 12,
      "outputs": [
        {
          "output_type": "execute_result",
          "data": {
            "text/html": [
              "<div>\n",
              "<style scoped>\n",
              "    .dataframe tbody tr th:only-of-type {\n",
              "        vertical-align: middle;\n",
              "    }\n",
              "\n",
              "    .dataframe tbody tr th {\n",
              "        vertical-align: top;\n",
              "    }\n",
              "\n",
              "    .dataframe thead th {\n",
              "        text-align: right;\n",
              "    }\n",
              "</style>\n",
              "<table border=\"1\" class=\"dataframe\">\n",
              "  <thead>\n",
              "    <tr style=\"text-align: right;\">\n",
              "      <th></th>\n",
              "      <th>일자</th>\n",
              "      <th>요일</th>\n",
              "      <th>본사정원수</th>\n",
              "      <th>본사휴가자수</th>\n",
              "      <th>본사출장자수</th>\n",
              "      <th>본사시간외근무명령서승인건수</th>\n",
              "      <th>현본사소속재택근무자수</th>\n",
              "    </tr>\n",
              "  </thead>\n",
              "  <tbody>\n",
              "    <tr>\n",
              "      <th>0</th>\n",
              "      <td>2021-01-27</td>\n",
              "      <td>수</td>\n",
              "      <td>2983</td>\n",
              "      <td>88</td>\n",
              "      <td>182</td>\n",
              "      <td>5</td>\n",
              "      <td>358.0</td>\n",
              "    </tr>\n",
              "    <tr>\n",
              "      <th>1</th>\n",
              "      <td>2021-01-28</td>\n",
              "      <td>목</td>\n",
              "      <td>2983</td>\n",
              "      <td>104</td>\n",
              "      <td>212</td>\n",
              "      <td>409</td>\n",
              "      <td>348.0</td>\n",
              "    </tr>\n",
              "    <tr>\n",
              "      <th>2</th>\n",
              "      <td>2021-01-29</td>\n",
              "      <td>금</td>\n",
              "      <td>2983</td>\n",
              "      <td>270</td>\n",
              "      <td>249</td>\n",
              "      <td>0</td>\n",
              "      <td>294.0</td>\n",
              "    </tr>\n",
              "    <tr>\n",
              "      <th>3</th>\n",
              "      <td>2021-02-01</td>\n",
              "      <td>월</td>\n",
              "      <td>2924</td>\n",
              "      <td>108</td>\n",
              "      <td>154</td>\n",
              "      <td>538</td>\n",
              "      <td>322.0</td>\n",
              "    </tr>\n",
              "    <tr>\n",
              "      <th>4</th>\n",
              "      <td>2021-02-02</td>\n",
              "      <td>화</td>\n",
              "      <td>2924</td>\n",
              "      <td>62</td>\n",
              "      <td>186</td>\n",
              "      <td>455</td>\n",
              "      <td>314.0</td>\n",
              "    </tr>\n",
              "  </tbody>\n",
              "</table>\n",
              "</div>"
            ],
            "text/plain": [
              "           일자 요일  본사정원수  본사휴가자수  본사출장자수  본사시간외근무명령서승인건수  현본사소속재택근무자수\n",
              "0  2021-01-27  수   2983      88     182               5        358.0\n",
              "1  2021-01-28  목   2983     104     212             409        348.0\n",
              "2  2021-01-29  금   2983     270     249               0        294.0\n",
              "3  2021-02-01  월   2924     108     154             538        322.0\n",
              "4  2021-02-02  화   2924      62     186             455        314.0"
            ]
          },
          "metadata": {
            "tags": []
          },
          "execution_count": 12
        }
      ]
    },
    {
      "cell_type": "markdown",
      "metadata": {
        "id": "WNrRYx0Ti5C1"
      },
      "source": [
        "## 2. 일자, 요일은 라벨 인코딩 (숫자형으로 변환)"
      ]
    },
    {
      "cell_type": "code",
      "metadata": {
        "id": "BZc74IqEiEok"
      },
      "source": [
        "train['월'] = pd.DatetimeIndex(train['일자']).month\n",
        "test['월'] = pd.DatetimeIndex(test['일자']).month\n",
        "\n",
        "train['일'] = pd.DatetimeIndex(train['일자']).day\n",
        "test['일'] = pd.DatetimeIndex(test['일자']).day"
      ],
      "execution_count": 13,
      "outputs": []
    },
    {
      "cell_type": "code",
      "metadata": {
        "id": "PQa99hVhjpBd"
      },
      "source": [
        "weekday = {\n",
        "    '월': 1,\n",
        "    '화': 2,\n",
        "    '수': 3,\n",
        "    '목': 4,\n",
        "    '금': 5\n",
        "}\n",
        "\n",
        "train['요일'] = train['요일'].map(weekday)\n",
        "test['요일'] = test['요일'].map(weekday)"
      ],
      "execution_count": 14,
      "outputs": []
    },
    {
      "cell_type": "code",
      "metadata": {
        "colab": {
          "base_uri": "https://localhost:8080/",
          "height": 203
        },
        "id": "Y6HaBzTzkB57",
        "outputId": "f3cccc4b-7309-4e79-d9de-c49a80d7bf62"
      },
      "source": [
        "train.head()"
      ],
      "execution_count": 15,
      "outputs": [
        {
          "output_type": "execute_result",
          "data": {
            "text/html": [
              "<div>\n",
              "<style scoped>\n",
              "    .dataframe tbody tr th:only-of-type {\n",
              "        vertical-align: middle;\n",
              "    }\n",
              "\n",
              "    .dataframe tbody tr th {\n",
              "        vertical-align: top;\n",
              "    }\n",
              "\n",
              "    .dataframe thead th {\n",
              "        text-align: right;\n",
              "    }\n",
              "</style>\n",
              "<table border=\"1\" class=\"dataframe\">\n",
              "  <thead>\n",
              "    <tr style=\"text-align: right;\">\n",
              "      <th></th>\n",
              "      <th>일자</th>\n",
              "      <th>요일</th>\n",
              "      <th>본사정원수</th>\n",
              "      <th>본사휴가자수</th>\n",
              "      <th>본사출장자수</th>\n",
              "      <th>본사시간외근무명령서승인건수</th>\n",
              "      <th>현본사소속재택근무자수</th>\n",
              "      <th>중식계</th>\n",
              "      <th>석식계</th>\n",
              "      <th>월</th>\n",
              "      <th>일</th>\n",
              "    </tr>\n",
              "  </thead>\n",
              "  <tbody>\n",
              "    <tr>\n",
              "      <th>0</th>\n",
              "      <td>2016-02-01</td>\n",
              "      <td>1</td>\n",
              "      <td>2601</td>\n",
              "      <td>50</td>\n",
              "      <td>150</td>\n",
              "      <td>238</td>\n",
              "      <td>0.0</td>\n",
              "      <td>1039.0</td>\n",
              "      <td>331.0</td>\n",
              "      <td>2</td>\n",
              "      <td>1</td>\n",
              "    </tr>\n",
              "    <tr>\n",
              "      <th>1</th>\n",
              "      <td>2016-02-02</td>\n",
              "      <td>2</td>\n",
              "      <td>2601</td>\n",
              "      <td>50</td>\n",
              "      <td>173</td>\n",
              "      <td>319</td>\n",
              "      <td>0.0</td>\n",
              "      <td>867.0</td>\n",
              "      <td>560.0</td>\n",
              "      <td>2</td>\n",
              "      <td>2</td>\n",
              "    </tr>\n",
              "    <tr>\n",
              "      <th>2</th>\n",
              "      <td>2016-02-03</td>\n",
              "      <td>3</td>\n",
              "      <td>2601</td>\n",
              "      <td>56</td>\n",
              "      <td>180</td>\n",
              "      <td>111</td>\n",
              "      <td>0.0</td>\n",
              "      <td>1017.0</td>\n",
              "      <td>573.0</td>\n",
              "      <td>2</td>\n",
              "      <td>3</td>\n",
              "    </tr>\n",
              "    <tr>\n",
              "      <th>3</th>\n",
              "      <td>2016-02-04</td>\n",
              "      <td>4</td>\n",
              "      <td>2601</td>\n",
              "      <td>104</td>\n",
              "      <td>220</td>\n",
              "      <td>355</td>\n",
              "      <td>0.0</td>\n",
              "      <td>978.0</td>\n",
              "      <td>525.0</td>\n",
              "      <td>2</td>\n",
              "      <td>4</td>\n",
              "    </tr>\n",
              "    <tr>\n",
              "      <th>4</th>\n",
              "      <td>2016-02-05</td>\n",
              "      <td>5</td>\n",
              "      <td>2601</td>\n",
              "      <td>278</td>\n",
              "      <td>181</td>\n",
              "      <td>34</td>\n",
              "      <td>0.0</td>\n",
              "      <td>925.0</td>\n",
              "      <td>330.0</td>\n",
              "      <td>2</td>\n",
              "      <td>5</td>\n",
              "    </tr>\n",
              "  </tbody>\n",
              "</table>\n",
              "</div>"
            ],
            "text/plain": [
              "           일자  요일  본사정원수  본사휴가자수  본사출장자수  ...  현본사소속재택근무자수     중식계    석식계  월  일\n",
              "0  2016-02-01   1   2601      50     150  ...          0.0  1039.0  331.0  2  1\n",
              "1  2016-02-02   2   2601      50     173  ...          0.0   867.0  560.0  2  2\n",
              "2  2016-02-03   3   2601      56     180  ...          0.0  1017.0  573.0  2  3\n",
              "3  2016-02-04   4   2601     104     220  ...          0.0   978.0  525.0  2  4\n",
              "4  2016-02-05   5   2601     278     181  ...          0.0   925.0  330.0  2  5\n",
              "\n",
              "[5 rows x 11 columns]"
            ]
          },
          "metadata": {
            "tags": []
          },
          "execution_count": 15
        }
      ]
    },
    {
      "cell_type": "code",
      "metadata": {
        "colab": {
          "base_uri": "https://localhost:8080/",
          "height": 203
        },
        "id": "V22WddW8kEHa",
        "outputId": "2819c11e-81bb-41ba-e629-ac991d947fb4"
      },
      "source": [
        "test.head()"
      ],
      "execution_count": 16,
      "outputs": [
        {
          "output_type": "execute_result",
          "data": {
            "text/html": [
              "<div>\n",
              "<style scoped>\n",
              "    .dataframe tbody tr th:only-of-type {\n",
              "        vertical-align: middle;\n",
              "    }\n",
              "\n",
              "    .dataframe tbody tr th {\n",
              "        vertical-align: top;\n",
              "    }\n",
              "\n",
              "    .dataframe thead th {\n",
              "        text-align: right;\n",
              "    }\n",
              "</style>\n",
              "<table border=\"1\" class=\"dataframe\">\n",
              "  <thead>\n",
              "    <tr style=\"text-align: right;\">\n",
              "      <th></th>\n",
              "      <th>일자</th>\n",
              "      <th>요일</th>\n",
              "      <th>본사정원수</th>\n",
              "      <th>본사휴가자수</th>\n",
              "      <th>본사출장자수</th>\n",
              "      <th>본사시간외근무명령서승인건수</th>\n",
              "      <th>현본사소속재택근무자수</th>\n",
              "      <th>월</th>\n",
              "      <th>일</th>\n",
              "    </tr>\n",
              "  </thead>\n",
              "  <tbody>\n",
              "    <tr>\n",
              "      <th>0</th>\n",
              "      <td>2021-01-27</td>\n",
              "      <td>3</td>\n",
              "      <td>2983</td>\n",
              "      <td>88</td>\n",
              "      <td>182</td>\n",
              "      <td>5</td>\n",
              "      <td>358.0</td>\n",
              "      <td>1</td>\n",
              "      <td>27</td>\n",
              "    </tr>\n",
              "    <tr>\n",
              "      <th>1</th>\n",
              "      <td>2021-01-28</td>\n",
              "      <td>4</td>\n",
              "      <td>2983</td>\n",
              "      <td>104</td>\n",
              "      <td>212</td>\n",
              "      <td>409</td>\n",
              "      <td>348.0</td>\n",
              "      <td>1</td>\n",
              "      <td>28</td>\n",
              "    </tr>\n",
              "    <tr>\n",
              "      <th>2</th>\n",
              "      <td>2021-01-29</td>\n",
              "      <td>5</td>\n",
              "      <td>2983</td>\n",
              "      <td>270</td>\n",
              "      <td>249</td>\n",
              "      <td>0</td>\n",
              "      <td>294.0</td>\n",
              "      <td>1</td>\n",
              "      <td>29</td>\n",
              "    </tr>\n",
              "    <tr>\n",
              "      <th>3</th>\n",
              "      <td>2021-02-01</td>\n",
              "      <td>1</td>\n",
              "      <td>2924</td>\n",
              "      <td>108</td>\n",
              "      <td>154</td>\n",
              "      <td>538</td>\n",
              "      <td>322.0</td>\n",
              "      <td>2</td>\n",
              "      <td>1</td>\n",
              "    </tr>\n",
              "    <tr>\n",
              "      <th>4</th>\n",
              "      <td>2021-02-02</td>\n",
              "      <td>2</td>\n",
              "      <td>2924</td>\n",
              "      <td>62</td>\n",
              "      <td>186</td>\n",
              "      <td>455</td>\n",
              "      <td>314.0</td>\n",
              "      <td>2</td>\n",
              "      <td>2</td>\n",
              "    </tr>\n",
              "  </tbody>\n",
              "</table>\n",
              "</div>"
            ],
            "text/plain": [
              "           일자  요일  본사정원수  본사휴가자수  본사출장자수  본사시간외근무명령서승인건수  현본사소속재택근무자수  월   일\n",
              "0  2021-01-27   3   2983      88     182               5        358.0  1  27\n",
              "1  2021-01-28   4   2983     104     212             409        348.0  1  28\n",
              "2  2021-01-29   5   2983     270     249               0        294.0  1  29\n",
              "3  2021-02-01   1   2924     108     154             538        322.0  2   1\n",
              "4  2021-02-02   2   2924      62     186             455        314.0  2   2"
            ]
          },
          "metadata": {
            "tags": []
          },
          "execution_count": 16
        }
      ]
    },
    {
      "cell_type": "markdown",
      "metadata": {
        "id": "ZJBf2AZ9kTli"
      },
      "source": [
        "# 6. 데이터 정제 (아이디어)\n",
        "\n",
        "* 휴가자, 재택근무자는 중식/석식에 참여하지 않을 것이므로 본사정원수에서 차감한다.\n",
        "* 즉, **본사정원수 - 휴가자 - 재택근무자**\n",
        "\n",
        "* 식사참여율 = 식사계 / 식사가능자수"
      ]
    },
    {
      "cell_type": "code",
      "metadata": {
        "id": "EO7yYSm-kErh"
      },
      "source": [
        "train['식사가능자수'] = train['본사정원수'] - train['본사휴가자수'] - train['현본사소속재택근무자수']\n",
        "test['식사가능자수'] = test['본사정원수'] - test['본사휴가자수'] - test['현본사소속재택근무자수']"
      ],
      "execution_count": 17,
      "outputs": []
    },
    {
      "cell_type": "code",
      "metadata": {
        "id": "g30wOPvAZqTC"
      },
      "source": [
        "train['중식참여율'] = train['중식계'] / train['식사가능자수']\n",
        "train['석식참여율'] = train['석식계'] / train['식사가능자수']"
      ],
      "execution_count": 18,
      "outputs": []
    },
    {
      "cell_type": "markdown",
      "metadata": {
        "id": "SjEe8kH4k9yv"
      },
      "source": [
        "정제한 데이터를 정리하면,"
      ]
    },
    {
      "cell_type": "code",
      "metadata": {
        "id": "GgR_Cii9k5q1"
      },
      "source": [
        "features = ['월', '일', '요일', '식사가능자수', '본사출장자수', '본사시간외근무명령서승인건수']\n",
        "labels = ['중식계',\t'석식계', '중식참여율', '석식참여율']\n",
        "\n",
        "train = train[features+labels]\n",
        "test = test[features]"
      ],
      "execution_count": 19,
      "outputs": []
    },
    {
      "cell_type": "code",
      "metadata": {
        "colab": {
          "base_uri": "https://localhost:8080/",
          "height": 203
        },
        "id": "khAOSm-QlYTT",
        "outputId": "f9eac3df-e6fc-4a50-e32c-6350b3403fe1"
      },
      "source": [
        "train.head()"
      ],
      "execution_count": 20,
      "outputs": [
        {
          "output_type": "execute_result",
          "data": {
            "text/html": [
              "<div>\n",
              "<style scoped>\n",
              "    .dataframe tbody tr th:only-of-type {\n",
              "        vertical-align: middle;\n",
              "    }\n",
              "\n",
              "    .dataframe tbody tr th {\n",
              "        vertical-align: top;\n",
              "    }\n",
              "\n",
              "    .dataframe thead th {\n",
              "        text-align: right;\n",
              "    }\n",
              "</style>\n",
              "<table border=\"1\" class=\"dataframe\">\n",
              "  <thead>\n",
              "    <tr style=\"text-align: right;\">\n",
              "      <th></th>\n",
              "      <th>월</th>\n",
              "      <th>일</th>\n",
              "      <th>요일</th>\n",
              "      <th>식사가능자수</th>\n",
              "      <th>본사출장자수</th>\n",
              "      <th>본사시간외근무명령서승인건수</th>\n",
              "      <th>중식계</th>\n",
              "      <th>석식계</th>\n",
              "      <th>중식참여율</th>\n",
              "      <th>석식참여율</th>\n",
              "    </tr>\n",
              "  </thead>\n",
              "  <tbody>\n",
              "    <tr>\n",
              "      <th>0</th>\n",
              "      <td>2</td>\n",
              "      <td>1</td>\n",
              "      <td>1</td>\n",
              "      <td>2551.0</td>\n",
              "      <td>150</td>\n",
              "      <td>238</td>\n",
              "      <td>1039.0</td>\n",
              "      <td>331.0</td>\n",
              "      <td>0.407291</td>\n",
              "      <td>0.129753</td>\n",
              "    </tr>\n",
              "    <tr>\n",
              "      <th>1</th>\n",
              "      <td>2</td>\n",
              "      <td>2</td>\n",
              "      <td>2</td>\n",
              "      <td>2551.0</td>\n",
              "      <td>173</td>\n",
              "      <td>319</td>\n",
              "      <td>867.0</td>\n",
              "      <td>560.0</td>\n",
              "      <td>0.339867</td>\n",
              "      <td>0.219522</td>\n",
              "    </tr>\n",
              "    <tr>\n",
              "      <th>2</th>\n",
              "      <td>2</td>\n",
              "      <td>3</td>\n",
              "      <td>3</td>\n",
              "      <td>2545.0</td>\n",
              "      <td>180</td>\n",
              "      <td>111</td>\n",
              "      <td>1017.0</td>\n",
              "      <td>573.0</td>\n",
              "      <td>0.399607</td>\n",
              "      <td>0.225147</td>\n",
              "    </tr>\n",
              "    <tr>\n",
              "      <th>3</th>\n",
              "      <td>2</td>\n",
              "      <td>4</td>\n",
              "      <td>4</td>\n",
              "      <td>2497.0</td>\n",
              "      <td>220</td>\n",
              "      <td>355</td>\n",
              "      <td>978.0</td>\n",
              "      <td>525.0</td>\n",
              "      <td>0.391670</td>\n",
              "      <td>0.210252</td>\n",
              "    </tr>\n",
              "    <tr>\n",
              "      <th>4</th>\n",
              "      <td>2</td>\n",
              "      <td>5</td>\n",
              "      <td>5</td>\n",
              "      <td>2323.0</td>\n",
              "      <td>181</td>\n",
              "      <td>34</td>\n",
              "      <td>925.0</td>\n",
              "      <td>330.0</td>\n",
              "      <td>0.398192</td>\n",
              "      <td>0.142058</td>\n",
              "    </tr>\n",
              "  </tbody>\n",
              "</table>\n",
              "</div>"
            ],
            "text/plain": [
              "   월  일  요일  식사가능자수  본사출장자수  본사시간외근무명령서승인건수     중식계    석식계     중식참여율     석식참여율\n",
              "0  2  1   1  2551.0     150             238  1039.0  331.0  0.407291  0.129753\n",
              "1  2  2   2  2551.0     173             319   867.0  560.0  0.339867  0.219522\n",
              "2  2  3   3  2545.0     180             111  1017.0  573.0  0.399607  0.225147\n",
              "3  2  4   4  2497.0     220             355   978.0  525.0  0.391670  0.210252\n",
              "4  2  5   5  2323.0     181              34   925.0  330.0  0.398192  0.142058"
            ]
          },
          "metadata": {
            "tags": []
          },
          "execution_count": 20
        }
      ]
    },
    {
      "cell_type": "code",
      "metadata": {
        "colab": {
          "base_uri": "https://localhost:8080/",
          "height": 203
        },
        "id": "q5I-SwyClZHp",
        "outputId": "bb6a61f2-5bd2-4360-ffb0-5eb1fac0795f"
      },
      "source": [
        "test.head()"
      ],
      "execution_count": 21,
      "outputs": [
        {
          "output_type": "execute_result",
          "data": {
            "text/html": [
              "<div>\n",
              "<style scoped>\n",
              "    .dataframe tbody tr th:only-of-type {\n",
              "        vertical-align: middle;\n",
              "    }\n",
              "\n",
              "    .dataframe tbody tr th {\n",
              "        vertical-align: top;\n",
              "    }\n",
              "\n",
              "    .dataframe thead th {\n",
              "        text-align: right;\n",
              "    }\n",
              "</style>\n",
              "<table border=\"1\" class=\"dataframe\">\n",
              "  <thead>\n",
              "    <tr style=\"text-align: right;\">\n",
              "      <th></th>\n",
              "      <th>월</th>\n",
              "      <th>일</th>\n",
              "      <th>요일</th>\n",
              "      <th>식사가능자수</th>\n",
              "      <th>본사출장자수</th>\n",
              "      <th>본사시간외근무명령서승인건수</th>\n",
              "    </tr>\n",
              "  </thead>\n",
              "  <tbody>\n",
              "    <tr>\n",
              "      <th>0</th>\n",
              "      <td>1</td>\n",
              "      <td>27</td>\n",
              "      <td>3</td>\n",
              "      <td>2537.0</td>\n",
              "      <td>182</td>\n",
              "      <td>5</td>\n",
              "    </tr>\n",
              "    <tr>\n",
              "      <th>1</th>\n",
              "      <td>1</td>\n",
              "      <td>28</td>\n",
              "      <td>4</td>\n",
              "      <td>2531.0</td>\n",
              "      <td>212</td>\n",
              "      <td>409</td>\n",
              "    </tr>\n",
              "    <tr>\n",
              "      <th>2</th>\n",
              "      <td>1</td>\n",
              "      <td>29</td>\n",
              "      <td>5</td>\n",
              "      <td>2419.0</td>\n",
              "      <td>249</td>\n",
              "      <td>0</td>\n",
              "    </tr>\n",
              "    <tr>\n",
              "      <th>3</th>\n",
              "      <td>2</td>\n",
              "      <td>1</td>\n",
              "      <td>1</td>\n",
              "      <td>2494.0</td>\n",
              "      <td>154</td>\n",
              "      <td>538</td>\n",
              "    </tr>\n",
              "    <tr>\n",
              "      <th>4</th>\n",
              "      <td>2</td>\n",
              "      <td>2</td>\n",
              "      <td>2</td>\n",
              "      <td>2548.0</td>\n",
              "      <td>186</td>\n",
              "      <td>455</td>\n",
              "    </tr>\n",
              "  </tbody>\n",
              "</table>\n",
              "</div>"
            ],
            "text/plain": [
              "   월   일  요일  식사가능자수  본사출장자수  본사시간외근무명령서승인건수\n",
              "0  1  27   3  2537.0     182               5\n",
              "1  1  28   4  2531.0     212             409\n",
              "2  1  29   5  2419.0     249               0\n",
              "3  2   1   1  2494.0     154             538\n",
              "4  2   2   2  2548.0     186             455"
            ]
          },
          "metadata": {
            "tags": []
          },
          "execution_count": 21
        }
      ]
    },
    {
      "cell_type": "markdown",
      "metadata": {
        "id": "066topK0ldXh"
      },
      "source": [
        "# 7. EDA, 시각화, 상관관계분석\n",
        "\n",
        "1. 히트맵\n",
        "2. 라인그래프"
      ]
    },
    {
      "cell_type": "markdown",
      "metadata": {
        "id": "rHomDweHmEp6"
      },
      "source": [
        "## 1. 히트맵"
      ]
    },
    {
      "cell_type": "code",
      "metadata": {
        "colab": {
          "base_uri": "https://localhost:8080/",
          "height": 357
        },
        "id": "-9ukqKK0lZpR",
        "outputId": "c7f32335-f68c-4715-e9ae-1c3c4a92e9d7"
      },
      "source": [
        "train.corr()[['중식계', '석식계']]"
      ],
      "execution_count": 22,
      "outputs": [
        {
          "output_type": "execute_result",
          "data": {
            "text/html": [
              "<div>\n",
              "<style scoped>\n",
              "    .dataframe tbody tr th:only-of-type {\n",
              "        vertical-align: middle;\n",
              "    }\n",
              "\n",
              "    .dataframe tbody tr th {\n",
              "        vertical-align: top;\n",
              "    }\n",
              "\n",
              "    .dataframe thead th {\n",
              "        text-align: right;\n",
              "    }\n",
              "</style>\n",
              "<table border=\"1\" class=\"dataframe\">\n",
              "  <thead>\n",
              "    <tr style=\"text-align: right;\">\n",
              "      <th></th>\n",
              "      <th>중식계</th>\n",
              "      <th>석식계</th>\n",
              "    </tr>\n",
              "  </thead>\n",
              "  <tbody>\n",
              "    <tr>\n",
              "      <th>월</th>\n",
              "      <td>-0.154664</td>\n",
              "      <td>-0.127142</td>\n",
              "    </tr>\n",
              "    <tr>\n",
              "      <th>일</th>\n",
              "      <td>-0.097392</td>\n",
              "      <td>-0.185565</td>\n",
              "    </tr>\n",
              "    <tr>\n",
              "      <th>요일</th>\n",
              "      <td>-0.731563</td>\n",
              "      <td>-0.312112</td>\n",
              "    </tr>\n",
              "    <tr>\n",
              "      <th>식사가능자수</th>\n",
              "      <td>0.151029</td>\n",
              "      <td>0.118615</td>\n",
              "    </tr>\n",
              "    <tr>\n",
              "      <th>본사출장자수</th>\n",
              "      <td>-0.512680</td>\n",
              "      <td>-0.188164</td>\n",
              "    </tr>\n",
              "    <tr>\n",
              "      <th>본사시간외근무명령서승인건수</th>\n",
              "      <td>0.535611</td>\n",
              "      <td>0.571168</td>\n",
              "    </tr>\n",
              "    <tr>\n",
              "      <th>중식계</th>\n",
              "      <td>1.000000</td>\n",
              "      <td>0.508287</td>\n",
              "    </tr>\n",
              "    <tr>\n",
              "      <th>석식계</th>\n",
              "      <td>0.508287</td>\n",
              "      <td>1.000000</td>\n",
              "    </tr>\n",
              "    <tr>\n",
              "      <th>중식참여율</th>\n",
              "      <td>0.957156</td>\n",
              "      <td>0.475360</td>\n",
              "    </tr>\n",
              "    <tr>\n",
              "      <th>석식참여율</th>\n",
              "      <td>0.479768</td>\n",
              "      <td>0.973722</td>\n",
              "    </tr>\n",
              "  </tbody>\n",
              "</table>\n",
              "</div>"
            ],
            "text/plain": [
              "                     중식계       석식계\n",
              "월              -0.154664 -0.127142\n",
              "일              -0.097392 -0.185565\n",
              "요일             -0.731563 -0.312112\n",
              "식사가능자수          0.151029  0.118615\n",
              "본사출장자수         -0.512680 -0.188164\n",
              "본사시간외근무명령서승인건수  0.535611  0.571168\n",
              "중식계             1.000000  0.508287\n",
              "석식계             0.508287  1.000000\n",
              "중식참여율           0.957156  0.475360\n",
              "석식참여율           0.479768  0.973722"
            ]
          },
          "metadata": {
            "tags": []
          },
          "execution_count": 22
        }
      ]
    },
    {
      "cell_type": "code",
      "metadata": {
        "colab": {
          "base_uri": "https://localhost:8080/",
          "height": 269
        },
        "id": "GIwJ16s8lhcg",
        "outputId": "fc13b030-0c2e-46b0-f815-a525eaaac10e"
      },
      "source": [
        "sns.heatmap(train.corr()[['중식계', '석식계']]);"
      ],
      "execution_count": 23,
      "outputs": [
        {
          "output_type": "display_data",
          "data": {
            "image/png": "[encoded data removed]",
            "text/plain": [
              "<Figure size 432x288 with 2 Axes>"
            ]
          },
          "metadata": {
            "tags": [],
            "needs_background": "light"
          }
        }
      ]
    },
    {
      "cell_type": "markdown",
      "metadata": {
        "id": "80Qkn2wsmDXP"
      },
      "source": [
        "* 중식\n",
        "  1. 요일\n",
        "  2. 본사시간외근무명령서승인건수\n",
        "  3. 본사출장자수\n",
        "\n",
        "* 석식\n",
        "  1. 본사시간외근무명령서승인건수\n",
        "  2. 요일\n",
        "  3. 본사출장자수"
      ]
    },
    {
      "cell_type": "code",
      "metadata": {
        "colab": {
          "base_uri": "https://localhost:8080/",
          "height": 357
        },
        "id": "mtOGNqJnaQD-",
        "outputId": "765c671c-1956-4520-9f93-6a2fc97f7601"
      },
      "source": [
        "train.corr()[['중식참여율', '석식참여율']]"
      ],
      "execution_count": 24,
      "outputs": [
        {
          "output_type": "execute_result",
          "data": {
            "text/html": [
              "<div>\n",
              "<style scoped>\n",
              "    .dataframe tbody tr th:only-of-type {\n",
              "        vertical-align: middle;\n",
              "    }\n",
              "\n",
              "    .dataframe tbody tr th {\n",
              "        vertical-align: top;\n",
              "    }\n",
              "\n",
              "    .dataframe thead th {\n",
              "        text-align: right;\n",
              "    }\n",
              "</style>\n",
              "<table border=\"1\" class=\"dataframe\">\n",
              "  <thead>\n",
              "    <tr style=\"text-align: right;\">\n",
              "      <th></th>\n",
              "      <th>중식참여율</th>\n",
              "      <th>석식참여율</th>\n",
              "    </tr>\n",
              "  </thead>\n",
              "  <tbody>\n",
              "    <tr>\n",
              "      <th>월</th>\n",
              "      <td>-0.166198</td>\n",
              "      <td>-0.139499</td>\n",
              "    </tr>\n",
              "    <tr>\n",
              "      <th>일</th>\n",
              "      <td>-0.100648</td>\n",
              "      <td>-0.186355</td>\n",
              "    </tr>\n",
              "    <tr>\n",
              "      <th>요일</th>\n",
              "      <td>-0.697276</td>\n",
              "      <td>-0.284943</td>\n",
              "    </tr>\n",
              "    <tr>\n",
              "      <th>식사가능자수</th>\n",
              "      <td>-0.133553</td>\n",
              "      <td>-0.097914</td>\n",
              "    </tr>\n",
              "    <tr>\n",
              "      <th>본사출장자수</th>\n",
              "      <td>-0.618408</td>\n",
              "      <td>-0.267198</td>\n",
              "    </tr>\n",
              "    <tr>\n",
              "      <th>본사시간외근무명령서승인건수</th>\n",
              "      <td>0.473097</td>\n",
              "      <td>0.518348</td>\n",
              "    </tr>\n",
              "    <tr>\n",
              "      <th>중식계</th>\n",
              "      <td>0.957156</td>\n",
              "      <td>0.479768</td>\n",
              "    </tr>\n",
              "    <tr>\n",
              "      <th>석식계</th>\n",
              "      <td>0.475360</td>\n",
              "      <td>0.973722</td>\n",
              "    </tr>\n",
              "    <tr>\n",
              "      <th>중식참여율</th>\n",
              "      <td>1.000000</td>\n",
              "      <td>0.511255</td>\n",
              "    </tr>\n",
              "    <tr>\n",
              "      <th>석식참여율</th>\n",
              "      <td>0.511255</td>\n",
              "      <td>1.000000</td>\n",
              "    </tr>\n",
              "  </tbody>\n",
              "</table>\n",
              "</div>"
            ],
            "text/plain": [
              "                   중식참여율     석식참여율\n",
              "월              -0.166198 -0.139499\n",
              "일              -0.100648 -0.186355\n",
              "요일             -0.697276 -0.284943\n",
              "식사가능자수         -0.133553 -0.097914\n",
              "본사출장자수         -0.618408 -0.267198\n",
              "본사시간외근무명령서승인건수  0.473097  0.518348\n",
              "중식계             0.957156  0.479768\n",
              "석식계             0.475360  0.973722\n",
              "중식참여율           1.000000  0.511255\n",
              "석식참여율           0.511255  1.000000"
            ]
          },
          "metadata": {
            "tags": []
          },
          "execution_count": 24
        }
      ]
    },
    {
      "cell_type": "code",
      "metadata": {
        "colab": {
          "base_uri": "https://localhost:8080/",
          "height": 269
        },
        "id": "wqy6QnIcaU2Z",
        "outputId": "1d431c41-8016-430d-f763-a44727ba8008"
      },
      "source": [
        "sns.heatmap(train.corr()[['중식참여율', '석식참여율']]);"
      ],
      "execution_count": 25,
      "outputs": [
        {
          "output_type": "display_data",
          "data": {
            "image/png": "[encoded data removed]",
            "text/plain": [
              "<Figure size 432x288 with 2 Axes>"
            ]
          },
          "metadata": {
            "tags": [],
            "needs_background": "light"
          }
        }
      ]
    },
    {
      "cell_type": "code",
      "metadata": {
        "colab": {
          "base_uri": "https://localhost:8080/"
        },
        "id": "_KvcrUfPadzd",
        "outputId": "18254d6a-a31e-42ec-99fd-672869df50a2"
      },
      "source": [
        "train.corr()['중식참여율'].sort_values()"
      ],
      "execution_count": 26,
      "outputs": [
        {
          "output_type": "execute_result",
          "data": {
            "text/plain": [
              "요일               -0.697276\n",
              "본사출장자수           -0.618408\n",
              "월                -0.166198\n",
              "식사가능자수           -0.133553\n",
              "일                -0.100648\n",
              "본사시간외근무명령서승인건수    0.473097\n",
              "석식계               0.475360\n",
              "석식참여율             0.511255\n",
              "중식계               0.957156\n",
              "중식참여율             1.000000\n",
              "Name: 중식참여율, dtype: float64"
            ]
          },
          "metadata": {
            "tags": []
          },
          "execution_count": 26
        }
      ]
    },
    {
      "cell_type": "code",
      "metadata": {
        "colab": {
          "base_uri": "https://localhost:8080/"
        },
        "id": "kr4jjXVgaw5q",
        "outputId": "983413e0-0cdc-4c8a-d913-d957b5d5352c"
      },
      "source": [
        "train.corr()['석식참여율'].sort_values()"
      ],
      "execution_count": 27,
      "outputs": [
        {
          "output_type": "execute_result",
          "data": {
            "text/plain": [
              "요일               -0.284943\n",
              "본사출장자수           -0.267198\n",
              "일                -0.186355\n",
              "월                -0.139499\n",
              "식사가능자수           -0.097914\n",
              "중식계               0.479768\n",
              "중식참여율             0.511255\n",
              "본사시간외근무명령서승인건수    0.518348\n",
              "석식계               0.973722\n",
              "석식참여율             1.000000\n",
              "Name: 석식참여율, dtype: float64"
            ]
          },
          "metadata": {
            "tags": []
          },
          "execution_count": 27
        }
      ]
    },
    {
      "cell_type": "markdown",
      "metadata": {
        "id": "wb5NRQbim-f4"
      },
      "source": [
        "## 2. 라인그래프\n",
        "\n",
        "1. 요일\n",
        "2. 월 (예정)\n",
        "3. 일 (예정)"
      ]
    },
    {
      "cell_type": "markdown",
      "metadata": {
        "id": "DESe46z3YeWU"
      },
      "source": [
        "### 1. 요일"
      ]
    },
    {
      "cell_type": "code",
      "metadata": {
        "colab": {
          "base_uri": "https://localhost:8080/",
          "height": 731
        },
        "id": "ZKiJ5Y3xlmmO",
        "outputId": "6be5e169-5c64-4c4e-93b5-43813f5379a4"
      },
      "source": [
        "fig, ax = plt.subplots(7)\n",
        "fig.set_size_inches(10,12)\n",
        "\n",
        "sns.lineplot(data=train, x='요일', y='식사가능자수', ax=ax[0])\n",
        "sns.lineplot(data=train, x='요일', y='본사출장자수', ax=ax[1])\n",
        "sns.lineplot(data=train, x='요일', y='본사시간외근무명령서승인건수', ax=ax[2])\n",
        "sns.lineplot(data=train, x='요일', y='중식계', ax=ax[3])\n",
        "sns.lineplot(data=train, x='요일', y='석식계', ax=ax[4])\n",
        "sns.lineplot(data=train, x='요일', y='중식참여율', ax=ax[5])\n",
        "sns.lineplot(data=train, x='요일', y='석식참여율', ax=ax[6])"
      ],
      "execution_count": 28,
      "outputs": [
        {
          "output_type": "execute_result",
          "data": {
            "text/plain": [
              "<AxesSubplot:xlabel='요일', ylabel='석식참여율'>"
            ]
          },
          "metadata": {
            "tags": []
          },
          "execution_count": 28
        },
        {
          "output_type": "display_data",
          "data": {
            "image/png": "[encoded data removed]",
            "text/plain": [
              "<Figure size 720x864 with 7 Axes>"
            ]
          },
          "metadata": {
            "tags": [],
            "needs_background": "light"
          }
        }
      ]
    },
    {
      "cell_type": "markdown",
      "metadata": {
        "id": "GNBeMciTnJww"
      },
      "source": [
        "요일별 데이터에서\n",
        "* 중식계는 본사출장자수와 반비례 관계,\n",
        "* 석식계는 본사시간외근무명령서승인건수와 정비례 관계,\n",
        "\n",
        "\n",
        "로 밀접해 보임."
      ]
    },
    {
      "cell_type": "markdown",
      "metadata": {
        "id": "FgU9BF2KZUhw"
      },
      "source": [
        "### 2. 월"
      ]
    },
    {
      "cell_type": "code",
      "metadata": {
        "colab": {
          "base_uri": "https://localhost:8080/",
          "height": 731
        },
        "id": "Fgbv3Jq7ZWYY",
        "outputId": "11f9a9b8-6993-48ee-ae5a-f013a1372ed9"
      },
      "source": [
        "fig, ax = plt.subplots(7)\n",
        "fig.set_size_inches(10,12)\n",
        "\n",
        "sns.lineplot(data=train, x='월', y='식사가능자수', ax=ax[0])\n",
        "sns.lineplot(data=train, x='월', y='본사출장자수', ax=ax[1])\n",
        "sns.lineplot(data=train, x='월', y='본사시간외근무명령서승인건수', ax=ax[2])\n",
        "sns.lineplot(data=train, x='월', y='중식계', ax=ax[3])\n",
        "sns.lineplot(data=train, x='월', y='석식계', ax=ax[4])\n",
        "sns.lineplot(data=train, x='월', y='중식참여율', ax=ax[5])\n",
        "sns.lineplot(data=train, x='월', y='석식참여율', ax=ax[6])"
      ],
      "execution_count": 29,
      "outputs": [
        {
          "output_type": "execute_result",
          "data": {
            "text/plain": [
              "<AxesSubplot:xlabel='월', ylabel='석식참여율'>"
            ]
          },
          "metadata": {
            "tags": []
          },
          "execution_count": 29
        },
        {
          "output_type": "display_data",
          "data": {
            "image/png": "[encoded data removed]",
            "text/plain": [
              "<Figure size 720x864 with 7 Axes>"
            ]
          },
          "metadata": {
            "tags": [],
            "needs_background": "light"
          }
        }
      ]
    },
    {
      "cell_type": "code",
      "metadata": {
        "colab": {
          "base_uri": "https://localhost:8080/",
          "height": 733
        },
        "id": "jqQQB21mbYqd",
        "outputId": "691a51e3-1a77-44f0-da73-6ddc3a7f19b5"
      },
      "source": [
        "fig, ax = plt.subplots(7)\n",
        "fig.set_size_inches(10,12)\n",
        "\n",
        "sns.lineplot(data=train, x='일', y='식사가능자수', ax=ax[0])\n",
        "sns.lineplot(data=train, x='일', y='본사출장자수', ax=ax[1])\n",
        "sns.lineplot(data=train, x='일', y='본사시간외근무명령서승인건수', ax=ax[2])\n",
        "sns.lineplot(data=train, x='일', y='중식계', ax=ax[3])\n",
        "sns.lineplot(data=train, x='일', y='석식계', ax=ax[4])\n",
        "sns.lineplot(data=train, x='일', y='중식참여율', ax=ax[5])\n",
        "sns.lineplot(data=train, x='일', y='석식참여율', ax=ax[6])"
      ],
      "execution_count": 30,
      "outputs": [
        {
          "output_type": "execute_result",
          "data": {
            "text/plain": [
              "<AxesSubplot:xlabel='일', ylabel='석식참여율'>"
            ]
          },
          "metadata": {
            "tags": []
          },
          "execution_count": 30
        },
        {
          "output_type": "display_data",
          "data": {
            "image/png": "[encoded data removed]",
            "text/plain": [
              "<Figure size 720x864 with 7 Axes>"
            ]
          },
          "metadata": {
            "tags": [],
            "needs_background": "light"
          }
        }
      ]
    },
    {
      "cell_type": "code",
      "metadata": {
        "id": "sG4qoWvcp_2k"
      },
      "source": [
        "# 요일을 석식 rank에 맞춰 mapping한 요일(석식) 칼럼 만들기.\n",
        "\n",
        "weekday_rank4dinner = {\n",
        "    1: 1,\n",
        "    2: 2,\n",
        "    3: 5,\n",
        "    4: 3,\n",
        "    5: 4,\n",
        "}\n",
        "\n",
        "train['요일(석식)'] = train['요일'].map(weekday_rank4dinner)\n",
        "test['요일(석식)'] = test['요일'].map(weekday_rank4dinner)"
      ],
      "execution_count": 31,
      "outputs": []
    },
    {
      "cell_type": "code",
      "metadata": {
        "colab": {
          "base_uri": "https://localhost:8080/",
          "height": 203
        },
        "id": "p6VVWNReX2Mo",
        "outputId": "b91a6a82-a275-447e-f66c-6dbea5e44f3c"
      },
      "source": [
        "train.head()"
      ],
      "execution_count": 32,
      "outputs": [
        {
          "output_type": "execute_result",
          "data": {
            "text/html": [
              "<div>\n",
              "<style scoped>\n",
              "    .dataframe tbody tr th:only-of-type {\n",
              "        vertical-align: middle;\n",
              "    }\n",
              "\n",
              "    .dataframe tbody tr th {\n",
              "        vertical-align: top;\n",
              "    }\n",
              "\n",
              "    .dataframe thead th {\n",
              "        text-align: right;\n",
              "    }\n",
              "</style>\n",
              "<table border=\"1\" class=\"dataframe\">\n",
              "  <thead>\n",
              "    <tr style=\"text-align: right;\">\n",
              "      <th></th>\n",
              "      <th>월</th>\n",
              "      <th>일</th>\n",
              "      <th>요일</th>\n",
              "      <th>식사가능자수</th>\n",
              "      <th>본사출장자수</th>\n",
              "      <th>본사시간외근무명령서승인건수</th>\n",
              "      <th>중식계</th>\n",
              "      <th>석식계</th>\n",
              "      <th>중식참여율</th>\n",
              "      <th>석식참여율</th>\n",
              "      <th>요일(석식)</th>\n",
              "    </tr>\n",
              "  </thead>\n",
              "  <tbody>\n",
              "    <tr>\n",
              "      <th>0</th>\n",
              "      <td>2</td>\n",
              "      <td>1</td>\n",
              "      <td>1</td>\n",
              "      <td>2551.0</td>\n",
              "      <td>150</td>\n",
              "      <td>238</td>\n",
              "      <td>1039.0</td>\n",
              "      <td>331.0</td>\n",
              "      <td>0.407291</td>\n",
              "      <td>0.129753</td>\n",
              "      <td>1</td>\n",
              "    </tr>\n",
              "    <tr>\n",
              "      <th>1</th>\n",
              "      <td>2</td>\n",
              "      <td>2</td>\n",
              "      <td>2</td>\n",
              "      <td>2551.0</td>\n",
              "      <td>173</td>\n",
              "      <td>319</td>\n",
              "      <td>867.0</td>\n",
              "      <td>560.0</td>\n",
              "      <td>0.339867</td>\n",
              "      <td>0.219522</td>\n",
              "      <td>2</td>\n",
              "    </tr>\n",
              "    <tr>\n",
              "      <th>2</th>\n",
              "      <td>2</td>\n",
              "      <td>3</td>\n",
              "      <td>3</td>\n",
              "      <td>2545.0</td>\n",
              "      <td>180</td>\n",
              "      <td>111</td>\n",
              "      <td>1017.0</td>\n",
              "      <td>573.0</td>\n",
              "      <td>0.399607</td>\n",
              "      <td>0.225147</td>\n",
              "      <td>5</td>\n",
              "    </tr>\n",
              "    <tr>\n",
              "      <th>3</th>\n",
              "      <td>2</td>\n",
              "      <td>4</td>\n",
              "      <td>4</td>\n",
              "      <td>2497.0</td>\n",
              "      <td>220</td>\n",
              "      <td>355</td>\n",
              "      <td>978.0</td>\n",
              "      <td>525.0</td>\n",
              "      <td>0.391670</td>\n",
              "      <td>0.210252</td>\n",
              "      <td>3</td>\n",
              "    </tr>\n",
              "    <tr>\n",
              "      <th>4</th>\n",
              "      <td>2</td>\n",
              "      <td>5</td>\n",
              "      <td>5</td>\n",
              "      <td>2323.0</td>\n",
              "      <td>181</td>\n",
              "      <td>34</td>\n",
              "      <td>925.0</td>\n",
              "      <td>330.0</td>\n",
              "      <td>0.398192</td>\n",
              "      <td>0.142058</td>\n",
              "      <td>4</td>\n",
              "    </tr>\n",
              "  </tbody>\n",
              "</table>\n",
              "</div>"
            ],
            "text/plain": [
              "   월  일  요일  식사가능자수  본사출장자수  ...     중식계    석식계     중식참여율     석식참여율  요일(석식)\n",
              "0  2  1   1  2551.0     150  ...  1039.0  331.0  0.407291  0.129753       1\n",
              "1  2  2   2  2551.0     173  ...   867.0  560.0  0.339867  0.219522       2\n",
              "2  2  3   3  2545.0     180  ...  1017.0  573.0  0.399607  0.225147       5\n",
              "3  2  4   4  2497.0     220  ...   978.0  525.0  0.391670  0.210252       3\n",
              "4  2  5   5  2323.0     181  ...   925.0  330.0  0.398192  0.142058       4\n",
              "\n",
              "[5 rows x 11 columns]"
            ]
          },
          "metadata": {
            "tags": []
          },
          "execution_count": 32
        }
      ]
    },
    {
      "cell_type": "markdown",
      "metadata": {
        "id": "vI16Mgjvna0G"
      },
      "source": [
        "## 9. Pycaret Modeling\n"
      ]
    },
    {
      "cell_type": "code",
      "metadata": {
        "colab": {
          "base_uri": "https://localhost:8080/"
        },
        "id": "jMT4hOY6lNdo",
        "outputId": "3d0b7e4e-3106-4305-e5a6-7d724d5d04b4"
      },
      "source": [
        "!pip uninstall pycaret -y\n",
        "\n",
        "!pip install pycaret[full] ngboost shap"
      ],
      "execution_count": 33,
      "outputs": [
        {
          "output_type": "stream",
          "text": [
            "\u001b[33mWARNING: Skipping pycaret as it is not installed.\u001b[0m\n",
            "Collecting pycaret[full]\n",
            "\u001b[?25l  Downloading https://files.pythonhosted.org/packages/da/99/18f151991b0f06107af9723417c64e304ae2133587f85ea734a90136b4ae/pycaret-2.3.1-py3-none-any.whl (261kB)\n",
            "\u001b[K     |████████████████████████████████| 266kB 8.0MB/s \n",
            "\u001b[?25hCollecting ngboost\n",
            "  Downloading https://files.pythonhosted.org/packages/ba/96/7725e66ffde980ccf8ea445cd2eed26e9730fee3b98a1dbc2a23acf50b46/ngboost-0.3.11-py3-none-any.whl\n",
            "Collecting shap\n",
            "\u001b[?25l  Downloading https://files.pythonhosted.org/packages/b9/f4/c5b95cddae15be80f8e58b25edceca105aa83c0b8c86a1edad24a6af80d3/shap-0.39.0.tar.gz (356kB)\n",
            "\u001b[K     |████████████████████████████████| 358kB 50.7MB/s \n",
            "\u001b[?25hCollecting yellowbrick>=1.0.1\n",
            "\u001b[?25l  Downloading https://files.pythonhosted.org/packages/3a/15/58feb940b6a2f52d3335cccf9e5d00704ec5ba62782da83f7e2abeca5e4b/yellowbrick-1.3.post1-py3-none-any.whl (271kB)\n",
            "\u001b[K     |████████████████████████████████| 276kB 49.7MB/s \n",
            "\u001b[?25hCollecting lightgbm>=2.3.1\n",
            "\u001b[?25l  Downloading https://files.pythonhosted.org/packages/18/b2/fff8370f48549ce223f929fe8cab4ee6bf285a41f86037d91312b48ed95b/lightgbm-3.2.1-py3-none-manylinux1_x86_64.whl (2.0MB)\n",
            "\u001b[K     |████████████████████████████████| 2.0MB 39.7MB/s \n",
            "\u001b[?25hRequirement already satisfied: cufflinks>=0.17.0 in /usr/local/lib/python3.7/dist-packages (from pycaret[full]) (0.17.3)\n",
            "Requirement already satisfied: wordcloud in /usr/local/lib/python3.7/dist-packages (from pycaret[full]) (1.5.0)\n",
            "Requirement already satisfied: plotly>=4.4.1 in /usr/local/lib/python3.7/dist-packages (from pycaret[full]) (4.4.1)\n",
            "Requirement already satisfied: gensim<4.0.0 in /usr/local/lib/python3.7/dist-packages (from pycaret[full]) (3.6.0)\n",
            "Collecting pyLDAvis\n",
            "\u001b[?25l  Downloading https://files.pythonhosted.org/packages/03/a5/15a0da6b0150b8b68610cc78af80364a80a9a4c8b6dd5ee549b8989d4b60/pyLDAvis-3.3.1.tar.gz (1.7MB)\n",
            "\u001b[K     |████████████████████████████████| 1.7MB 46.7MB/s \n",
            "\u001b[?25h  Installing build dependencies ... \u001b[?25l\u001b[?25hdone\n",
            "  Getting requirements to build wheel ... \u001b[?25l\u001b[?25hdone\n",
            "  Installing backend dependencies ... \u001b[?25l\u001b[?25hdone\n",
            "    Preparing wheel metadata ... \u001b[?25l\u001b[?25hdone\n",
            "Requirement already satisfied: nltk in /usr/local/lib/python3.7/dist-packages (from pycaret[full]) (3.2.5)\n",
            "Collecting mlflow\n",
            "\u001b[?25l  Downloading https://files.pythonhosted.org/packages/f3/c9/190a45e667b63edb76112deefa70629c2d9985603a85cb1968015fe0f327/mlflow-1.18.0-py3-none-any.whl (14.2MB)\n",
            "\u001b[K     |████████████████████████████████| 14.2MB 219kB/s \n",
            "\u001b[?25hRequirement already satisfied: textblob in /usr/local/lib/python3.7/dist-packages (from pycaret[full]) (0.15.3)\n",
            "Requirement already satisfied: spacy<2.4.0 in /usr/local/lib/python3.7/dist-packages (from pycaret[full]) (2.2.4)\n",
            "Collecting scikit-learn==0.23.2\n",
            "\u001b[?25l  Downloading https://files.pythonhosted.org/packages/f4/cb/64623369f348e9bfb29ff898a57ac7c91ed4921f228e9726546614d63ccb/scikit_learn-0.23.2-cp37-cp37m-manylinux1_x86_64.whl (6.8MB)\n",
            "\u001b[K     |████████████████████████████████| 6.8MB 21.1MB/s \n",
            "\u001b[?25hRequirement already satisfied: joblib in /usr/local/lib/python3.7/dist-packages (from pycaret[full]) (1.0.1)\n",
            "Collecting scikit-plot\n",
            "  Downloading https://files.pythonhosted.org/packages/7c/47/32520e259340c140a4ad27c1b97050dd3254fdc517b1d59974d47037510e/scikit_plot-0.3.7-py3-none-any.whl\n",
            "Collecting Boruta\n",
            "\u001b[?25l  Downloading https://files.pythonhosted.org/packages/b2/11/583f4eac99d802c79af9217e1eff56027742a69e6c866b295cce6a5a8fc2/Boruta-0.3-py3-none-any.whl (56kB)\n",
            "\u001b[K     |████████████████████████████████| 61kB 10.5MB/s \n",
            "\u001b[?25hRequirement already satisfied: ipywidgets in /usr/local/lib/python3.7/dist-packages (from pycaret[full]) (7.6.3)\n",
            "Collecting pandas-profiling>=2.8.0\n",
            "\u001b[?25l  Downloading https://files.pythonhosted.org/packages/3b/a3/34519d16e5ebe69bad30c5526deea2c3912634ced7f9b5e6e0bb9dbbd567/pandas_profiling-3.0.0-py2.py3-none-any.whl (248kB)\n",
            "\u001b[K     |████████████████████████████████| 256kB 63.5MB/s \n",
            "\u001b[?25hRequirement already satisfied: IPython in /usr/local/lib/python3.7/dist-packages (from pycaret[full]) (5.5.0)\n",
            "Collecting pyod\n",
            "\u001b[?25l  Downloading https://files.pythonhosted.org/packages/81/dd/1cef53031ad8926df628e78d7cc9d57bb2aee62bc2f66215b2bef4deae64/pyod-0.8.9.tar.gz (104kB)\n",
            "\u001b[K     |████████████████████████████████| 112kB 39.8MB/s \n",
            "\u001b[?25hRequirement already satisfied: matplotlib in /usr/local/lib/python3.7/dist-packages (from pycaret[full]) (3.4.2)\n",
            "Collecting kmodes>=0.10.1\n",
            "  Downloading https://files.pythonhosted.org/packages/9b/34/fffc601aa4d44b94e945a7cc72f477e09dffa7dce888898f2ffd9f4e343e/kmodes-0.11.0-py2.py3-none-any.whl\n",
            "Requirement already satisfied: pandas in /usr/local/lib/python3.7/dist-packages (from pycaret[full]) (1.1.5)\n",
            "Requirement already satisfied: scipy<=1.5.4 in /usr/local/lib/python3.7/dist-packages (from pycaret[full]) (1.4.1)\n",
            "Requirement already satisfied: numpy==1.19.5 in /usr/local/lib/python3.7/dist-packages (from pycaret[full]) (1.19.5)\n",
            "Requirement already satisfied: seaborn in /usr/local/lib/python3.7/dist-packages (from pycaret[full]) (0.11.1)\n",
            "Collecting mlxtend>=0.17.0\n",
            "\u001b[?25l  Downloading https://files.pythonhosted.org/packages/86/30/781c0b962a70848db83339567ecab656638c62f05adb064cb33c0ae49244/mlxtend-0.18.0-py2.py3-none-any.whl (1.3MB)\n",
            "\u001b[K     |████████████████████████████████| 1.4MB 38.1MB/s \n",
            "\u001b[?25hCollecting imbalanced-learn==0.7.0\n",
            "\u001b[?25l  Downloading https://files.pythonhosted.org/packages/c8/81/8db4d87b03b998fda7c6f835d807c9ae4e3b141f978597b8d7f31600be15/imbalanced_learn-0.7.0-py3-none-any.whl (167kB)\n",
            "\u001b[K     |████████████████████████████████| 174kB 69.7MB/s \n",
            "\u001b[?25hCollecting umap-learn\n",
            "\u001b[?25l  Downloading https://files.pythonhosted.org/packages/75/69/85e7f950bb75792ad5d666d86c5f3e62eedbb942848e7e3126513af9999c/umap-learn-0.5.1.tar.gz (80kB)\n",
            "\u001b[K     |████████████████████████████████| 81kB 12.2MB/s \n",
            "\u001b[?25hCollecting tune-sklearn>=0.2.1; extra == \"full\"\n",
            "  Downloading https://files.pythonhosted.org/packages/a3/ab/51c5384ae892cf985b0c1f7e468767af53102b20ca631d2e3764cb2908dc/tune_sklearn-0.3.0-py3-none-any.whl\n",
            "Collecting awscli; extra == \"full\"\n",
            "\u001b[?25l  Downloading https://files.pythonhosted.org/packages/14/02/fd39da3e7290346461020efafc034096a8d58431eda1dbc3441785405fdc/awscli-1.19.105-py2.py3-none-any.whl (3.6MB)\n",
            "\u001b[K     |████████████████████████████████| 3.6MB 32.6MB/s \n",
            "\u001b[?25hCollecting azure-storage-blob; extra == \"full\"\n",
            "\u001b[?25l  Downloading https://files.pythonhosted.org/packages/01/e5/ff9609a85f71cd41d759307b9d385ace34d29378e4750d0a0240aad535cb/azure_storage_blob-12.8.1-py2.py3-none-any.whl (345kB)\n",
            "\u001b[K     |████████████████████████████████| 348kB 47.4MB/s \n",
            "\u001b[?25hRequirement already satisfied: psutil; extra == \"full\" in /usr/local/lib/python3.7/dist-packages (from pycaret[full]) (5.4.8)\n",
            "Requirement already satisfied: google-cloud-storage; extra == \"full\" in /usr/local/lib/python3.7/dist-packages (from pycaret[full]) (1.18.1)\n",
            "Collecting scikit-optimize>=0.8.1; extra == \"full\"\n",
            "\u001b[?25l  Downloading https://files.pythonhosted.org/packages/8b/03/be33e89f55866065a02e515c5b319304a801a9f1027a9b311a9b1d1f8dc7/scikit_optimize-0.8.1-py2.py3-none-any.whl (101kB)\n",
            "\u001b[K     |████████████████████████████████| 102kB 14.7MB/s \n",
            "\u001b[?25hCollecting catboost>=0.23.2; extra == \"full\"\n",
            "\u001b[?25l  Downloading https://files.pythonhosted.org/packages/5a/41/24e14322b9986cf72a8763e0a0a69cc256cf963cf9502c8f0044a62c1ae8/catboost-0.26-cp37-none-manylinux1_x86_64.whl (69.2MB)\n",
            "\u001b[K     |████████████████████████████████| 69.2MB 44kB/s \n",
            "\u001b[?25hRequirement already satisfied: hyperopt; extra == \"full\" in /usr/local/lib/python3.7/dist-packages (from pycaret[full]) (0.1.2)\n",
            "Collecting optuna; extra == \"full\"\n",
            "\u001b[?25l  Downloading https://files.pythonhosted.org/packages/1a/18/b49ca91cf592747e19f2d333c2a86cd7c81895b922a5a09adf6335471576/optuna-2.8.0-py3-none-any.whl (301kB)\n",
            "\u001b[K     |████████████████████████████████| 307kB 58.0MB/s \n",
            "\u001b[?25hCollecting xgboost>=1.1.0; extra == \"full\"\n",
            "\u001b[?25l  Downloading https://files.pythonhosted.org/packages/bb/35/169eec194bf1f9ef52ed670f5032ef2abaf6ed285cfadcb4b6026b800fc9/xgboost-1.4.2-py3-none-manylinux2010_x86_64.whl (166.7MB)\n",
            "\u001b[K     |████████████████████████████████| 166.7MB 52kB/s \n",
            "\u001b[?25hCollecting ray[tune]>=1.0.0; extra == \"full\"\n",
            "\u001b[?25l  Downloading https://files.pythonhosted.org/packages/12/b8/27822537e56693f8c91ced3e46c38220a84767d73cc3d01d5d5351aacc1e/ray-1.4.1-cp37-cp37m-manylinux2014_x86_64.whl (51.6MB)\n",
            "\u001b[K     |████████████████████████████████| 51.6MB 128kB/s \n",
            "\u001b[?25hCollecting lifelines>=0.25\n",
            "\u001b[?25l  Downloading https://files.pythonhosted.org/packages/50/ba/d010b22c8bcdfe3bbba753bd976f5deddfa4ec1c842b991579e9c2c3cd61/lifelines-0.26.0-py3-none-any.whl (348kB)\n",
            "\u001b[K     |████████████████████████████████| 358kB 42.9MB/s \n",
            "\u001b[?25hRequirement already satisfied: tqdm>=4.3 in /usr/local/lib/python3.7/dist-packages (from ngboost) (4.41.1)\n",
            "Collecting slicer==0.0.7\n",
            "  Downloading https://files.pythonhosted.org/packages/78/c2/b3f55dfdb8af9812fdb9baf70cacf3b9e82e505b2bd4324d588888b81202/slicer-0.0.7-py3-none-any.whl\n",
            "Requirement already satisfied: numba in /usr/local/lib/python3.7/dist-packages (from shap) (0.51.2)\n",
            "Requirement already satisfied: cloudpickle in /usr/local/lib/python3.7/dist-packages (from shap) (1.3.0)\n",
            "Requirement already satisfied: cycler>=0.10.0 in /usr/local/lib/python3.7/dist-packages (from yellowbrick>=1.0.1->pycaret[full]) (0.10.0)\n",
            "Requirement already satisfied: wheel in /usr/local/lib/python3.7/dist-packages (from lightgbm>=2.3.1->pycaret[full]) (0.36.2)\n",
            "Requirement already satisfied: setuptools>=34.4.1 in /usr/local/lib/python3.7/dist-packages (from cufflinks>=0.17.0->pycaret[full]) (57.0.0)\n",
            "Requirement already satisfied: six>=1.9.0 in /usr/local/lib/python3.7/dist-packages (from cufflinks>=0.17.0->pycaret[full]) (1.15.0)\n",
            "Requirement already satisfied: colorlover>=0.2.1 in /usr/local/lib/python3.7/dist-packages (from cufflinks>=0.17.0->pycaret[full]) (0.3.0)\n",
            "Requirement already satisfied: pillow in /usr/local/lib/python3.7/dist-packages (from wordcloud->pycaret[full]) (7.1.2)\n",
            "Requirement already satisfied: retrying>=1.3.3 in /usr/local/lib/python3.7/dist-packages (from plotly>=4.4.1->pycaret[full]) (1.3.3)\n",
            "Requirement already satisfied: smart-open>=1.2.1 in /usr/local/lib/python3.7/dist-packages (from gensim<4.0.0->pycaret[full]) (5.1.0)\n",
            "Requirement already satisfied: numexpr in /usr/local/lib/python3.7/dist-packages (from pyLDAvis->pycaret[full]) (2.7.3)\n",
            "Requirement already satisfied: future in /usr/local/lib/python3.7/dist-packages (from pyLDAvis->pycaret[full]) (0.16.0)\n",
            "Requirement already satisfied: sklearn in /usr/local/lib/python3.7/dist-packages (from pyLDAvis->pycaret[full]) (0.0)\n",
            "Collecting funcy\n",
            "  Downloading https://files.pythonhosted.org/packages/44/52/5cf7401456a461e4b481650dfb8279bc000f31a011d0918904f86e755947/funcy-1.16-py2.py3-none-any.whl\n",
            "Requirement already satisfied: jinja2 in /usr/local/lib/python3.7/dist-packages (from pyLDAvis->pycaret[full]) (2.11.3)\n",
            "Collecting querystring-parser\n",
            "  Downloading https://files.pythonhosted.org/packages/88/6b/572b2590fd55114118bf08bde63c0a421dcc82d593700f3e2ad89908a8a9/querystring_parser-1.2.4-py2.py3-none-any.whl\n",
            "Requirement already satisfied: click>=7.0 in /usr/local/lib/python3.7/dist-packages (from mlflow->pycaret[full]) (7.1.2)\n",
            "Collecting pyyaml>=5.1\n",
            "\u001b[?25l  Downloading https://files.pythonhosted.org/packages/7a/a5/393c087efdc78091afa2af9f1378762f9821c9c1d7a22c5753fb5ac5f97a/PyYAML-5.4.1-cp37-cp37m-manylinux1_x86_64.whl (636kB)\n",
            "\u001b[K     |████████████████████████████████| 645kB 41.7MB/s \n",
            "\u001b[?25hRequirement already satisfied: sqlalchemy in /usr/local/lib/python3.7/dist-packages (from mlflow->pycaret[full]) (1.4.18)\n",
            "Requirement already satisfied: Flask in /usr/local/lib/python3.7/dist-packages (from mlflow->pycaret[full]) (1.1.4)\n",
            "Collecting docker>=4.0.0\n",
            "\u001b[?25l  Downloading https://files.pythonhosted.org/packages/b2/5a/f988909dfed18c1ac42ad8d9e611e6c5657e270aa6eb68559985dbb69c13/docker-5.0.0-py2.py3-none-any.whl (146kB)\n",
            "\u001b[K     |████████████████████████████████| 153kB 52.5MB/s \n",
            "\u001b[?25hRequirement already satisfied: protobuf>=3.7.0 in /usr/local/lib/python3.7/dist-packages (from mlflow->pycaret[full]) (3.12.4)\n",
            "Collecting gunicorn; platform_system != \"Windows\"\n",
            "\u001b[?25l  Downloading https://files.pythonhosted.org/packages/e4/dd/5b190393e6066286773a67dfcc2f9492058e9b57c4867a95f1ba5caf0a83/gunicorn-20.1.0-py3-none-any.whl (79kB)\n",
            "\u001b[K     |████████████████████████████████| 81kB 11.5MB/s \n",
            "\u001b[?25hCollecting gitpython>=2.1.0\n",
            "\u001b[?25l  Downloading https://files.pythonhosted.org/packages/bc/91/b38c4fabb6e5092ab23492ded4f318ab7299b19263272b703478038c0fbc/GitPython-3.1.18-py3-none-any.whl (170kB)\n",
            "\u001b[K     |████████████████████████████████| 174kB 50.6MB/s \n",
            "\u001b[?25hRequirement already satisfied: pytz in /usr/local/lib/python3.7/dist-packages (from mlflow->pycaret[full]) (2018.9)\n",
            "Requirement already satisfied: requests>=2.17.3 in /usr/local/lib/python3.7/dist-packages (from mlflow->pycaret[full]) (2.23.0)\n",
            "Collecting alembic<=1.4.1\n",
            "\u001b[?25l  Downloading https://files.pythonhosted.org/packages/e0/e9/359dbb77c35c419df0aedeb1d53e71e7e3f438ff64a8fdb048c907404de3/alembic-1.4.1.tar.gz (1.1MB)\n",
            "\u001b[K     |████████████████████████████████| 1.1MB 26.4MB/s \n",
            "\u001b[?25hRequirement already satisfied: sqlparse>=0.3.1 in /usr/local/lib/python3.7/dist-packages (from mlflow->pycaret[full]) (0.4.1)\n",
            "Collecting databricks-cli>=0.8.7\n",
            "\u001b[?25l  Downloading https://files.pythonhosted.org/packages/bc/af/631375abc29e59cedfa4467a5f7755503ba19898890751e1f2636ef02f92/databricks-cli-0.14.3.tar.gz (54kB)\n",
            "\u001b[K     |████████████████████████████████| 61kB 9.5MB/s \n",
            "\u001b[?25hRequirement already satisfied: entrypoints in /usr/local/lib/python3.7/dist-packages (from mlflow->pycaret[full]) (0.3)\n",
            "Collecting prometheus-flask-exporter\n",
            "  Downloading https://files.pythonhosted.org/packages/f3/c1/2cc385fadf18dc75fe24c18899269eda4dcc60221d61eff7da4a6cc5c01d/prometheus_flask_exporter-0.18.2.tar.gz\n",
            "Requirement already satisfied: packaging in /usr/local/lib/python3.7/dist-packages (from mlflow->pycaret[full]) (20.9)\n",
            "Requirement already satisfied: catalogue<1.1.0,>=0.0.7 in /usr/local/lib/python3.7/dist-packages (from spacy<2.4.0->pycaret[full]) (1.0.0)\n",
            "Requirement already satisfied: murmurhash<1.1.0,>=0.28.0 in /usr/local/lib/python3.7/dist-packages (from spacy<2.4.0->pycaret[full]) (1.0.5)\n",
            "Requirement already satisfied: cymem<2.1.0,>=2.0.2 in /usr/local/lib/python3.7/dist-packages (from spacy<2.4.0->pycaret[full]) (2.0.5)\n",
            "Requirement already satisfied: plac<1.2.0,>=0.9.6 in /usr/local/lib/python3.7/dist-packages (from spacy<2.4.0->pycaret[full]) (1.1.3)\n",
            "Requirement already satisfied: blis<0.5.0,>=0.4.0 in /usr/local/lib/python3.7/dist-packages (from spacy<2.4.0->pycaret[full]) (0.4.1)\n",
            "Requirement already satisfied: preshed<3.1.0,>=3.0.2 in /usr/local/lib/python3.7/dist-packages (from spacy<2.4.0->pycaret[full]) (3.0.5)\n",
            "Requirement already satisfied: srsly<1.1.0,>=1.0.2 in /usr/local/lib/python3.7/dist-packages (from spacy<2.4.0->pycaret[full]) (1.0.5)\n",
            "Requirement already satisfied: thinc==7.4.0 in /usr/local/lib/python3.7/dist-packages (from spacy<2.4.0->pycaret[full]) (7.4.0)\n",
            "Requirement already satisfied: wasabi<1.1.0,>=0.4.0 in /usr/local/lib/python3.7/dist-packages (from spacy<2.4.0->pycaret[full]) (0.8.2)\n",
            "Collecting threadpoolctl>=2.0.0\n",
            "  Downloading https://files.pythonhosted.org/packages/f7/12/ec3f2e203afa394a149911729357aa48affc59c20e2c1c8297a60f33f133/threadpoolctl-2.1.0-py3-none-any.whl\n",
            "Requirement already satisfied: traitlets>=4.3.1 in /usr/local/lib/python3.7/dist-packages (from ipywidgets->pycaret[full]) (5.0.5)\n",
            "Requirement already satisfied: nbformat>=4.2.0 in /usr/local/lib/python3.7/dist-packages (from ipywidgets->pycaret[full]) (5.1.3)\n",
            "Requirement already satisfied: jupyterlab-widgets>=1.0.0; python_version >= \"3.6\" in /usr/local/lib/python3.7/dist-packages (from ipywidgets->pycaret[full]) (1.0.0)\n",
            "Requirement already satisfied: widgetsnbextension~=3.5.0 in /usr/local/lib/python3.7/dist-packages (from ipywidgets->pycaret[full]) (3.5.1)\n",
            "Requirement already satisfied: ipykernel>=4.5.1 in /usr/local/lib/python3.7/dist-packages (from ipywidgets->pycaret[full]) (4.10.1)\n",
            "Collecting tangled-up-in-unicode==0.1.0\n",
            "\u001b[?25l  Downloading https://files.pythonhosted.org/packages/93/3e/cb354fb2097fcf2fd5b5a342b10ae2a6e9363ba435b64e3e00c414064bc7/tangled_up_in_unicode-0.1.0-py3-none-any.whl (3.1MB)\n",
            "\u001b[K     |████████████████████████████████| 3.1MB 35.6MB/s \n",
            "\u001b[?25hCollecting visions[type_image_path]==0.7.1\n",
            "\u001b[?25l  Downloading https://files.pythonhosted.org/packages/80/96/01e4ba22cef96ae5035dbcf0451c2f4f859f8f17393b98406b23f0034279/visions-0.7.1-py3-none-any.whl (102kB)\n",
            "\u001b[K     |████████████████████████████████| 112kB 58.1MB/s \n",
            "\u001b[?25hCollecting htmlmin>=0.1.12\n",
            "  Downloading https://files.pythonhosted.org/packages/b3/e7/fcd59e12169de19f0131ff2812077f964c6b960e7c09804d30a7bf2ab461/htmlmin-0.1.12.tar.gz\n",
            "Requirement already satisfied: missingno>=0.4.2 in /usr/local/lib/python3.7/dist-packages (from pandas-profiling>=2.8.0->pycaret[full]) (0.4.2)\n",
            "Collecting pydantic>=1.8.1\n",
            "\u001b[?25l  Downloading https://files.pythonhosted.org/packages/9f/f2/2d5425efe57f6c4e06cbe5e587c1fd16929dcf0eb90bd4d3d1e1c97d1151/pydantic-1.8.2-cp37-cp37m-manylinux2014_x86_64.whl (10.1MB)\n",
            "\u001b[K     |████████████████████████████████| 10.1MB 32.1MB/s \n",
            "\u001b[?25hCollecting phik>=0.11.1\n",
            "\u001b[?25l  Downloading https://files.pythonhosted.org/packages/b7/ce/193e8ddf62d4be643b9b4b20e8e9c63b2f6a20f92778c0410c629f89bdaa/phik-0.11.2.tar.gz (1.1MB)\n",
            "\u001b[K     |████████████████████████████████| 1.1MB 44.2MB/s \n",
            "\u001b[?25hRequirement already satisfied: pygments in /usr/local/lib/python3.7/dist-packages (from IPython->pycaret[full]) (2.6.1)\n",
            "Requirement already satisfied: pexpect; sys_platform != \"win32\" in /usr/local/lib/python3.7/dist-packages (from IPython->pycaret[full]) (4.8.0)\n",
            "Requirement already satisfied: simplegeneric>0.8 in /usr/local/lib/python3.7/dist-packages (from IPython->pycaret[full]) (0.8.1)\n",
            "Requirement already satisfied: prompt-toolkit<2.0.0,>=1.0.4 in /usr/local/lib/python3.7/dist-packages (from IPython->pycaret[full]) (1.0.18)\n",
            "Requirement already satisfied: decorator in /usr/local/lib/python3.7/dist-packages (from IPython->pycaret[full]) (4.4.2)\n",
            "Requirement already satisfied: pickleshare in /usr/local/lib/python3.7/dist-packages (from IPython->pycaret[full]) (0.7.5)\n",
            "Requirement already satisfied: statsmodels in /usr/local/lib/python3.7/dist-packages (from pyod->pycaret[full]) (0.10.2)\n",
            "Requirement already satisfied: python-dateutil>=2.7 in /usr/local/lib/python3.7/dist-packages (from matplotlib->pycaret[full]) (2.8.1)\n",
            "Requirement already satisfied: pyparsing>=2.2.1 in /usr/local/lib/python3.7/dist-packages (from matplotlib->pycaret[full]) (2.4.7)\n",
            "Requirement already satisfied: kiwisolver>=1.0.1 in /usr/local/lib/python3.7/dist-packages (from matplotlib->pycaret[full]) (1.3.1)\n",
            "Collecting pynndescent>=0.5\n",
            "\u001b[?25l  Downloading https://files.pythonhosted.org/packages/af/65/8189298dd3a05bbad716ee8e249764ff8800e365d8dc652ad2192ca01b4a/pynndescent-0.5.2.tar.gz (1.1MB)\n",
            "\u001b[K     |████████████████████████████████| 1.2MB 29.9MB/s \n",
            "\u001b[?25hCollecting s3transfer<0.5.0,>=0.4.0\n",
            "\u001b[?25l  Downloading https://files.pythonhosted.org/packages/63/d0/693477c688348654ddc21dcdce0817653a294aa43f41771084c25e7ff9c7/s3transfer-0.4.2-py2.py3-none-any.whl (79kB)\n",
            "\u001b[K     |████████████████████████████████| 81kB 12.1MB/s \n",
            "\u001b[?25hCollecting colorama<0.4.4,>=0.2.5\n",
            "  Downloading https://files.pythonhosted.org/packages/c9/dc/45cdef1b4d119eb96316b3117e6d5708a08029992b2fee2c143c7a0a5cc5/colorama-0.4.3-py2.py3-none-any.whl\n",
            "Collecting botocore==1.20.105\n",
            "\u001b[?25l  Downloading https://files.pythonhosted.org/packages/95/da/3417300f85ba5173e8dba9248b9ae8bcb74a8aac1c92fa3d257f99073b9e/botocore-1.20.105-py2.py3-none-any.whl (7.7MB)\n",
            "\u001b[K     |████████████████████████████████| 7.7MB 23.1MB/s \n",
            "\u001b[?25hCollecting docutils<0.16,>=0.10\n",
            "\u001b[?25l  Downloading https://files.pythonhosted.org/packages/22/cd/a6aa959dca619918ccb55023b4cb151949c64d4d5d55b3f4ffd7eee0c6e8/docutils-0.15.2-py3-none-any.whl (547kB)\n",
            "\u001b[K     |████████████████████████████████| 552kB 47.7MB/s \n",
            "\u001b[?25hRequirement already satisfied: rsa<4.8,>=3.1.2; python_version > \"2.7\" in /usr/local/lib/python3.7/dist-packages (from awscli; extra == \"full\"->pycaret[full]) (4.7.2)\n",
            "Collecting azure-core<2.0.0,>=1.10.0\n",
            "\u001b[?25l  Downloading https://files.pythonhosted.org/packages/32/0a/837c3071ed24adba0e6733991b967336069bd49f1abf018ceae38a8ea759/azure_core-1.16.0-py2.py3-none-any.whl (163kB)\n",
            "\u001b[K     |████████████████████████████████| 163kB 54.8MB/s \n",
            "\u001b[?25hCollecting msrest>=0.6.18\n",
            "\u001b[?25l  Downloading https://files.pythonhosted.org/packages/e8/cc/6c96bfb3d3cf4c3bdedfa6b46503223f4c2a4fa388377697e0f8082a4fed/msrest-0.6.21-py2.py3-none-any.whl (85kB)\n",
            "\u001b[K     |████████████████████████████████| 92kB 13.0MB/s \n",
            "\u001b[?25hCollecting cryptography>=2.1.4\n",
            "\u001b[?25l  Downloading https://files.pythonhosted.org/packages/b2/26/7af637e6a7e87258b963f1731c5982fb31cd507f0d90d91836e446955d02/cryptography-3.4.7-cp36-abi3-manylinux2014_x86_64.whl (3.2MB)\n",
            "\u001b[K     |████████████████████████████████| 3.2MB 24.4MB/s \n",
            "\u001b[?25hRequirement already satisfied: google-auth>=1.2.0 in /usr/local/lib/python3.7/dist-packages (from google-cloud-storage; extra == \"full\"->pycaret[full]) (1.31.0)\n",
            "Requirement already satisfied: google-resumable-media<0.5.0dev,>=0.3.1 in /usr/local/lib/python3.7/dist-packages (from google-cloud-storage; extra == \"full\"->pycaret[full]) (0.4.1)\n",
            "Requirement already satisfied: google-cloud-core<2.0dev,>=1.0.0 in /usr/local/lib/python3.7/dist-packages (from google-cloud-storage; extra == \"full\"->pycaret[full]) (1.0.3)\n",
            "Collecting pyaml>=16.9\n",
            "  Downloading https://files.pythonhosted.org/packages/15/c4/1310a054d33abc318426a956e7d6df0df76a6ddfa9c66f6310274fb75d42/pyaml-20.4.0-py2.py3-none-any.whl\n",
            "Requirement already satisfied: graphviz in /usr/local/lib/python3.7/dist-packages (from catboost>=0.23.2; extra == \"full\"->pycaret[full]) (0.10.1)\n",
            "Requirement already satisfied: pymongo in /usr/local/lib/python3.7/dist-packages (from hyperopt; extra == \"full\"->pycaret[full]) (3.11.4)\n",
            "Requirement already satisfied: networkx in /usr/local/lib/python3.7/dist-packages (from hyperopt; extra == \"full\"->pycaret[full]) (2.5.1)\n",
            "Collecting cliff\n",
            "\u001b[?25l  Downloading https://files.pythonhosted.org/packages/87/11/aea1cacbd4cf8262809c4d6f95dcb3f2802594de1f51c5bd454d69bf15c5/cliff-3.8.0-py3-none-any.whl (80kB)\n",
            "\u001b[K     |████████████████████████████████| 81kB 11.7MB/s \n",
            "\u001b[?25hCollecting colorlog\n",
            "  Downloading https://files.pythonhosted.org/packages/32/e6/e9ddc6fa1104fda718338b341e4b3dc31cd8039ab29e52fc73b508515361/colorlog-5.0.1-py2.py3-none-any.whl\n",
            "Collecting cmaes>=0.8.2\n",
            "  Downloading https://files.pythonhosted.org/packages/01/1f/43b01223a0366171f474320c6e966c39a11587287f098a5f09809b45e05f/cmaes-0.8.2-py3-none-any.whl\n",
            "Requirement already satisfied: filelock in /usr/local/lib/python3.7/dist-packages (from ray[tune]>=1.0.0; extra == \"full\"->pycaret[full]) (3.0.12)\n",
            "Collecting gpustat\n",
            "\u001b[?25l  Downloading https://files.pythonhosted.org/packages/b4/69/d8c849715171aeabd61af7da080fdc60948b5a396d2422f1f4672e43d008/gpustat-0.6.0.tar.gz (78kB)\n",
            "\u001b[K     |████████████████████████████████| 81kB 12.6MB/s \n",
            "\u001b[?25hRequirement already satisfied: jsonschema in /usr/local/lib/python3.7/dist-packages (from ray[tune]>=1.0.0; extra == \"full\"->pycaret[full]) (2.6.0)\n",
            "Requirement already satisfied: grpcio>=1.28.1 in /usr/local/lib/python3.7/dist-packages (from ray[tune]>=1.0.0; extra == \"full\"->pycaret[full]) (1.34.1)\n",
            "Collecting aioredis\n",
            "\u001b[?25l  Downloading https://files.pythonhosted.org/packages/b0/64/1b1612d0a104f21f80eb4c6e1b6075f2e6aba8e228f46f229cfd3fdac859/aioredis-1.3.1-py3-none-any.whl (65kB)\n",
            "\u001b[K     |████████████████████████████████| 71kB 11.5MB/s \n",
            "\u001b[?25hCollecting py-spy>=0.2.0\n",
            "\u001b[?25l  Downloading https://files.pythonhosted.org/packages/9d/4d/1a9cbe9a0b543e6733cb38afe26451522a9ef8e4897b59e74cc76838f245/py_spy-0.3.7-py2.py3-none-manylinux1_x86_64.whl (3.1MB)\n",
            "\u001b[K     |████████████████████████████████| 3.1MB 33.9MB/s \n",
            "\u001b[?25hCollecting redis>=3.5.0\n",
            "\u001b[?25l  Downloading https://files.pythonhosted.org/packages/a7/7c/24fb0511df653cf1a5d938d8f5d19802a88cef255706fdda242ff97e91b7/redis-3.5.3-py2.py3-none-any.whl (72kB)\n",
            "\u001b[K     |████████████████████████████████| 81kB 12.8MB/s \n",
            "\u001b[?25hRequirement already satisfied: prometheus-client>=0.7.1 in /usr/local/lib/python3.7/dist-packages (from ray[tune]>=1.0.0; extra == \"full\"->pycaret[full]) (0.11.0)\n",
            "Collecting aiohttp\n",
            "\u001b[?25l  Downloading https://files.pythonhosted.org/packages/88/c0/5890b4c8b04a79b7360e8fe4490feb0bb3ab179743f199f0e6220cebd568/aiohttp-3.7.4.post0-cp37-cp37m-manylinux2014_x86_64.whl (1.3MB)\n",
            "\u001b[K     |████████████████████████████████| 1.3MB 29.5MB/s \n",
            "\u001b[?25hCollecting opencensus\n",
            "\u001b[?25l  Downloading https://files.pythonhosted.org/packages/18/59/12044123133d000f705383ad98579aeb0dd82d66b33a254a21b54bf0d6bb/opencensus-0.7.13-py2.py3-none-any.whl (127kB)\n",
            "\u001b[K     |████████████████████████████████| 133kB 50.5MB/s \n",
            "\u001b[?25hCollecting aiohttp-cors\n",
            "  Downloading https://files.pythonhosted.org/packages/13/e7/e436a0c0eb5127d8b491a9b83ecd2391c6ff7dcd5548dfaec2080a2340fd/aiohttp_cors-0.7.0-py3-none-any.whl\n",
            "Requirement already satisfied: msgpack<2.0.0,>=1.0.0 in /usr/local/lib/python3.7/dist-packages (from ray[tune]>=1.0.0; extra == \"full\"->pycaret[full]) (1.0.2)\n",
            "Collecting tensorboardX; extra == \"tune\"\n",
            "\u001b[?25l  Downloading https://files.pythonhosted.org/packages/99/0b/a26bbe92667c549d39c40b80c5ddec638fbae9521f04aeef26560e07e504/tensorboardX-2.4-py2.py3-none-any.whl (124kB)\n",
            "\u001b[K     |████████████████████████████████| 133kB 53.6MB/s \n",
            "\u001b[?25hRequirement already satisfied: tabulate; extra == \"tune\" in /usr/local/lib/python3.7/dist-packages (from ray[tune]>=1.0.0; extra == \"full\"->pycaret[full]) (0.8.9)\n",
            "Collecting autograd-gamma>=0.3\n",
            "  Downloading https://files.pythonhosted.org/packages/85/ae/7f2031ea76140444b2453fa139041e5afd4a09fc5300cfefeb1103291f80/autograd-gamma-0.5.0.tar.gz\n",
            "Requirement already satisfied: autograd>=1.3 in /usr/local/lib/python3.7/dist-packages (from lifelines>=0.25->ngboost) (1.3)\n",
            "Collecting formulaic<0.3,>=0.2.2\n",
            "\u001b[?25l  Downloading https://files.pythonhosted.org/packages/02/64/6702b5cadc89ece93af2e01996504f3a895196354a35713e2ef22f089d3e/formulaic-0.2.3-py3-none-any.whl (55kB)\n",
            "\u001b[K     |████████████████████████████████| 61kB 9.6MB/s \n",
            "\u001b[?25hRequirement already satisfied: llvmlite<0.35,>=0.34.0.dev0 in /usr/local/lib/python3.7/dist-packages (from numba->shap) (0.34.0)\n",
            "Requirement already satisfied: MarkupSafe>=0.23 in /usr/local/lib/python3.7/dist-packages (from jinja2->pyLDAvis->pycaret[full]) (2.0.1)\n",
            "Requirement already satisfied: importlib-metadata; python_version < \"3.8\" in /usr/local/lib/python3.7/dist-packages (from sqlalchemy->mlflow->pycaret[full]) (4.5.0)\n",
            "Requirement already satisfied: greenlet!=0.4.17; python_version >= \"3\" in /usr/local/lib/python3.7/dist-packages (from sqlalchemy->mlflow->pycaret[full]) (1.1.0)\n",
            "Requirement already satisfied: itsdangerous<2.0,>=0.24 in /usr/local/lib/python3.7/dist-packages (from Flask->mlflow->pycaret[full]) (1.1.0)\n",
            "Requirement already satisfied: Werkzeug<2.0,>=0.15 in /usr/local/lib/python3.7/dist-packages (from Flask->mlflow->pycaret[full]) (1.0.1)\n",
            "Collecting websocket-client>=0.32.0\n",
            "\u001b[?25l  Downloading https://files.pythonhosted.org/packages/ca/5f/3c211d168b2e9f9342cfb53bcfc26aab0eac63b998015e7af7bcae66119d/websocket_client-1.1.0-py2.py3-none-any.whl (68kB)\n",
            "\u001b[K     |████████████████████████████████| 71kB 11.4MB/s \n",
            "\u001b[?25hCollecting gitdb<5,>=4.0.1\n",
            "\u001b[?25l  Downloading https://files.pythonhosted.org/packages/ea/e8/f414d1a4f0bbc668ed441f74f44c116d9816833a48bf81d22b697090dba8/gitdb-4.0.7-py3-none-any.whl (63kB)\n",
            "\u001b[K     |████████████████████████████████| 71kB 12.1MB/s \n",
            "\u001b[?25hRequirement already satisfied: typing-extensions>=3.7.4.0; python_version < \"3.8\" in /usr/local/lib/python3.7/dist-packages (from gitpython>=2.1.0->mlflow->pycaret[full]) (3.7.4.3)\n",
            "Requirement already satisfied: chardet<4,>=3.0.2 in /usr/local/lib/python3.7/dist-packages (from requests>=2.17.3->mlflow->pycaret[full]) (3.0.4)\n",
            "Requirement already satisfied: certifi>=2017.4.17 in /usr/local/lib/python3.7/dist-packages (from requests>=2.17.3->mlflow->pycaret[full]) (2021.5.30)\n",
            "Requirement already satisfied: urllib3!=1.25.0,!=1.25.1,<1.26,>=1.21.1 in /usr/local/lib/python3.7/dist-packages (from requests>=2.17.3->mlflow->pycaret[full]) (1.24.3)\n",
            "Requirement already satisfied: idna<3,>=2.5 in /usr/local/lib/python3.7/dist-packages (from requests>=2.17.3->mlflow->pycaret[full]) (2.10)\n",
            "Collecting Mako\n",
            "\u001b[?25l  Downloading https://files.pythonhosted.org/packages/f3/54/dbc07fbb20865d3b78fdb7cf7fa713e2cba4f87f71100074ef2dc9f9d1f7/Mako-1.1.4-py2.py3-none-any.whl (75kB)\n",
            "\u001b[K     |████████████████████████████████| 81kB 12.0MB/s \n",
            "\u001b[?25hCollecting python-editor>=0.3\n",
            "  Downloading https://files.pythonhosted.org/packages/c6/d3/201fc3abe391bbae6606e6f1d598c15d367033332bd54352b12f35513717/python_editor-1.0.4-py3-none-any.whl\n",
            "Requirement already satisfied: ipython-genutils in /usr/local/lib/python3.7/dist-packages (from traitlets>=4.3.1->ipywidgets->pycaret[full]) (0.2.0)\n",
            "Requirement already satisfied: jupyter-core in /usr/local/lib/python3.7/dist-packages (from nbformat>=4.2.0->ipywidgets->pycaret[full]) (4.7.1)\n",
            "Requirement already satisfied: notebook>=4.4.1 in /usr/local/lib/python3.7/dist-packages (from widgetsnbextension~=3.5.0->ipywidgets->pycaret[full]) (5.3.1)\n",
            "Requirement already satisfied: jupyter-client in /usr/local/lib/python3.7/dist-packages (from ipykernel>=4.5.1->ipywidgets->pycaret[full]) (5.3.5)\n",
            "Requirement already satisfied: tornado>=4.0 in /usr/local/lib/python3.7/dist-packages (from ipykernel>=4.5.1->ipywidgets->pycaret[full]) (5.1.1)\n",
            "Requirement already satisfied: bottleneck in /usr/local/lib/python3.7/dist-packages (from visions[type_image_path]==0.7.1->pandas-profiling>=2.8.0->pycaret[full]) (1.3.2)\n",
            "Requirement already satisfied: attrs>=19.3.0 in /usr/local/lib/python3.7/dist-packages (from visions[type_image_path]==0.7.1->pandas-profiling>=2.8.0->pycaret[full]) (21.2.0)\n",
            "Collecting multimethod==1.4\n",
            "  Downloading https://files.pythonhosted.org/packages/7a/d0/ce5ad0392aa12645b7ad91a5983d6b625b704b021d9cd48c587630c1a9ac/multimethod-1.4-py2.py3-none-any.whl\n",
            "Collecting imagehash; extra == \"type_image_path\"\n",
            "\u001b[?25l  Downloading https://files.pythonhosted.org/packages/8e/18/9dbb772b5ef73a3069c66bb5bf29b9fb4dd57af0d5790c781c3f559bcca6/ImageHash-4.2.0-py2.py3-none-any.whl (295kB)\n",
            "\u001b[K     |████████████████████████████████| 296kB 55.8MB/s \n",
            "\u001b[?25hRequirement already satisfied: ptyprocess>=0.5 in /usr/local/lib/python3.7/dist-packages (from pexpect; sys_platform != \"win32\"->IPython->pycaret[full]) (0.7.0)\n",
            "Requirement already satisfied: wcwidth in /usr/local/lib/python3.7/dist-packages (from prompt-toolkit<2.0.0,>=1.0.4->IPython->pycaret[full]) (0.2.5)\n",
            "Requirement already satisfied: patsy>=0.4.0 in /usr/local/lib/python3.7/dist-packages (from statsmodels->pyod->pycaret[full]) (0.5.1)\n",
            "Collecting jmespath<1.0.0,>=0.7.1\n",
            "  Downloading https://files.pythonhosted.org/packages/07/cb/5f001272b6faeb23c1c9e0acc04d48eaaf5c862c17709d20e3469c6e0139/jmespath-0.10.0-py2.py3-none-any.whl\n",
            "Requirement already satisfied: pyasn1>=0.1.3 in /usr/local/lib/python3.7/dist-packages (from rsa<4.8,>=3.1.2; python_version > \"2.7\"->awscli; extra == \"full\"->pycaret[full]) (0.4.8)\n",
            "Collecting isodate>=0.6.0\n",
            "\u001b[?25l  Downloading https://files.pythonhosted.org/packages/9b/9f/b36f7774ff5ea8e428fdcfc4bb332c39ee5b9362ddd3d40d9516a55221b2/isodate-0.6.0-py2.py3-none-any.whl (45kB)\n",
            "\u001b[K     |████████████████████████████████| 51kB 8.2MB/s \n",
            "\u001b[?25hRequirement already satisfied: requests-oauthlib>=0.5.0 in /usr/local/lib/python3.7/dist-packages (from msrest>=0.6.18->azure-storage-blob; extra == \"full\"->pycaret[full]) (1.3.0)\n",
            "Requirement already satisfied: cffi>=1.12 in /usr/local/lib/python3.7/dist-packages (from cryptography>=2.1.4->azure-storage-blob; extra == \"full\"->pycaret[full]) (1.14.5)\n",
            "Requirement already satisfied: cachetools<5.0,>=2.0.0 in /usr/local/lib/python3.7/dist-packages (from google-auth>=1.2.0->google-cloud-storage; extra == \"full\"->pycaret[full]) (4.2.2)\n",
            "Requirement already satisfied: pyasn1-modules>=0.2.1 in /usr/local/lib/python3.7/dist-packages (from google-auth>=1.2.0->google-cloud-storage; extra == \"full\"->pycaret[full]) (0.2.8)\n",
            "Requirement already satisfied: google-api-core<2.0.0dev,>=1.14.0 in /usr/local/lib/python3.7/dist-packages (from google-cloud-core<2.0dev,>=1.0.0->google-cloud-storage; extra == \"full\"->pycaret[full]) (1.26.3)\n",
            "Requirement already satisfied: PrettyTable>=0.7.2 in /usr/local/lib/python3.7/dist-packages (from cliff->optuna; extra == \"full\"->pycaret[full]) (2.1.0)\n",
            "Collecting cmd2>=1.0.0\n",
            "\u001b[?25l  Downloading https://files.pythonhosted.org/packages/e3/6a/e929ec70ca05c5962f6541ef29fb9c207dd41f0f2333680fa39f44fa4357/cmd2-2.1.1-py3-none-any.whl (140kB)\n",
            "\u001b[K     |████████████████████████████████| 143kB 54.7MB/s \n",
            "\u001b[?25hCollecting pbr!=2.1.0,>=2.0.0\n",
            "\u001b[?25l  Downloading https://files.pythonhosted.org/packages/18/e0/1d4702dd81121d04a477c272d47ee5b6bc970d1a0990b11befa275c55cf2/pbr-5.6.0-py2.py3-none-any.whl (111kB)\n",
            "\u001b[K     |████████████████████████████████| 112kB 63.2MB/s \n",
            "\u001b[?25hCollecting stevedore>=2.0.1\n",
            "\u001b[?25l  Downloading https://files.pythonhosted.org/packages/d4/49/b602307aeac3df3384ff1fcd05da9c0376c622a6c48bb5325f28ab165b57/stevedore-3.3.0-py3-none-any.whl (49kB)\n",
            "\u001b[K     |████████████████████████████████| 51kB 7.4MB/s \n",
            "\u001b[?25hRequirement already satisfied: nvidia-ml-py3>=7.352.0 in /usr/local/lib/python3.7/dist-packages (from gpustat->ray[tune]>=1.0.0; extra == \"full\"->pycaret[full]) (7.352.0)\n",
            "Collecting blessings>=1.6\n",
            "  Downloading https://files.pythonhosted.org/packages/03/74/489f85a78247609c6b4f13733cbf3ba0d864b11aa565617b645d6fdf2a4a/blessings-1.7-py3-none-any.whl\n",
            "Collecting hiredis\n",
            "\u001b[?25l  Downloading https://files.pythonhosted.org/packages/ed/33/290cea35b09c80b4634773ad5572a8030a87b5d39736719f698f521d2a13/hiredis-2.0.0-cp37-cp37m-manylinux2010_x86_64.whl (85kB)\n",
            "\u001b[K     |████████████████████████████████| 92kB 13.5MB/s \n",
            "\u001b[?25hCollecting async-timeout\n",
            "  Downloading https://files.pythonhosted.org/packages/e1/1e/5a4441be21b0726c4464f3f23c8b19628372f606755a9d2e46c187e65ec4/async_timeout-3.0.1-py3-none-any.whl\n",
            "Collecting yarl<2.0,>=1.0\n",
            "\u001b[?25l  Downloading https://files.pythonhosted.org/packages/f1/62/046834c5fc998c88ab2ef722f5d42122230a632212c8afa76418324f53ff/yarl-1.6.3-cp37-cp37m-manylinux2014_x86_64.whl (294kB)\n",
            "\u001b[K     |████████████████████████████████| 296kB 42.3MB/s \n",
            "\u001b[?25hCollecting multidict<7.0,>=4.5\n",
            "\u001b[?25l  Downloading https://files.pythonhosted.org/packages/7c/a6/4123b8165acbe773d1a8dc8e3f0d1edea16d29f7de018eda769abb56bd30/multidict-5.1.0-cp37-cp37m-manylinux2014_x86_64.whl (142kB)\n",
            "\u001b[K     |████████████████████████████████| 143kB 53.7MB/s \n",
            "\u001b[?25hCollecting opencensus-context==0.1.2\n",
            "  Downloading https://files.pythonhosted.org/packages/f1/33/990f1bd9e7ee770fc8d3c154fc24743a96f16a0e49e14e1b7540cc2fdd93/opencensus_context-0.1.2-py2.py3-none-any.whl\n",
            "Requirement already satisfied: astor in /usr/local/lib/python3.7/dist-packages (from formulaic<0.3,>=0.2.2->lifelines>=0.25->ngboost) (0.8.1)\n",
            "Collecting interface-meta>=1.2\n",
            "  Downloading https://files.pythonhosted.org/packages/71/31/5e474208f5df9012ebecfaa23884b14f93671ea4f4f6d468eb096b73e499/interface_meta-1.2.3-py2.py3-none-any.whl\n",
            "Requirement already satisfied: wrapt in /usr/local/lib/python3.7/dist-packages (from formulaic<0.3,>=0.2.2->lifelines>=0.25->ngboost) (1.12.1)\n",
            "Requirement already satisfied: zipp>=0.5 in /usr/local/lib/python3.7/dist-packages (from importlib-metadata; python_version < \"3.8\"->sqlalchemy->mlflow->pycaret[full]) (3.4.1)\n",
            "Collecting smmap<5,>=3.0.1\n",
            "  Downloading https://files.pythonhosted.org/packages/68/ee/d540eb5e5996eb81c26ceffac6ee49041d473bc5125f2aa995cf51ec1cf1/smmap-4.0.0-py2.py3-none-any.whl\n",
            "Requirement already satisfied: Send2Trash in /usr/local/lib/python3.7/dist-packages (from notebook>=4.4.1->widgetsnbextension~=3.5.0->ipywidgets->pycaret[full]) (1.5.0)\n",
            "Requirement already satisfied: terminado>=0.8.1 in /usr/local/lib/python3.7/dist-packages (from notebook>=4.4.1->widgetsnbextension~=3.5.0->ipywidgets->pycaret[full]) (0.10.1)\n",
            "Requirement already satisfied: nbconvert in /usr/local/lib/python3.7/dist-packages (from notebook>=4.4.1->widgetsnbextension~=3.5.0->ipywidgets->pycaret[full]) (5.6.1)\n",
            "Requirement already satisfied: pyzmq>=13 in /usr/local/lib/python3.7/dist-packages (from jupyter-client->ipykernel>=4.5.1->ipywidgets->pycaret[full]) (22.1.0)\n",
            "Requirement already satisfied: PyWavelets in /usr/local/lib/python3.7/dist-packages (from imagehash; extra == \"type_image_path\"->visions[type_image_path]==0.7.1->pandas-profiling>=2.8.0->pycaret[full]) (1.1.1)\n",
            "Requirement already satisfied: oauthlib>=3.0.0 in /usr/local/lib/python3.7/dist-packages (from requests-oauthlib>=0.5.0->msrest>=0.6.18->azure-storage-blob; extra == \"full\"->pycaret[full]) (3.1.1)\n",
            "Requirement already satisfied: pycparser in /usr/local/lib/python3.7/dist-packages (from cffi>=1.12->cryptography>=2.1.4->azure-storage-blob; extra == \"full\"->pycaret[full]) (2.20)\n",
            "Requirement already satisfied: googleapis-common-protos<2.0dev,>=1.6.0 in /usr/local/lib/python3.7/dist-packages (from google-api-core<2.0.0dev,>=1.14.0->google-cloud-core<2.0dev,>=1.0.0->google-cloud-storage; extra == \"full\"->pycaret[full]) (1.53.0)\n",
            "Collecting pyperclip>=1.6\n",
            "  Downloading https://files.pythonhosted.org/packages/a7/2c/4c64579f847bd5d539803c8b909e54ba087a79d01bb3aba433a95879a6c5/pyperclip-1.8.2.tar.gz\n",
            "Requirement already satisfied: bleach in /usr/local/lib/python3.7/dist-packages (from nbconvert->notebook>=4.4.1->widgetsnbextension~=3.5.0->ipywidgets->pycaret[full]) (3.3.0)\n",
            "Requirement already satisfied: defusedxml in /usr/local/lib/python3.7/dist-packages (from nbconvert->notebook>=4.4.1->widgetsnbextension~=3.5.0->ipywidgets->pycaret[full]) (0.7.1)\n",
            "Requirement already satisfied: pandocfilters>=1.4.1 in /usr/local/lib/python3.7/dist-packages (from nbconvert->notebook>=4.4.1->widgetsnbextension~=3.5.0->ipywidgets->pycaret[full]) (1.4.3)\n",
            "Requirement already satisfied: mistune<2,>=0.8.1 in /usr/local/lib/python3.7/dist-packages (from nbconvert->notebook>=4.4.1->widgetsnbextension~=3.5.0->ipywidgets->pycaret[full]) (0.8.4)\n",
            "Requirement already satisfied: testpath in /usr/local/lib/python3.7/dist-packages (from nbconvert->notebook>=4.4.1->widgetsnbextension~=3.5.0->ipywidgets->pycaret[full]) (0.5.0)\n",
            "Requirement already satisfied: webencodings in /usr/local/lib/python3.7/dist-packages (from bleach->nbconvert->notebook>=4.4.1->widgetsnbextension~=3.5.0->ipywidgets->pycaret[full]) (0.5.1)\n",
            "Building wheels for collected packages: pyLDAvis\n",
            "  Building wheel for pyLDAvis (PEP 517) ... \u001b[?25l\u001b[?25hdone\n",
            "  Created wheel for pyLDAvis: filename=pyLDAvis-3.3.1-cp37-none-any.whl size=136897 sha256=c13ccdf03d0c6d35b1b2952d3f105e0d5162d3a3fd10896479452d6dc5e3aa52\n",
            "  Stored in directory: /root/.cache/pip/wheels/a0/9c/fc/c6e00689d35c82cf96a8adc70edfe7ba7904374fdac3240ac2\n",
            "Successfully built pyLDAvis\n",
            "Building wheels for collected packages: shap, pyod, umap-learn, alembic, databricks-cli, prometheus-flask-exporter, htmlmin, phik, pynndescent, gpustat, autograd-gamma, pyperclip\n",
            "  Building wheel for shap (setup.py) ... \u001b[?25l\u001b[?25hdone\n",
            "  Created wheel for shap: filename=shap-0.39.0-cp37-cp37m-linux_x86_64.whl size=491631 sha256=6ffb8f1c0618c6bdc122e3addba8c96be79b7cccd75404fa4b8c262e10e37add\n",
            "  Stored in directory: /root/.cache/pip/wheels/15/27/f5/a8ab9da52fd159aae6477b5ede6eaaec69fd130fa0fa59f283\n",
            "  Building wheel for pyod (setup.py) ... \u001b[?25l\u001b[?25hdone\n",
            "  Created wheel for pyod: filename=pyod-0.8.9-cp37-none-any.whl size=121413 sha256=3556ca19e1f0cdd8e7dc3a488e6079cab0e6735eafccb7f0dd94f97156b2da7f\n",
            "  Stored in directory: /root/.cache/pip/wheels/9b/31/18/f12932b880f1ce4c181cbe51454ddaaa02665ad7cfc663f639\n",
            "  Building wheel for umap-learn (setup.py) ... \u001b[?25l\u001b[?25hdone\n",
            "  Created wheel for umap-learn: filename=umap_learn-0.5.1-cp37-none-any.whl size=76569 sha256=8754a075edc477dcb3f49e14c8cf57c071549ec2275e7b3d53e2c6efe7a71b33\n",
            "  Stored in directory: /root/.cache/pip/wheels/ad/df/d5/a3691296ff779f25cd1cf415a3af954b987fb53111e3392cf4\n",
            "  Building wheel for alembic (setup.py) ... \u001b[?25l\u001b[?25hdone\n",
            "  Created wheel for alembic: filename=alembic-1.4.1-py2.py3-none-any.whl size=158170 sha256=7d21b6389df5bf530327f1e31b5773389359a12c98d447249d524b93199d412c\n",
            "  Stored in directory: /root/.cache/pip/wheels/84/07/f7/12f7370ca47a66030c2edeedcc23dec26ea0ac22dcb4c4a0f3\n",
            "  Building wheel for databricks-cli (setup.py) ... \u001b[?25l\u001b[?25hdone\n",
            "  Created wheel for databricks-cli: filename=databricks_cli-0.14.3-cp37-none-any.whl size=100560 sha256=8029fd08917bd1f9a91aea51fc68de4b79a8d55d6318cb03c6c96b741aa88b8c\n",
            "  Stored in directory: /root/.cache/pip/wheels/5b/24/f3/34d8e3964dac4ba849d844273c49a679111b00d5799ebb934a\n",
            "  Building wheel for prometheus-flask-exporter (setup.py) ... \u001b[?25l\u001b[?25hdone\n",
            "  Created wheel for prometheus-flask-exporter: filename=prometheus_flask_exporter-0.18.2-cp37-none-any.whl size=17415 sha256=9aa6d2282ef76b88d377cd53b3df30cf18bc79412b27357ddd385d48f0698dcc\n",
            "  Stored in directory: /root/.cache/pip/wheels/c0/e2/9c/4f3ee23964802940f81a8b476d0b9be6fb6348cb12df2e2226\n",
            "  Building wheel for htmlmin (setup.py) ... \u001b[?25l\u001b[?25hdone\n",
            "  Created wheel for htmlmin: filename=htmlmin-0.1.12-cp37-none-any.whl size=27099 sha256=014ed795968cd734f01af9504fbcfa0c7c8ba7d72dcc9a5b59ed4de6de6607b6\n",
            "  Stored in directory: /root/.cache/pip/wheels/43/07/ac/7c5a9d708d65247ac1f94066cf1db075540b85716c30255459\n",
            "  Building wheel for phik (setup.py) ... \u001b[?25l\u001b[?25hdone\n",
            "  Created wheel for phik: filename=phik-0.11.2-cp37-none-any.whl size=1107437 sha256=5b707ba846b7843dd9d279eb4fe57c2c0a167b98a96ccd223ee69756d0ed93d6\n",
            "  Stored in directory: /root/.cache/pip/wheels/c0/a3/b0/f27b1cfe32ea131a3715169132ff6d85653789e80e966c3bf6\n",
            "  Building wheel for pynndescent (setup.py) ... \u001b[?25l\u001b[?25hdone\n",
            "  Created wheel for pynndescent: filename=pynndescent-0.5.2-cp37-none-any.whl size=51362 sha256=d02022522f61e65c0d87349a142a659c82d8faeab415ceb88c9ba543a6f5ef23\n",
            "  Stored in directory: /root/.cache/pip/wheels/ba/52/4e/4c28d04d144a28f89e2575fb63628df6e6d49b56c5ddd0c74e\n",
            "  Building wheel for gpustat (setup.py) ... \u001b[?25l\u001b[?25hdone\n",
            "  Created wheel for gpustat: filename=gpustat-0.6.0-cp37-none-any.whl size=12621 sha256=387d6d3a35bfc3204da11b04bb62b17823aac30775722892e85a36eabcce4190\n",
            "  Stored in directory: /root/.cache/pip/wheels/48/b4/d5/fb5b7f1d040f2ff20687e3bad6867d63155dbde5a7c10f4293\n",
            "  Building wheel for autograd-gamma (setup.py) ... \u001b[?25l\u001b[?25hdone\n",
            "  Created wheel for autograd-gamma: filename=autograd_gamma-0.5.0-cp37-none-any.whl size=4050 sha256=682de50f00f5eeb7b23bb7dbe39a11251c6d6faecfd088f911a4376a7f23dbed\n",
            "  Stored in directory: /root/.cache/pip/wheels/dc/68/dc/91321c55fba449755524481854f5be70d41912b8f886f908bb\n",
            "  Building wheel for pyperclip (setup.py) ... \u001b[?25l\u001b[?25hdone\n",
            "  Created wheel for pyperclip: filename=pyperclip-1.8.2-cp37-none-any.whl size=11136 sha256=7952caa2ff946dafb5c3c0ebda84049d3c0a8f726efed869862f239889095bfc\n",
            "  Stored in directory: /root/.cache/pip/wheels/25/af/b8/3407109267803f4015e1ee2ff23be0c8c19ce4008665931ee1\n",
            "Successfully built shap pyod umap-learn alembic databricks-cli prometheus-flask-exporter htmlmin phik pynndescent gpustat autograd-gamma pyperclip\n",
            "\u001b[31mERROR: pandas-profiling 3.0.0 has requirement requests>=2.24.0, but you'll have requests 2.23.0 which is incompatible.\u001b[0m\n",
            "\u001b[31mERROR: pandas-profiling 3.0.0 has requirement tqdm>=4.48.2, but you'll have tqdm 4.41.1 which is incompatible.\u001b[0m\n",
            "\u001b[31mERROR: datascience 0.10.6 has requirement folium==0.2.1, but you'll have folium 0.8.3 which is incompatible.\u001b[0m\n",
            "\u001b[31mERROR: pyldavis 3.3.1 has requirement numpy>=1.20.0, but you'll have numpy 1.19.5 which is incompatible.\u001b[0m\n",
            "\u001b[31mERROR: pyldavis 3.3.1 has requirement pandas>=1.2.0, but you'll have pandas 1.1.5 which is incompatible.\u001b[0m\n",
            "\u001b[31mERROR: phik 0.11.2 has requirement scipy>=1.5.2, but you'll have scipy 1.4.1 which is incompatible.\u001b[0m\n",
            "\u001b[31mERROR: ray 1.4.1 has requirement protobuf>=3.15.3, but you'll have protobuf 3.12.4 which is incompatible.\u001b[0m\n",
            "\u001b[31mERROR: botocore 1.20.105 has requirement urllib3<1.27,>=1.25.4, but you'll have urllib3 1.24.3 which is incompatible.\u001b[0m\n",
            "Installing collected packages: threadpoolctl, scikit-learn, yellowbrick, lightgbm, funcy, pyLDAvis, querystring-parser, pyyaml, websocket-client, docker, gunicorn, smmap, gitdb, gitpython, Mako, python-editor, alembic, databricks-cli, prometheus-flask-exporter, mlflow, scikit-plot, Boruta, tangled-up-in-unicode, multimethod, imagehash, visions, htmlmin, pydantic, phik, pandas-profiling, pyod, kmodes, mlxtend, imbalanced-learn, pynndescent, umap-learn, blessings, gpustat, hiredis, async-timeout, aioredis, py-spy, redis, multidict, yarl, aiohttp, opencensus-context, opencensus, aiohttp-cors, colorama, tensorboardX, ray, tune-sklearn, jmespath, botocore, s3transfer, docutils, awscli, azure-core, isodate, msrest, cryptography, azure-storage-blob, pyaml, scikit-optimize, catboost, pyperclip, cmd2, pbr, stevedore, cliff, colorlog, cmaes, optuna, xgboost, slicer, shap, pycaret, autograd-gamma, interface-meta, formulaic, lifelines, ngboost\n",
            "  Found existing installation: scikit-learn 0.22.2.post1\n",
            "    Uninstalling scikit-learn-0.22.2.post1:\n",
            "      Successfully uninstalled scikit-learn-0.22.2.post1\n",
            "  Found existing installation: yellowbrick 0.9.1\n",
            "    Uninstalling yellowbrick-0.9.1:\n",
            "      Successfully uninstalled yellowbrick-0.9.1\n",
            "  Found existing installation: lightgbm 2.2.3\n",
            "    Uninstalling lightgbm-2.2.3:\n",
            "      Successfully uninstalled lightgbm-2.2.3\n",
            "  Found existing installation: PyYAML 3.13\n",
            "    Uninstalling PyYAML-3.13:\n",
            "      Successfully uninstalled PyYAML-3.13\n",
            "  Found existing installation: pandas-profiling 1.4.1\n",
            "    Uninstalling pandas-profiling-1.4.1:\n",
            "      Successfully uninstalled pandas-profiling-1.4.1\n",
            "  Found existing installation: mlxtend 0.14.0\n",
            "    Uninstalling mlxtend-0.14.0:\n",
            "      Successfully uninstalled mlxtend-0.14.0\n",
            "  Found existing installation: imbalanced-learn 0.4.3\n",
            "    Uninstalling imbalanced-learn-0.4.3:\n",
            "      Successfully uninstalled imbalanced-learn-0.4.3\n",
            "  Found existing installation: docutils 0.17.1\n",
            "    Uninstalling docutils-0.17.1:\n",
            "      Successfully uninstalled docutils-0.17.1\n",
            "  Found existing installation: xgboost 0.90\n",
            "    Uninstalling xgboost-0.90:\n",
            "      Successfully uninstalled xgboost-0.90\n",
            "Successfully installed Boruta-0.3 Mako-1.1.4 aiohttp-3.7.4.post0 aiohttp-cors-0.7.0 aioredis-1.3.1 alembic-1.4.1 async-timeout-3.0.1 autograd-gamma-0.5.0 awscli-1.19.105 azure-core-1.16.0 azure-storage-blob-12.8.1 blessings-1.7 botocore-1.20.105 catboost-0.26 cliff-3.8.0 cmaes-0.8.2 cmd2-2.1.1 colorama-0.4.3 colorlog-5.0.1 cryptography-3.4.7 databricks-cli-0.14.3 docker-5.0.0 docutils-0.15.2 formulaic-0.2.3 funcy-1.16 gitdb-4.0.7 gitpython-3.1.18 gpustat-0.6.0 gunicorn-20.1.0 hiredis-2.0.0 htmlmin-0.1.12 imagehash-4.2.0 imbalanced-learn-0.7.0 interface-meta-1.2.3 isodate-0.6.0 jmespath-0.10.0 kmodes-0.11.0 lifelines-0.26.0 lightgbm-3.2.1 mlflow-1.18.0 mlxtend-0.18.0 msrest-0.6.21 multidict-5.1.0 multimethod-1.4 ngboost-0.3.11 opencensus-0.7.13 opencensus-context-0.1.2 optuna-2.8.0 pandas-profiling-3.0.0 pbr-5.6.0 phik-0.11.2 prometheus-flask-exporter-0.18.2 py-spy-0.3.7 pyLDAvis-3.3.1 pyaml-20.4.0 pycaret-2.3.1 pydantic-1.8.2 pynndescent-0.5.2 pyod-0.8.9 pyperclip-1.8.2 python-editor-1.0.4 pyyaml-5.4.1 querystring-parser-1.2.4 ray-1.4.1 redis-3.5.3 s3transfer-0.4.2 scikit-learn-0.23.2 scikit-optimize-0.8.1 scikit-plot-0.3.7 shap-0.39.0 slicer-0.0.7 smmap-4.0.0 stevedore-3.3.0 tangled-up-in-unicode-0.1.0 tensorboardX-2.4 threadpoolctl-2.1.0 tune-sklearn-0.3.0 umap-learn-0.5.1 visions-0.7.1 websocket-client-1.1.0 xgboost-1.4.2 yarl-1.6.3 yellowbrick-1.3.post1\n"
          ],
          "name": "stdout"
        }
      ]
    },
    {
      "cell_type": "code",
      "metadata": {
        "colab": {
          "base_uri": "https://localhost:8080/",
          "height": 222
        },
        "id": "EzT4ed4ootBY",
        "outputId": "4646d0c0-babc-42b2-fd88-16c9b8d8c999"
      },
      "source": [
        "submission = pd.read_csv('./data/sample_submission.csv')\n",
        "print(submission.shape)\n",
        "submission.head()"
      ],
      "execution_count": 35,
      "outputs": [
        {
          "output_type": "stream",
          "text": [
            "(50, 3)\n"
          ],
          "name": "stdout"
        },
        {
          "output_type": "execute_result",
          "data": {
            "text/html": [
              "<div>\n",
              "<style scoped>\n",
              "    .dataframe tbody tr th:only-of-type {\n",
              "        vertical-align: middle;\n",
              "    }\n",
              "\n",
              "    .dataframe tbody tr th {\n",
              "        vertical-align: top;\n",
              "    }\n",
              "\n",
              "    .dataframe thead th {\n",
              "        text-align: right;\n",
              "    }\n",
              "</style>\n",
              "<table border=\"1\" class=\"dataframe\">\n",
              "  <thead>\n",
              "    <tr style=\"text-align: right;\">\n",
              "      <th></th>\n",
              "      <th>일자</th>\n",
              "      <th>중식계</th>\n",
              "      <th>석식계</th>\n",
              "    </tr>\n",
              "  </thead>\n",
              "  <tbody>\n",
              "    <tr>\n",
              "      <th>0</th>\n",
              "      <td>2021-01-27</td>\n",
              "      <td>0</td>\n",
              "      <td>0</td>\n",
              "    </tr>\n",
              "    <tr>\n",
              "      <th>1</th>\n",
              "      <td>2021-01-28</td>\n",
              "      <td>0</td>\n",
              "      <td>0</td>\n",
              "    </tr>\n",
              "    <tr>\n",
              "      <th>2</th>\n",
              "      <td>2021-01-29</td>\n",
              "      <td>0</td>\n",
              "      <td>0</td>\n",
              "    </tr>\n",
              "    <tr>\n",
              "      <th>3</th>\n",
              "      <td>2021-02-01</td>\n",
              "      <td>0</td>\n",
              "      <td>0</td>\n",
              "    </tr>\n",
              "    <tr>\n",
              "      <th>4</th>\n",
              "      <td>2021-02-02</td>\n",
              "      <td>0</td>\n",
              "      <td>0</td>\n",
              "    </tr>\n",
              "  </tbody>\n",
              "</table>\n",
              "</div>"
            ],
            "text/plain": [
              "           일자  중식계  석식계\n",
              "0  2021-01-27    0    0\n",
              "1  2021-01-28    0    0\n",
              "2  2021-01-29    0    0\n",
              "3  2021-02-01    0    0\n",
              "4  2021-02-02    0    0"
            ]
          },
          "metadata": {
            "tags": []
          },
          "execution_count": 35
        }
      ]
    },
    {
      "cell_type": "code",
      "metadata": {
        "colab": {
          "base_uri": "https://localhost:8080/"
        },
        "id": "ENSyPMYClJwi",
        "outputId": "a01e4c43-79f2-4641-ca6b-23793d4faf46"
      },
      "source": [
        "train.columns\n"
      ],
      "execution_count": 36,
      "outputs": [
        {
          "output_type": "execute_result",
          "data": {
            "text/plain": [
              "Index(['월', '일', '요일', '식사가능자수', '본사출장자수', '본사시간외근무명령서승인건수', '중식계', '석식계',\n",
              "       '중식참여율', '석식참여율', '요일(석식)'],\n",
              "      dtype='object')"
            ]
          },
          "metadata": {
            "tags": []
          },
          "execution_count": 36
        }
      ]
    },
    {
      "cell_type": "code",
      "metadata": {
        "colab": {
          "base_uri": "https://localhost:8080/"
        },
        "id": "H38_A2QWle96",
        "outputId": "0ea508ff-066c-4326-90a1-f9bb18296e44"
      },
      "source": [
        "print(train.shape)"
      ],
      "execution_count": 37,
      "outputs": [
        {
          "output_type": "stream",
          "text": [
            "(1205, 11)\n"
          ],
          "name": "stdout"
        }
      ]
    },
    {
      "cell_type": "markdown",
      "metadata": {
        "id": "W2egRtBil9uU"
      },
      "source": [
        "### 9.1 Lunch Modeling"
      ]
    },
    {
      "cell_type": "code",
      "metadata": {
        "colab": {
          "base_uri": "https://localhost:8080/",
          "height": 1000,
          "referenced_widgets": [
            "e5008e32e2b94fefbcd4c8653fdb1536",
            "b972fc3a50304458aa204e395982b774",
            "59ab84cd6caf47bbaad90053da9183e5",
            "872cfd24a2cf42ac8aca72cae888e7cc",
            "a79a22c3f62b438d8d369df2ac6da295",
            "3ae0a875f531475e8b9f1c515481f9ca",
            "af394bfd48f247ebb5ba48b5ed75fb75",
            "700c9b87093c4ec38bbcd8088756cfb8",
            "1b05e17ef1f8498e986e7c397d949f32"
          ]
        },
        "id": "bkxxL9-2lZ_p",
        "outputId": "f4de6aac-9540-41c5-cbb9-3854afe815d4"
      },
      "source": [
        "# Compare Models\n",
        "from pycaret.classification import *\n",
        "from pycaret.regression import *\n",
        "from pycaret.utils import check_metric\n",
        "\n",
        "FEATS = ['월', '일', '요일', '식사가능자수', '본사출장자수', '본사시간외근무명령서승인건수', '중식계']\n",
        "\n",
        "target_feature = '중식계'\n",
        "# categorical_features = ['지역']\n",
        "# numeric_features = [c for c in FEATS if c not in [target_col]+categorical_features]\n",
        "categorical_features = []\n",
        "numeric_features = []\n",
        "\n",
        "\n",
        "reg1 = setup(data = train[FEATS], \n",
        "             train_size=0.95,  \n",
        "             target = target_feature, \n",
        "             session_id=seed,\n",
        "             categorical_features = categorical_features,\n",
        "             numeric_features = numeric_features ,             \n",
        "             )\n",
        "top5 = compare_models(n_select = 5, sort = 'MAE')\n",
        "print('\\n'.join([str(t) for t in top5]))\n",
        "df_top_by_comparing = pull()"
      ],
      "execution_count": 38,
      "outputs": [
        {
          "output_type": "display_data",
          "data": {
            "text/html": [
              "<div>\n",
              "<style scoped>\n",
              "    .dataframe tbody tr th:only-of-type {\n",
              "        vertical-align: middle;\n",
              "    }\n",
              "\n",
              "    .dataframe tbody tr th {\n",
              "        vertical-align: top;\n",
              "    }\n",
              "\n",
              "    .dataframe thead th {\n",
              "        text-align: right;\n",
              "    }\n",
              "</style>\n",
              "<table border=\"1\" class=\"dataframe\">\n",
              "  <thead>\n",
              "    <tr style=\"text-align: right;\">\n",
              "      <th></th>\n",
              "      <th>Model</th>\n",
              "      <th>MAE</th>\n",
              "      <th>MSE</th>\n",
              "      <th>RMSE</th>\n",
              "      <th>R2</th>\n",
              "      <th>RMSLE</th>\n",
              "      <th>MAPE</th>\n",
              "      <th>TT (Sec)</th>\n",
              "    </tr>\n",
              "  </thead>\n",
              "  <tbody>\n",
              "    <tr>\n",
              "      <th>catboost</th>\n",
              "      <td>CatBoost Regressor</td>\n",
              "      <td>71.8881</td>\n",
              "      <td>9371.6389</td>\n",
              "      <td>96.5297</td>\n",
              "      <td>0.7794</td>\n",
              "      <td>0.1191</td>\n",
              "      <td>0.0877</td>\n",
              "      <td>1.960</td>\n",
              "    </tr>\n",
              "    <tr>\n",
              "      <th>gbr</th>\n",
              "      <td>Gradient Boosting Regressor</td>\n",
              "      <td>74.1986</td>\n",
              "      <td>9899.3831</td>\n",
              "      <td>99.2703</td>\n",
              "      <td>0.7676</td>\n",
              "      <td>0.1212</td>\n",
              "      <td>0.0899</td>\n",
              "      <td>0.129</td>\n",
              "    </tr>\n",
              "    <tr>\n",
              "      <th>et</th>\n",
              "      <td>Extra Trees Regressor</td>\n",
              "      <td>74.7489</td>\n",
              "      <td>10778.8502</td>\n",
              "      <td>103.4777</td>\n",
              "      <td>0.7475</td>\n",
              "      <td>0.1283</td>\n",
              "      <td>0.0918</td>\n",
              "      <td>0.594</td>\n",
              "    </tr>\n",
              "    <tr>\n",
              "      <th>rf</th>\n",
              "      <td>Random Forest Regressor</td>\n",
              "      <td>76.1130</td>\n",
              "      <td>10709.7659</td>\n",
              "      <td>103.2398</td>\n",
              "      <td>0.7494</td>\n",
              "      <td>0.1271</td>\n",
              "      <td>0.0929</td>\n",
              "      <td>0.652</td>\n",
              "    </tr>\n",
              "    <tr>\n",
              "      <th>xgboost</th>\n",
              "      <td>Extreme Gradient Boosting</td>\n",
              "      <td>78.8476</td>\n",
              "      <td>11061.3700</td>\n",
              "      <td>104.9558</td>\n",
              "      <td>0.7405</td>\n",
              "      <td>0.1286</td>\n",
              "      <td>0.0954</td>\n",
              "      <td>0.863</td>\n",
              "    </tr>\n",
              "    <tr>\n",
              "      <th>lightgbm</th>\n",
              "      <td>Light Gradient Boosting Machine</td>\n",
              "      <td>80.2091</td>\n",
              "      <td>11383.9360</td>\n",
              "      <td>106.5545</td>\n",
              "      <td>0.7319</td>\n",
              "      <td>0.1308</td>\n",
              "      <td>0.0973</td>\n",
              "      <td>0.114</td>\n",
              "    </tr>\n",
              "    <tr>\n",
              "      <th>ada</th>\n",
              "      <td>AdaBoost Regressor</td>\n",
              "      <td>88.3563</td>\n",
              "      <td>13028.3357</td>\n",
              "      <td>113.9426</td>\n",
              "      <td>0.6953</td>\n",
              "      <td>0.1400</td>\n",
              "      <td>0.1087</td>\n",
              "      <td>0.120</td>\n",
              "    </tr>\n",
              "    <tr>\n",
              "      <th>lar</th>\n",
              "      <td>Least Angle Regression</td>\n",
              "      <td>90.1388</td>\n",
              "      <td>13918.4209</td>\n",
              "      <td>117.5548</td>\n",
              "      <td>0.6722</td>\n",
              "      <td>0.1474</td>\n",
              "      <td>0.1121</td>\n",
              "      <td>0.016</td>\n",
              "    </tr>\n",
              "    <tr>\n",
              "      <th>lr</th>\n",
              "      <td>Linear Regression</td>\n",
              "      <td>90.1394</td>\n",
              "      <td>13918.4404</td>\n",
              "      <td>117.5549</td>\n",
              "      <td>0.6722</td>\n",
              "      <td>0.1474</td>\n",
              "      <td>0.1121</td>\n",
              "      <td>0.285</td>\n",
              "    </tr>\n",
              "    <tr>\n",
              "      <th>ridge</th>\n",
              "      <td>Ridge Regression</td>\n",
              "      <td>90.2146</td>\n",
              "      <td>13913.8513</td>\n",
              "      <td>117.5413</td>\n",
              "      <td>0.6723</td>\n",
              "      <td>0.1474</td>\n",
              "      <td>0.1122</td>\n",
              "      <td>0.012</td>\n",
              "    </tr>\n",
              "    <tr>\n",
              "      <th>br</th>\n",
              "      <td>Bayesian Ridge</td>\n",
              "      <td>90.4210</td>\n",
              "      <td>13912.3834</td>\n",
              "      <td>117.5492</td>\n",
              "      <td>0.6723</td>\n",
              "      <td>0.1474</td>\n",
              "      <td>0.1124</td>\n",
              "      <td>0.013</td>\n",
              "    </tr>\n",
              "    <tr>\n",
              "      <th>lasso</th>\n",
              "      <td>Lasso Regression</td>\n",
              "      <td>91.2630</td>\n",
              "      <td>14012.3393</td>\n",
              "      <td>117.9937</td>\n",
              "      <td>0.6700</td>\n",
              "      <td>0.1480</td>\n",
              "      <td>0.1135</td>\n",
              "      <td>0.013</td>\n",
              "    </tr>\n",
              "    <tr>\n",
              "      <th>omp</th>\n",
              "      <td>Orthogonal Matching Pursuit</td>\n",
              "      <td>102.8545</td>\n",
              "      <td>19599.9558</td>\n",
              "      <td>139.3975</td>\n",
              "      <td>0.5376</td>\n",
              "      <td>0.1726</td>\n",
              "      <td>0.1298</td>\n",
              "      <td>0.011</td>\n",
              "    </tr>\n",
              "    <tr>\n",
              "      <th>huber</th>\n",
              "      <td>Huber Regressor</td>\n",
              "      <td>104.7379</td>\n",
              "      <td>16851.0439</td>\n",
              "      <td>129.3709</td>\n",
              "      <td>0.6049</td>\n",
              "      <td>0.1581</td>\n",
              "      <td>0.1278</td>\n",
              "      <td>0.049</td>\n",
              "    </tr>\n",
              "    <tr>\n",
              "      <th>llar</th>\n",
              "      <td>Lasso Least Angle Regression</td>\n",
              "      <td>106.7653</td>\n",
              "      <td>19594.1574</td>\n",
              "      <td>139.6955</td>\n",
              "      <td>0.5388</td>\n",
              "      <td>0.1746</td>\n",
              "      <td>0.1357</td>\n",
              "      <td>0.013</td>\n",
              "    </tr>\n",
              "    <tr>\n",
              "      <th>dt</th>\n",
              "      <td>Decision Tree Regressor</td>\n",
              "      <td>107.3452</td>\n",
              "      <td>21039.0267</td>\n",
              "      <td>144.2479</td>\n",
              "      <td>0.5088</td>\n",
              "      <td>0.1746</td>\n",
              "      <td>0.1280</td>\n",
              "      <td>0.021</td>\n",
              "    </tr>\n",
              "    <tr>\n",
              "      <th>knn</th>\n",
              "      <td>K Neighbors Regressor</td>\n",
              "      <td>108.2845</td>\n",
              "      <td>19303.0189</td>\n",
              "      <td>138.7806</td>\n",
              "      <td>0.5478</td>\n",
              "      <td>0.1645</td>\n",
              "      <td>0.1298</td>\n",
              "      <td>0.060</td>\n",
              "    </tr>\n",
              "    <tr>\n",
              "      <th>en</th>\n",
              "      <td>Elastic Net</td>\n",
              "      <td>110.1645</td>\n",
              "      <td>19366.9762</td>\n",
              "      <td>139.0477</td>\n",
              "      <td>0.5449</td>\n",
              "      <td>0.1697</td>\n",
              "      <td>0.1359</td>\n",
              "      <td>0.015</td>\n",
              "    </tr>\n",
              "    <tr>\n",
              "      <th>par</th>\n",
              "      <td>Passive Aggressive Regressor</td>\n",
              "      <td>183.7418</td>\n",
              "      <td>49617.1500</td>\n",
              "      <td>219.4200</td>\n",
              "      <td>-0.1726</td>\n",
              "      <td>0.2643</td>\n",
              "      <td>0.2136</td>\n",
              "      <td>0.014</td>\n",
              "    </tr>\n",
              "  </tbody>\n",
              "</table>\n",
              "</div>"
            ],
            "text/plain": [
              "                                    Model       MAE         MSE      RMSE  \\\n",
              "catboost               CatBoost Regressor   71.8881   9371.6389   96.5297   \n",
              "gbr           Gradient Boosting Regressor   74.1986   9899.3831   99.2703   \n",
              "et                  Extra Trees Regressor   74.7489  10778.8502  103.4777   \n",
              "rf                Random Forest Regressor   76.1130  10709.7659  103.2398   \n",
              "xgboost         Extreme Gradient Boosting   78.8476  11061.3700  104.9558   \n",
              "lightgbm  Light Gradient Boosting Machine   80.2091  11383.9360  106.5545   \n",
              "ada                    AdaBoost Regressor   88.3563  13028.3357  113.9426   \n",
              "lar                Least Angle Regression   90.1388  13918.4209  117.5548   \n",
              "lr                      Linear Regression   90.1394  13918.4404  117.5549   \n",
              "ridge                    Ridge Regression   90.2146  13913.8513  117.5413   \n",
              "br                         Bayesian Ridge   90.4210  13912.3834  117.5492   \n",
              "lasso                    Lasso Regression   91.2630  14012.3393  117.9937   \n",
              "omp           Orthogonal Matching Pursuit  102.8545  19599.9558  139.3975   \n",
              "huber                     Huber Regressor  104.7379  16851.0439  129.3709   \n",
              "llar         Lasso Least Angle Regression  106.7653  19594.1574  139.6955   \n",
              "dt                Decision Tree Regressor  107.3452  21039.0267  144.2479   \n",
              "knn                 K Neighbors Regressor  108.2845  19303.0189  138.7806   \n",
              "en                            Elastic Net  110.1645  19366.9762  139.0477   \n",
              "par          Passive Aggressive Regressor  183.7418  49617.1500  219.4200   \n",
              "\n",
              "              R2   RMSLE    MAPE  TT (Sec)  \n",
              "catboost  0.7794  0.1191  0.0877     1.960  \n",
              "gbr       0.7676  0.1212  0.0899     0.129  \n",
              "et        0.7475  0.1283  0.0918     0.594  \n",
              "rf        0.7494  0.1271  0.0929     0.652  \n",
              "xgboost   0.7405  0.1286  0.0954     0.863  \n",
              "lightgbm  0.7319  0.1308  0.0973     0.114  \n",
              "ada       0.6953  0.1400  0.1087     0.120  \n",
              "lar       0.6722  0.1474  0.1121     0.016  \n",
              "lr        0.6722  0.1474  0.1121     0.285  \n",
              "ridge     0.6723  0.1474  0.1122     0.012  \n",
              "br        0.6723  0.1474  0.1124     0.013  \n",
              "lasso     0.6700  0.1480  0.1135     0.013  \n",
              "omp       0.5376  0.1726  0.1298     0.011  \n",
              "huber     0.6049  0.1581  0.1278     0.049  \n",
              "llar      0.5388  0.1746  0.1357     0.013  \n",
              "dt        0.5088  0.1746  0.1280     0.021  \n",
              "knn       0.5478  0.1645  0.1298     0.060  \n",
              "en        0.5449  0.1697  0.1359     0.015  \n",
              "par      -0.1726  0.2643  0.2136     0.014  "
            ]
          },
          "metadata": {
            "tags": []
          }
        },
        {
          "output_type": "stream",
          "text": [
            "<catboost.core.CatBoostRegressor object at 0x7fead3ae6290>\n",
            "GradientBoostingRegressor(alpha=0.9, ccp_alpha=0.0, criterion='friedman_mse',\n",
            "                          init=None, learning_rate=0.1, loss='ls', max_depth=3,\n",
            "                          max_features=None, max_leaf_nodes=None,\n",
            "                          min_impurity_decrease=0.0, min_impurity_split=None,\n",
            "                          min_samples_leaf=1, min_samples_split=2,\n",
            "                          min_weight_fraction_leaf=0.0, n_estimators=100,\n",
            "                          n_iter_no_change=None, presort='deprecated',\n",
            "                          random_state=47, subsample=1.0, tol=0.0001,\n",
            "                          validation_fraction=0.1, verbose=0, warm_start=False)\n",
            "ExtraTreesRegressor(bootstrap=False, ccp_alpha=0.0, criterion='mse',\n",
            "                    max_depth=None, max_features='auto', max_leaf_nodes=None,\n",
            "                    max_samples=None, min_impurity_decrease=0.0,\n",
            "                    min_impurity_split=None, min_samples_leaf=1,\n",
            "                    min_samples_split=2, min_weight_fraction_leaf=0.0,\n",
            "                    n_estimators=100, n_jobs=-1, oob_score=False,\n",
            "                    random_state=47, verbose=0, warm_start=False)\n",
            "RandomForestRegressor(bootstrap=True, ccp_alpha=0.0, criterion='mse',\n",
            "                      max_depth=None, max_features='auto', max_leaf_nodes=None,\n",
            "                      max_samples=None, min_impurity_decrease=0.0,\n",
            "                      min_impurity_split=None, min_samples_leaf=1,\n",
            "                      min_samples_split=2, min_weight_fraction_leaf=0.0,\n",
            "                      n_estimators=100, n_jobs=-1, oob_score=False,\n",
            "                      random_state=47, verbose=0, warm_start=False)\n",
            "XGBRegressor(base_score=0.5, booster='gbtree', colsample_bylevel=1,\n",
            "             colsample_bynode=1, colsample_bytree=1, gamma=0, gpu_id=-1,\n",
            "             importance_type='gain', interaction_constraints='',\n",
            "             learning_rate=0.300000012, max_delta_step=0, max_depth=6,\n",
            "             min_child_weight=1, missing=nan, monotone_constraints='()',\n",
            "             n_estimators=100, n_jobs=-1, num_parallel_tree=1,\n",
            "             objective='reg:squarederror', random_state=47, reg_alpha=0,\n",
            "             reg_lambda=1, scale_pos_weight=1, subsample=1, tree_method='auto',\n",
            "             validate_parameters=1, verbosity=0)\n"
          ],
          "name": "stdout"
        }
      ]
    },
    {
      "cell_type": "code",
      "metadata": {
        "colab": {
          "base_uri": "https://localhost:8080/"
        },
        "id": "QJyYYKH_lusM",
        "outputId": "a02cba9b-dcc8-4c18-e06d-a98b41971d2c"
      },
      "source": [
        "# df_top_by_comparing.to_csv('./output_pycaret/00_compare_models.csv',index=True)\n",
        "df_top_by_comparing.index"
      ],
      "execution_count": 39,
      "outputs": [
        {
          "output_type": "execute_result",
          "data": {
            "text/plain": [
              "Index(['catboost', 'gbr', 'et', 'rf', 'xgboost', 'lightgbm', 'ada', 'lar',\n",
              "       'lr', 'ridge', 'br', 'lasso', 'omp', 'huber', 'llar', 'dt', 'knn', 'en',\n",
              "       'par'],\n",
              "      dtype='object')"
            ]
          },
          "metadata": {
            "tags": []
          },
          "execution_count": 39
        }
      ]
    },
    {
      "cell_type": "code",
      "metadata": {
        "colab": {
          "base_uri": "https://localhost:8080/"
        },
        "id": "lmFaZnoJnCzg",
        "outputId": "08736c52-1291-4dce-c9ca-885ef41dc0c9"
      },
      "source": [
        "# 모델들, grid score df, plot 등이 모두 저장되는 상위경로\n",
        "now_time = datetime.now(timezone(timedelta(hours=9))).strftime('%m%d_%H%M')\n",
        "experiment_name = 'Pycaret사용_catboost_79수정' + '_'+ '중식'\n",
        "\n",
        "now_time += '_' + experiment_name\n",
        "\n",
        "upper_dir_of_pycaret = f'/content/drive/MyDrive/restaurant_people/output_pycaret/{now_time}'\n",
        "print(f\"upper_dir_of_pycaret : {upper_dir_of_pycaret}\")\n",
        "\n",
        "fold=10\n",
        "# FEATS = [c for c in final_df.columns if c not in ['단지코드']]\n",
        "target_feature = '중식계'\n",
        "\n",
        "print(f'FEATS : {len(FEATS)}')\n",
        "print(f\"target : {target_feature}\")\n",
        "print(f'cat_features : {len(categorical_features)}')\n",
        "print(f'numeric_features : {len(numeric_features)}')\n",
        "\n",
        "model_name_list=['catboost']   # 'et', 'catboost', 'rf', 'gbr', 'llar', 'omp', 'en', 'ada', 'br', 'lr', 'lasso', 'dt', 'ridge',\n",
        "ensemble_method = 'blend_models'  # 'blend_models', 'stack_models' ->  (Regression : 'create_stacknet'), (Classifier : 'stack_models'),\n",
        "meta_model_for_stack = 'xgboost' # If using stack_models"
      ],
      "execution_count": 40,
      "outputs": [
        {
          "output_type": "stream",
          "text": [
            "upper_dir_of_pycaret : /content/drive/MyDrive/restaurant_people/output_pycaret/0703_2253_Pycaret사용_catboost_79수정_중식\n",
            "FEATS : 7\n",
            "target : 중식계\n",
            "cat_features : 0\n",
            "numeric_features : 0\n"
          ],
          "name": "stdout"
        }
      ]
    },
    {
      "cell_type": "code",
      "metadata": {
        "colab": {
          "base_uri": "https://localhost:8080/",
          "height": 1000,
          "referenced_widgets": [
            "3ec721609f634c1eb3a7d85d9d76da15",
            "19ebc8e907004f469724be315cba41dd",
            "3113c8d72772412fadc3b0147e8dcf5d",
            "c39c564baa61495cb914487d019dd069",
            "7cef661286b842f4b3a6319215da59c6",
            "d9524285d45d4cdaae22d433295c9b65"
          ]
        },
        "id": "KowRfb-2nRXC",
        "outputId": "199e1275-4d8a-42f1-9292-e2396b2795b1"
      },
      "source": [
        "n_iter = 20\n",
        "\n",
        "settings = setup(\n",
        "                data=train[FEATS], \n",
        "                target=target_feature, \n",
        "                train_size=0.95, \n",
        "                categorical_features = categorical_features,\n",
        "                numeric_features = numeric_features ,                        \n",
        "                data_split_shuffle = True, # True가 default\n",
        "                session_id = seed,\n",
        "                # fold_strategy = last_fold,\n",
        "                # experiment_name=experiment_name,\n",
        "                # log_experiment=False,   # compare_model 할 때에는 하이퍼파라미터가 어떻게 튜닝되었는지 볼 수 있어서 유용하다고 한다.\n",
        "                )\n",
        "\n",
        "# from ngboost import NGBClassifier\n",
        "# ngc = NGBClassifier()\n",
        "# ngboost = create_model(ngc)\n",
        "\n"
      ],
      "execution_count": 41,
      "outputs": [
        {
          "output_type": "display_data",
          "data": {
            "text/html": [
              "<div>\n",
              "<style scoped>\n",
              "    .dataframe tbody tr th:only-of-type {\n",
              "        vertical-align: middle;\n",
              "    }\n",
              "\n",
              "    .dataframe tbody tr th {\n",
              "        vertical-align: top;\n",
              "    }\n",
              "\n",
              "    .dataframe thead th {\n",
              "        text-align: right;\n",
              "    }\n",
              "</style>\n",
              "<table border=\"1\" class=\"dataframe\">\n",
              "  <thead>\n",
              "    <tr style=\"text-align: right;\">\n",
              "      <th></th>\n",
              "      <th>Description</th>\n",
              "      <th>Value</th>\n",
              "    </tr>\n",
              "  </thead>\n",
              "  <tbody>\n",
              "    <tr>\n",
              "      <th>0</th>\n",
              "      <td>session_id</td>\n",
              "      <td>47</td>\n",
              "    </tr>\n",
              "    <tr>\n",
              "      <th>1</th>\n",
              "      <td>Target</td>\n",
              "      <td>중식계</td>\n",
              "    </tr>\n",
              "    <tr>\n",
              "      <th>2</th>\n",
              "      <td>Original Data</td>\n",
              "      <td>(1205, 7)</td>\n",
              "    </tr>\n",
              "    <tr>\n",
              "      <th>3</th>\n",
              "      <td>Missing Values</td>\n",
              "      <td>False</td>\n",
              "    </tr>\n",
              "    <tr>\n",
              "      <th>4</th>\n",
              "      <td>Numeric Features</td>\n",
              "      <td>4</td>\n",
              "    </tr>\n",
              "    <tr>\n",
              "      <th>5</th>\n",
              "      <td>Categorical Features</td>\n",
              "      <td>2</td>\n",
              "    </tr>\n",
              "    <tr>\n",
              "      <th>6</th>\n",
              "      <td>Ordinal Features</td>\n",
              "      <td>False</td>\n",
              "    </tr>\n",
              "    <tr>\n",
              "      <th>7</th>\n",
              "      <td>High Cardinality Features</td>\n",
              "      <td>False</td>\n",
              "    </tr>\n",
              "    <tr>\n",
              "      <th>8</th>\n",
              "      <td>High Cardinality Method</td>\n",
              "      <td>None</td>\n",
              "    </tr>\n",
              "    <tr>\n",
              "      <th>9</th>\n",
              "      <td>Transformed Train Set</td>\n",
              "      <td>(1144, 21)</td>\n",
              "    </tr>\n",
              "    <tr>\n",
              "      <th>10</th>\n",
              "      <td>Transformed Test Set</td>\n",
              "      <td>(61, 21)</td>\n",
              "    </tr>\n",
              "    <tr>\n",
              "      <th>11</th>\n",
              "      <td>Shuffle Train-Test</td>\n",
              "      <td>True</td>\n",
              "    </tr>\n",
              "    <tr>\n",
              "      <th>12</th>\n",
              "      <td>Stratify Train-Test</td>\n",
              "      <td>False</td>\n",
              "    </tr>\n",
              "    <tr>\n",
              "      <th>13</th>\n",
              "      <td>Fold Generator</td>\n",
              "      <td>KFold</td>\n",
              "    </tr>\n",
              "    <tr>\n",
              "      <th>14</th>\n",
              "      <td>Fold Number</td>\n",
              "      <td>10</td>\n",
              "    </tr>\n",
              "    <tr>\n",
              "      <th>15</th>\n",
              "      <td>CPU Jobs</td>\n",
              "      <td>-1</td>\n",
              "    </tr>\n",
              "    <tr>\n",
              "      <th>16</th>\n",
              "      <td>Use GPU</td>\n",
              "      <td>False</td>\n",
              "    </tr>\n",
              "    <tr>\n",
              "      <th>17</th>\n",
              "      <td>Log Experiment</td>\n",
              "      <td>False</td>\n",
              "    </tr>\n",
              "    <tr>\n",
              "      <th>18</th>\n",
              "      <td>Experiment Name</td>\n",
              "      <td>reg-default-name</td>\n",
              "    </tr>\n",
              "    <tr>\n",
              "      <th>19</th>\n",
              "      <td>USI</td>\n",
              "      <td>2cc5</td>\n",
              "    </tr>\n",
              "    <tr>\n",
              "      <th>20</th>\n",
              "      <td>Imputation Type</td>\n",
              "      <td>simple</td>\n",
              "    </tr>\n",
              "    <tr>\n",
              "      <th>21</th>\n",
              "      <td>Iterative Imputation Iteration</td>\n",
              "      <td>None</td>\n",
              "    </tr>\n",
              "    <tr>\n",
              "      <th>22</th>\n",
              "      <td>Numeric Imputer</td>\n",
              "      <td>mean</td>\n",
              "    </tr>\n",
              "    <tr>\n",
              "      <th>23</th>\n",
              "      <td>Iterative Imputation Numeric Model</td>\n",
              "      <td>None</td>\n",
              "    </tr>\n",
              "    <tr>\n",
              "      <th>24</th>\n",
              "      <td>Categorical Imputer</td>\n",
              "      <td>constant</td>\n",
              "    </tr>\n",
              "    <tr>\n",
              "      <th>25</th>\n",
              "      <td>Iterative Imputation Categorical Model</td>\n",
              "      <td>None</td>\n",
              "    </tr>\n",
              "    <tr>\n",
              "      <th>26</th>\n",
              "      <td>Unknown Categoricals Handling</td>\n",
              "      <td>least_frequent</td>\n",
              "    </tr>\n",
              "    <tr>\n",
              "      <th>27</th>\n",
              "      <td>Normalize</td>\n",
              "      <td>False</td>\n",
              "    </tr>\n",
              "    <tr>\n",
              "      <th>28</th>\n",
              "      <td>Normalize Method</td>\n",
              "      <td>None</td>\n",
              "    </tr>\n",
              "    <tr>\n",
              "      <th>29</th>\n",
              "      <td>Transformation</td>\n",
              "      <td>False</td>\n",
              "    </tr>\n",
              "    <tr>\n",
              "      <th>30</th>\n",
              "      <td>Transformation Method</td>\n",
              "      <td>None</td>\n",
              "    </tr>\n",
              "    <tr>\n",
              "      <th>31</th>\n",
              "      <td>PCA</td>\n",
              "      <td>False</td>\n",
              "    </tr>\n",
              "    <tr>\n",
              "      <th>32</th>\n",
              "      <td>PCA Method</td>\n",
              "      <td>None</td>\n",
              "    </tr>\n",
              "    <tr>\n",
              "      <th>33</th>\n",
              "      <td>PCA Components</td>\n",
              "      <td>None</td>\n",
              "    </tr>\n",
              "    <tr>\n",
              "      <th>34</th>\n",
              "      <td>Ignore Low Variance</td>\n",
              "      <td>False</td>\n",
              "    </tr>\n",
              "    <tr>\n",
              "      <th>35</th>\n",
              "      <td>Combine Rare Levels</td>\n",
              "      <td>False</td>\n",
              "    </tr>\n",
              "    <tr>\n",
              "      <th>36</th>\n",
              "      <td>Rare Level Threshold</td>\n",
              "      <td>None</td>\n",
              "    </tr>\n",
              "    <tr>\n",
              "      <th>37</th>\n",
              "      <td>Numeric Binning</td>\n",
              "      <td>False</td>\n",
              "    </tr>\n",
              "    <tr>\n",
              "      <th>38</th>\n",
              "      <td>Remove Outliers</td>\n",
              "      <td>False</td>\n",
              "    </tr>\n",
              "    <tr>\n",
              "      <th>39</th>\n",
              "      <td>Outliers Threshold</td>\n",
              "      <td>None</td>\n",
              "    </tr>\n",
              "    <tr>\n",
              "      <th>40</th>\n",
              "      <td>Remove Multicollinearity</td>\n",
              "      <td>False</td>\n",
              "    </tr>\n",
              "    <tr>\n",
              "      <th>41</th>\n",
              "      <td>Multicollinearity Threshold</td>\n",
              "      <td>None</td>\n",
              "    </tr>\n",
              "    <tr>\n",
              "      <th>42</th>\n",
              "      <td>Clustering</td>\n",
              "      <td>False</td>\n",
              "    </tr>\n",
              "    <tr>\n",
              "      <th>43</th>\n",
              "      <td>Clustering Iteration</td>\n",
              "      <td>None</td>\n",
              "    </tr>\n",
              "    <tr>\n",
              "      <th>44</th>\n",
              "      <td>Polynomial Features</td>\n",
              "      <td>False</td>\n",
              "    </tr>\n",
              "    <tr>\n",
              "      <th>45</th>\n",
              "      <td>Polynomial Degree</td>\n",
              "      <td>None</td>\n",
              "    </tr>\n",
              "    <tr>\n",
              "      <th>46</th>\n",
              "      <td>Trignometry Features</td>\n",
              "      <td>False</td>\n",
              "    </tr>\n",
              "    <tr>\n",
              "      <th>47</th>\n",
              "      <td>Polynomial Threshold</td>\n",
              "      <td>None</td>\n",
              "    </tr>\n",
              "    <tr>\n",
              "      <th>48</th>\n",
              "      <td>Group Features</td>\n",
              "      <td>False</td>\n",
              "    </tr>\n",
              "    <tr>\n",
              "      <th>49</th>\n",
              "      <td>Feature Selection</td>\n",
              "      <td>False</td>\n",
              "    </tr>\n",
              "    <tr>\n",
              "      <th>50</th>\n",
              "      <td>Feature Selection Method</td>\n",
              "      <td>classic</td>\n",
              "    </tr>\n",
              "    <tr>\n",
              "      <th>51</th>\n",
              "      <td>Features Selection Threshold</td>\n",
              "      <td>None</td>\n",
              "    </tr>\n",
              "    <tr>\n",
              "      <th>52</th>\n",
              "      <td>Feature Interaction</td>\n",
              "      <td>False</td>\n",
              "    </tr>\n",
              "    <tr>\n",
              "      <th>53</th>\n",
              "      <td>Feature Ratio</td>\n",
              "      <td>False</td>\n",
              "    </tr>\n",
              "    <tr>\n",
              "      <th>54</th>\n",
              "      <td>Interaction Threshold</td>\n",
              "      <td>None</td>\n",
              "    </tr>\n",
              "    <tr>\n",
              "      <th>55</th>\n",
              "      <td>Transform Target</td>\n",
              "      <td>False</td>\n",
              "    </tr>\n",
              "    <tr>\n",
              "      <th>56</th>\n",
              "      <td>Transform Target Method</td>\n",
              "      <td>box-cox</td>\n",
              "    </tr>\n",
              "  </tbody>\n",
              "</table>\n",
              "</div>"
            ],
            "text/plain": [
              "                               Description             Value\n",
              "0                               session_id                47\n",
              "1                                   Target               중식계\n",
              "2                            Original Data         (1205, 7)\n",
              "3                           Missing Values             False\n",
              "4                         Numeric Features                 4\n",
              "5                     Categorical Features                 2\n",
              "6                         Ordinal Features             False\n",
              "7                High Cardinality Features             False\n",
              "8                  High Cardinality Method              None\n",
              "9                    Transformed Train Set        (1144, 21)\n",
              "10                    Transformed Test Set          (61, 21)\n",
              "11                      Shuffle Train-Test              True\n",
              "12                     Stratify Train-Test             False\n",
              "13                          Fold Generator             KFold\n",
              "14                             Fold Number                10\n",
              "15                                CPU Jobs                -1\n",
              "16                                 Use GPU             False\n",
              "17                          Log Experiment             False\n",
              "18                         Experiment Name  reg-default-name\n",
              "19                                     USI              2cc5\n",
              "20                         Imputation Type            simple\n",
              "21          Iterative Imputation Iteration              None\n",
              "22                         Numeric Imputer              mean\n",
              "23      Iterative Imputation Numeric Model              None\n",
              "24                     Categorical Imputer          constant\n",
              "25  Iterative Imputation Categorical Model              None\n",
              "26           Unknown Categoricals Handling    least_frequent\n",
              "27                               Normalize             False\n",
              "28                        Normalize Method              None\n",
              "29                          Transformation             False\n",
              "30                   Transformation Method              None\n",
              "31                                     PCA             False\n",
              "32                              PCA Method              None\n",
              "33                          PCA Components              None\n",
              "34                     Ignore Low Variance             False\n",
              "35                     Combine Rare Levels             False\n",
              "36                    Rare Level Threshold              None\n",
              "37                         Numeric Binning             False\n",
              "38                         Remove Outliers             False\n",
              "39                      Outliers Threshold              None\n",
              "40                Remove Multicollinearity             False\n",
              "41             Multicollinearity Threshold              None\n",
              "42                              Clustering             False\n",
              "43                    Clustering Iteration              None\n",
              "44                     Polynomial Features             False\n",
              "45                       Polynomial Degree              None\n",
              "46                    Trignometry Features             False\n",
              "47                    Polynomial Threshold              None\n",
              "48                          Group Features             False\n",
              "49                       Feature Selection             False\n",
              "50                Feature Selection Method           classic\n",
              "51            Features Selection Threshold              None\n",
              "52                     Feature Interaction             False\n",
              "53                           Feature Ratio             False\n",
              "54                   Interaction Threshold              None\n",
              "55                        Transform Target             False\n",
              "56                 Transform Target Method           box-cox"
            ]
          },
          "metadata": {
            "tags": []
          }
        }
      ]
    },
    {
      "cell_type": "code",
      "metadata": {
        "id": "l_qN6Gx3nlSi"
      },
      "source": [
        "## Classification Models :  https://github.com/pycaret/pycaret/blob/master/pycaret/containers/models/classification.py\n",
        "## Regression Modelss : https://github.com/pycaret/pycaret/blob/master/pycaret/containers/models/regression.py\n",
        "\n",
        "## 각 단계마다 (create - tune - ensemble - finalize) 모델, 정보, plot 저장해주는 코드\n",
        "\n",
        "def plot_save_pycaret_model(name, model,mode='tune'):\n",
        "    # Feature Importance Plot 저장하기\n",
        "    plot_dir = f'{upper_dir_of_pycaret}/plot_result'\n",
        "    os.makedirs(plot_dir, exist_ok=True)\n",
        "    os.chdir(plot_dir)\n",
        "    # top10 feature\n",
        "    feature_importance_plot = plot_model(model, plot = 'feature', save=True)\n",
        "    os.rename(f'{plot_dir}/Feature Importance.png',f'{plot_dir}/{mode}_{name}_10_feature_importance.png')\n",
        "    # all feature\n",
        "    feature_importance_plot = plot_model(model, plot = 'feature_all', save=True)\n",
        "    os.rename(f'{plot_dir}/Feature Importance (All).png',f'{plot_dir}/{mode}_{name}_all_feature_importance.png')\n",
        "\n",
        "# def create_and_save_pycaret_model(name):\n",
        "#     created_model = create_model(name, cross_validation = True)\n",
        "#     # Display되는 score grid dataframe도 가져올 수가 있다. \n",
        "#     df_result_model = pull()\n",
        "#     df_result_model.to_csv(f'{upper_dir_of_pycaret}/{name}_create_grid_df.csv')\n",
        "#     # 실험결과를 저장하는 것도 가능하다.\n",
        "#     save_experiment(f'{upper_dir_of_pycaret}/{name}_create_exp_result')\n",
        "#     # 모델을 저장하는 것도 가능하다.\n",
        "#     save_model(created_model, f'{upper_dir_of_pycaret}/{name}_model_saved')\n",
        "#     return created_model\n",
        "\n",
        "def tune_and_save_pycaret_model(name, model, optimize = 'MAE', fold = fold, n_iter = n_iter):\n",
        "    print('Now Tuning the models....')\n",
        "    tuned_model = tune_model(model, optimize = optimize, fold = fold, n_iter = n_iter)   # \n",
        "    # Display되는 score grid dataframe도 가져올 수가 있다. \n",
        "    df_result_model = pull()\n",
        "    os.makedirs(f\"{upper_dir_of_pycaret}/grid_df\",exist_ok=True)\n",
        "    df_result_model.to_csv(f'{upper_dir_of_pycaret}/grid_df/{name}_tuned_grid_df.csv')\n",
        "    # 모델의 각종 plot을 저장하는 것도 가능하다.\n",
        "    plot_save_pycaret_model(name, tuned_model, mode='tune')\n",
        "    # 실험결과를 저장하는 것도 가능하다.\n",
        "    os.makedirs(f\"{upper_dir_of_pycaret}/expr\",exist_ok=True)\n",
        "    try:\n",
        "        save_experiment(f'{upper_dir_of_pycaret}/expr/{name}_tuned_exp_result')\n",
        "    except:\n",
        "        print('tuned model의 실험결과는 저장할 수 없습니다.')\n",
        "    # 모델을 저장하는 것도 가능하다.\n",
        "    os.makedirs(f\"{upper_dir_of_pycaret}/models\",exist_ok=True)\n",
        "    save_model(tuned_model, f'{upper_dir_of_pycaret}/models/{name}_tuned_model_saved')\n",
        "    return tuned_model\n",
        "\n",
        "def ensemble_and_save_pycaret_model(\n",
        "                                    model_name_list,\n",
        "                                    estimator_list,\n",
        "                                    fold = fold,\n",
        "                                    optimize = 'MAE',\n",
        "                                    meta_model = None,\n",
        "                                    mode = None,\n",
        "                                    ):\n",
        "    print('Now Ensemble the models....')\n",
        "    if mode=='blend_models':\n",
        "        ensembled_model = blend_models(estimator_list = estimator_list, fold = fold, optimize = optimize)\n",
        "    elif mode=='stack_models':\n",
        "        ensembled_model = stack_models(estimator_list = estimator_list, fold = fold, optimize = optimize, meta_model = meta_model)\n",
        "    # Display되는 score grid dataframe도 가져올 수가 있다. \n",
        "    df_result_model = pull()\n",
        "    name = '_'.join(model_name_list)\n",
        "    os.makedirs(f\"{upper_dir_of_pycaret}/grid_df\",exist_ok=True)\n",
        "    df_result_model.to_csv(f'{upper_dir_of_pycaret}/grid_df/{name}_ensembled_grid_df.csv')\n",
        "    # 모델의 각종 plot을 저장하는 것도 가능하다.\n",
        "    try:\n",
        "        plot_save_pycaret_model(name, ensembled_model, mode='ensemble')\n",
        "    except:\n",
        "        print(f'ensemble model은 변수중요도 plot을 저장할 수 없습니다')\n",
        "    # 실험결과를 저장하는 것도 가능하다.\n",
        "    os.makedirs(f\"{upper_dir_of_pycaret}/expr\",exist_ok=True)\n",
        "    try:\n",
        "        save_experiment(f'{upper_dir_of_pycaret}/expr/{name}_ensembled_exp_result')\n",
        "    except:\n",
        "        print(f'ensemble model은 실험결과를 저장할 수 없습니다')\n",
        "    # 모델을 저장하는 것도 가능하다.\n",
        "    os.makedirs(f\"{upper_dir_of_pycaret}/models\",exist_ok=True)\n",
        "    save_model(ensembled_model, f'{upper_dir_of_pycaret}/models/{name}_ensembled_model_saved')\n",
        "    return ensembled_model\n",
        "\n",
        "def finalize_and_save_pycaret_model(model_name_list,model,):\n",
        "    print('Now Finalizing the model....')\n",
        "    finalized_model = finalize_model(model)\n",
        "    # Display되는 score grid dataframe도 가져올 수가 있다. \n",
        "    df_result_model = pull()\n",
        "    name = '_'.join(model_name_list)\n",
        "    os.makedirs(f\"{upper_dir_of_pycaret}/grid_df\",exist_ok=True)\n",
        "    df_result_model.to_csv(f'{upper_dir_of_pycaret}/grid_df/{name}_finalized_grid_df.csv')\n",
        "    # 모델의 각종 plot을 저장하는 것도 가능하다.\n",
        "    try:\n",
        "        plot_save_pycaret_model(name, finalized_model, mode='finalize')\n",
        "    except:\n",
        "        print(f'final model은 변수중요도 plot을 저장할 수 없습니다')\n",
        "    # 실험결과를 저장하는 것도 가능하다.\n",
        "    os.makedirs(f\"{upper_dir_of_pycaret}/expr\",exist_ok=True)\n",
        "    try:\n",
        "        save_experiment(f'{upper_dir_of_pycaret}/expr/{name}_finalized_exp_result')\n",
        "    except:\n",
        "        print(f'final model은 실험결과를 저장할 수 없습니다')\n",
        "    # 모델을 저장하는 것도 가능하다.\n",
        "    os.makedirs(f\"{upper_dir_of_pycaret}/models\",exist_ok=True)\n",
        "    save_model(finalized_model, f'{upper_dir_of_pycaret}/models/{name}_finalized_model_saved')\n",
        "    return finalized_model\n"
      ],
      "execution_count": 42,
      "outputs": []
    },
    {
      "cell_type": "code",
      "metadata": {
        "id": "4KWiM1vbnq9r"
      },
      "source": [
        "def ensemble_automl(\n",
        "                    final_df,\n",
        "                    # holdout,\n",
        "                    FEATS,\n",
        "                    cat_features=[],\n",
        "                    continuous_features=[],\n",
        "                    seed=seed,\n",
        "                    model_name_list = model_name_list,\n",
        "                    ensemble_method = ensemble_method,\n",
        "                    meta_model_for_stack = meta_model_for_stack,\n",
        "                    settings = settings,\n",
        "                    ):\n",
        "\n",
        "    # final_df, holdout = datasets\n",
        "    random.seed(seed)\n",
        "    # fold_strategy = KFold(n_splits=10, shuffle=True, random_state=42)\n",
        "    settings = settings\n",
        "\n",
        "    # train_size만큼을 가지고 선언된 model_name_list 모델들을 학습을 함\n",
        "    # create_model(name, sort='MAE', cross_validation = True)\n",
        "    models_before_tune = [\n",
        "                            create_model(\n",
        "                                name, \n",
        "                                fold=fold,\n",
        "                                cross_validation = True,\n",
        "                                # cross_validation = False,\n",
        "                                ) \n",
        "                            for name in model_name_list]\n",
        "    # 앞서만든 모델들을 train_size만큼 가지고 튜닝함 (n_iter만큼 AutoML)\n",
        "    # models_after_tune = [tune_model(model, optimize = 'MAE', fold = 10, n_iter = 10) for model in models_before_tune]\n",
        "    models_after_tune = [tune_and_save_pycaret_model(name, model, optimize = 'MAE', fold = fold, n_iter = n_iter) for name, model in zip(model_name_list, models_before_tune)]\n",
        "\n",
        "\n",
        "    # 튜닝된 모델들을 train_size만큼 가지고 앙상블\n",
        "    if len(models_after_tune)<=1:\n",
        "        ensembled = models_after_tune[0]\n",
        "    else:\n",
        "        ensembled = ensemble_and_save_pycaret_model(model_name_list,estimator_list=models_after_tune,fold = fold, optimize = 'MAE',method = method,meta_model = meta_model_for_stack,mode = ensemble_method)\n",
        "    # elif ensemble_method=='blend_models':\n",
        "    #     ensembled = blend_models(estimator_list = models_after_tune, fold = 10, method = 'soft', optimize = 'MAE')\n",
        "    # elif ensemble_method=='stack_models':\n",
        "    #     ensembled = stack_models(estimator_list = models_after_tune, meta_model = meta_model_for_stack, fold = 10, optimize = 'MAE')\n",
        "\n",
        "    # 마지막 학습(Finalize)\n",
        "    # 앞서 앙상블된 모델을 => setup으로 나눠져 쓰지않았던 valid까지 포함된 100퍼센트를 사용하여 fitting함\n",
        "    final_model = finalize_and_save_pycaret_model(model_name_list,ensembled)\n",
        "\n",
        "    metric_result = []\n",
        "    # prediction = predict_model(final_model, data=holdout[FEATS], )  # raw_score = True\n",
        "    # metric_result.append(f\"HoldOut 데이터 MAE = {check_metric(prediction['등록차량수'], prediction['Label'], metric = 'MAE')}\")\n",
        "    return final_model, metric_result\n"
      ],
      "execution_count": 43,
      "outputs": []
    },
    {
      "cell_type": "code",
      "metadata": {
        "colab": {
          "base_uri": "https://localhost:8080/",
          "height": 696,
          "referenced_widgets": [
            "09e7090b70634c83819f9c47fb424fb1",
            "989a1006dc5340c98b7fa6ce8c6f4d50",
            "21c4df72e12242d4aaab6f61c8fac51d",
            "7daffb71443f4c48864da6c6c9f23d18",
            "0d1201b66d014616a553baf4fa3eb76f",
            "7093c1887bf04f2bbf6e75af989d5fde",
            "3794e7ab1cf748f381eb19ff73577282"
          ]
        },
        "id": "F7T6NNmAn8tL",
        "outputId": "a6e3e0dd-6a8a-494f-ebfa-dfe93f4b3c1c"
      },
      "source": [
        "lunch_model, metric_result = ensemble_automl(\n",
        "                                            train,\n",
        "                                            # holdout,\n",
        "                                            FEATS,\n",
        "                                            categorical_features,\n",
        "                                            numeric_features,\n",
        "                                            seed=seed,\n",
        "                                            model_name_list=model_name_list,\n",
        "                                            ensemble_method = ensemble_method,\n",
        "                                            meta_model_for_stack = meta_model_for_stack,\n",
        "                                            )\n",
        "\n",
        "print(lunch_model)\n",
        "\n",
        "print(f\"Error : \",'\\n'.join(metric_result))\n",
        "\n"
      ],
      "execution_count": 44,
      "outputs": [
        {
          "output_type": "stream",
          "text": [
            "final model은 실험결과를 저장할 수 없습니다\n",
            "Transformation Pipeline and Model Succesfully Saved\n",
            "<catboost.core.CatBoostRegressor object at 0x7fead1a451d0>\n",
            "Error :  \n"
          ],
          "name": "stdout"
        }
      ]
    },
    {
      "cell_type": "markdown",
      "metadata": {
        "id": "5LCkI3_HoTet"
      },
      "source": [
        "### 9.2 Dinner Modeling"
      ]
    },
    {
      "cell_type": "code",
      "metadata": {
        "id": "wPcAQbrnqDGi"
      },
      "source": [
        "# Compare Models\n",
        "from pycaret.classification import *\n",
        "from pycaret.regression import *\n",
        "from pycaret.utils import check_metric\n",
        "\n",
        "FEATS = ['월', '일', '요일', '식사가능자수', '본사출장자수', '본사시간외근무명령서승인건수', '석식계']\n",
        "\n",
        "target_feature = '석식계'\n",
        "# categorical_features = ['지역']\n",
        "# numeric_features = [c for c in FEATS if c not in [target_col]+categorical_features]\n",
        "categorical_features = []\n",
        "numeric_features = []"
      ],
      "execution_count": 45,
      "outputs": []
    },
    {
      "cell_type": "code",
      "metadata": {
        "colab": {
          "base_uri": "https://localhost:8080/",
          "height": 1000,
          "referenced_widgets": [
            "2afc5f06603d424db34184522cd39406",
            "a4fce5bfa18f498995d5bdd2ebd93de9",
            "34c7ee5a441e4e24ac749c853a789ce8",
            "52fd53502f6941bba9460d39fda3cc80",
            "84f9d973c0e7422c8e84e5bce55ce200",
            "cddc449b0bb64732a78ecc157357ddfc",
            "3a308a7e93494a2ba57d6cc988e1503a",
            "d3aaa1e27ff0438ebbf25f552784cab3",
            "74e3d27a159f48b79b5a4c1e24a5099b"
          ]
        },
        "id": "wvTAIgjGoU57",
        "outputId": "21176aca-2077-43da-c49a-a80433542516"
      },
      "source": [
        "\n",
        "reg1 = setup(data = train[FEATS], \n",
        "             train_size=0.95,  \n",
        "             target = target_feature, \n",
        "             session_id=seed,\n",
        "             categorical_features = categorical_features,\n",
        "             numeric_features = numeric_features ,             \n",
        "             )\n",
        "top5 = compare_models(n_select = 5, sort = 'MAE')\n",
        "print('\\n'.join([str(t) for t in top5]))\n",
        "df_top_by_comparing = pull()"
      ],
      "execution_count": 47,
      "outputs": [
        {
          "output_type": "display_data",
          "data": {
            "text/html": [
              "<div>\n",
              "<style scoped>\n",
              "    .dataframe tbody tr th:only-of-type {\n",
              "        vertical-align: middle;\n",
              "    }\n",
              "\n",
              "    .dataframe tbody tr th {\n",
              "        vertical-align: top;\n",
              "    }\n",
              "\n",
              "    .dataframe thead th {\n",
              "        text-align: right;\n",
              "    }\n",
              "</style>\n",
              "<table border=\"1\" class=\"dataframe\">\n",
              "  <thead>\n",
              "    <tr style=\"text-align: right;\">\n",
              "      <th></th>\n",
              "      <th>Model</th>\n",
              "      <th>MAE</th>\n",
              "      <th>MSE</th>\n",
              "      <th>RMSE</th>\n",
              "      <th>R2</th>\n",
              "      <th>RMSLE</th>\n",
              "      <th>MAPE</th>\n",
              "      <th>TT (Sec)</th>\n",
              "    </tr>\n",
              "  </thead>\n",
              "  <tbody>\n",
              "    <tr>\n",
              "      <th>catboost</th>\n",
              "      <td>CatBoost Regressor</td>\n",
              "      <td>59.9430</td>\n",
              "      <td>7537.2669</td>\n",
              "      <td>86.0109</td>\n",
              "      <td>0.6061</td>\n",
              "      <td>0.9421</td>\n",
              "      <td>0.1309</td>\n",
              "      <td>1.789</td>\n",
              "    </tr>\n",
              "    <tr>\n",
              "      <th>et</th>\n",
              "      <td>Extra Trees Regressor</td>\n",
              "      <td>61.0118</td>\n",
              "      <td>8206.3960</td>\n",
              "      <td>89.9123</td>\n",
              "      <td>0.5662</td>\n",
              "      <td>0.9207</td>\n",
              "      <td>0.1335</td>\n",
              "      <td>0.611</td>\n",
              "    </tr>\n",
              "    <tr>\n",
              "      <th>rf</th>\n",
              "      <td>Random Forest Regressor</td>\n",
              "      <td>62.1232</td>\n",
              "      <td>7872.0543</td>\n",
              "      <td>88.0066</td>\n",
              "      <td>0.5900</td>\n",
              "      <td>0.9531</td>\n",
              "      <td>0.1365</td>\n",
              "      <td>0.714</td>\n",
              "    </tr>\n",
              "    <tr>\n",
              "      <th>gbr</th>\n",
              "      <td>Gradient Boosting Regressor</td>\n",
              "      <td>62.5153</td>\n",
              "      <td>7826.9664</td>\n",
              "      <td>87.7306</td>\n",
              "      <td>0.5926</td>\n",
              "      <td>1.0027</td>\n",
              "      <td>0.1358</td>\n",
              "      <td>0.136</td>\n",
              "    </tr>\n",
              "    <tr>\n",
              "      <th>lightgbm</th>\n",
              "      <td>Light Gradient Boosting Machine</td>\n",
              "      <td>63.2016</td>\n",
              "      <td>8207.9921</td>\n",
              "      <td>89.6856</td>\n",
              "      <td>0.5706</td>\n",
              "      <td>0.9391</td>\n",
              "      <td>0.1397</td>\n",
              "      <td>0.122</td>\n",
              "    </tr>\n",
              "    <tr>\n",
              "      <th>xgboost</th>\n",
              "      <td>Extreme Gradient Boosting</td>\n",
              "      <td>63.5989</td>\n",
              "      <td>8686.5632</td>\n",
              "      <td>92.4262</td>\n",
              "      <td>0.5438</td>\n",
              "      <td>0.9831</td>\n",
              "      <td>0.1375</td>\n",
              "      <td>2.685</td>\n",
              "    </tr>\n",
              "    <tr>\n",
              "      <th>knn</th>\n",
              "      <td>K Neighbors Regressor</td>\n",
              "      <td>75.7872</td>\n",
              "      <td>11758.3893</td>\n",
              "      <td>107.9960</td>\n",
              "      <td>0.3858</td>\n",
              "      <td>1.0972</td>\n",
              "      <td>0.1569</td>\n",
              "      <td>0.064</td>\n",
              "    </tr>\n",
              "    <tr>\n",
              "      <th>ada</th>\n",
              "      <td>AdaBoost Regressor</td>\n",
              "      <td>77.4776</td>\n",
              "      <td>10645.3956</td>\n",
              "      <td>102.8590</td>\n",
              "      <td>0.4381</td>\n",
              "      <td>1.0369</td>\n",
              "      <td>0.1674</td>\n",
              "      <td>0.069</td>\n",
              "    </tr>\n",
              "    <tr>\n",
              "      <th>ridge</th>\n",
              "      <td>Ridge Regression</td>\n",
              "      <td>78.4967</td>\n",
              "      <td>12012.4871</td>\n",
              "      <td>108.9984</td>\n",
              "      <td>0.3763</td>\n",
              "      <td>1.0991</td>\n",
              "      <td>0.1660</td>\n",
              "      <td>0.013</td>\n",
              "    </tr>\n",
              "    <tr>\n",
              "      <th>lr</th>\n",
              "      <td>Linear Regression</td>\n",
              "      <td>78.5057</td>\n",
              "      <td>12017.5370</td>\n",
              "      <td>109.0170</td>\n",
              "      <td>0.3761</td>\n",
              "      <td>1.0991</td>\n",
              "      <td>0.1660</td>\n",
              "      <td>0.014</td>\n",
              "    </tr>\n",
              "    <tr>\n",
              "      <th>lar</th>\n",
              "      <td>Least Angle Regression</td>\n",
              "      <td>78.5060</td>\n",
              "      <td>12017.6170</td>\n",
              "      <td>109.0173</td>\n",
              "      <td>0.3761</td>\n",
              "      <td>1.0991</td>\n",
              "      <td>0.1660</td>\n",
              "      <td>0.018</td>\n",
              "    </tr>\n",
              "    <tr>\n",
              "      <th>lasso</th>\n",
              "      <td>Lasso Regression</td>\n",
              "      <td>78.6589</td>\n",
              "      <td>12016.1858</td>\n",
              "      <td>109.0917</td>\n",
              "      <td>0.3753</td>\n",
              "      <td>1.1021</td>\n",
              "      <td>0.1660</td>\n",
              "      <td>0.017</td>\n",
              "    </tr>\n",
              "    <tr>\n",
              "      <th>huber</th>\n",
              "      <td>Huber Regressor</td>\n",
              "      <td>79.0038</td>\n",
              "      <td>12981.1215</td>\n",
              "      <td>113.1170</td>\n",
              "      <td>0.3307</td>\n",
              "      <td>1.1248</td>\n",
              "      <td>0.1632</td>\n",
              "      <td>0.056</td>\n",
              "    </tr>\n",
              "    <tr>\n",
              "      <th>dt</th>\n",
              "      <td>Decision Tree Regressor</td>\n",
              "      <td>82.1234</td>\n",
              "      <td>14198.0241</td>\n",
              "      <td>118.5339</td>\n",
              "      <td>0.2470</td>\n",
              "      <td>1.0213</td>\n",
              "      <td>0.1863</td>\n",
              "      <td>0.021</td>\n",
              "    </tr>\n",
              "    <tr>\n",
              "      <th>en</th>\n",
              "      <td>Elastic Net</td>\n",
              "      <td>82.2978</td>\n",
              "      <td>12637.6499</td>\n",
              "      <td>112.0248</td>\n",
              "      <td>0.3414</td>\n",
              "      <td>1.1064</td>\n",
              "      <td>0.1747</td>\n",
              "      <td>0.018</td>\n",
              "    </tr>\n",
              "    <tr>\n",
              "      <th>omp</th>\n",
              "      <td>Orthogonal Matching Pursuit</td>\n",
              "      <td>82.4998</td>\n",
              "      <td>13067.5876</td>\n",
              "      <td>113.8872</td>\n",
              "      <td>0.3198</td>\n",
              "      <td>1.1173</td>\n",
              "      <td>0.1719</td>\n",
              "      <td>0.015</td>\n",
              "    </tr>\n",
              "    <tr>\n",
              "      <th>br</th>\n",
              "      <td>Bayesian Ridge</td>\n",
              "      <td>83.2976</td>\n",
              "      <td>12917.2081</td>\n",
              "      <td>113.2612</td>\n",
              "      <td>0.3270</td>\n",
              "      <td>1.1093</td>\n",
              "      <td>0.1768</td>\n",
              "      <td>0.016</td>\n",
              "    </tr>\n",
              "    <tr>\n",
              "      <th>llar</th>\n",
              "      <td>Lasso Least Angle Regression</td>\n",
              "      <td>83.8893</td>\n",
              "      <td>14158.1572</td>\n",
              "      <td>118.4892</td>\n",
              "      <td>0.2652</td>\n",
              "      <td>1.1338</td>\n",
              "      <td>0.1770</td>\n",
              "      <td>0.014</td>\n",
              "    </tr>\n",
              "    <tr>\n",
              "      <th>par</th>\n",
              "      <td>Passive Aggressive Regressor</td>\n",
              "      <td>101.9649</td>\n",
              "      <td>17669.5295</td>\n",
              "      <td>131.6281</td>\n",
              "      <td>0.0615</td>\n",
              "      <td>1.1251</td>\n",
              "      <td>0.2079</td>\n",
              "      <td>0.016</td>\n",
              "    </tr>\n",
              "  </tbody>\n",
              "</table>\n",
              "</div>"
            ],
            "text/plain": [
              "                                    Model       MAE         MSE      RMSE  \\\n",
              "catboost               CatBoost Regressor   59.9430   7537.2669   86.0109   \n",
              "et                  Extra Trees Regressor   61.0118   8206.3960   89.9123   \n",
              "rf                Random Forest Regressor   62.1232   7872.0543   88.0066   \n",
              "gbr           Gradient Boosting Regressor   62.5153   7826.9664   87.7306   \n",
              "lightgbm  Light Gradient Boosting Machine   63.2016   8207.9921   89.6856   \n",
              "xgboost         Extreme Gradient Boosting   63.5989   8686.5632   92.4262   \n",
              "knn                 K Neighbors Regressor   75.7872  11758.3893  107.9960   \n",
              "ada                    AdaBoost Regressor   77.4776  10645.3956  102.8590   \n",
              "ridge                    Ridge Regression   78.4967  12012.4871  108.9984   \n",
              "lr                      Linear Regression   78.5057  12017.5370  109.0170   \n",
              "lar                Least Angle Regression   78.5060  12017.6170  109.0173   \n",
              "lasso                    Lasso Regression   78.6589  12016.1858  109.0917   \n",
              "huber                     Huber Regressor   79.0038  12981.1215  113.1170   \n",
              "dt                Decision Tree Regressor   82.1234  14198.0241  118.5339   \n",
              "en                            Elastic Net   82.2978  12637.6499  112.0248   \n",
              "omp           Orthogonal Matching Pursuit   82.4998  13067.5876  113.8872   \n",
              "br                         Bayesian Ridge   83.2976  12917.2081  113.2612   \n",
              "llar         Lasso Least Angle Regression   83.8893  14158.1572  118.4892   \n",
              "par          Passive Aggressive Regressor  101.9649  17669.5295  131.6281   \n",
              "\n",
              "              R2   RMSLE    MAPE  TT (Sec)  \n",
              "catboost  0.6061  0.9421  0.1309     1.789  \n",
              "et        0.5662  0.9207  0.1335     0.611  \n",
              "rf        0.5900  0.9531  0.1365     0.714  \n",
              "gbr       0.5926  1.0027  0.1358     0.136  \n",
              "lightgbm  0.5706  0.9391  0.1397     0.122  \n",
              "xgboost   0.5438  0.9831  0.1375     2.685  \n",
              "knn       0.3858  1.0972  0.1569     0.064  \n",
              "ada       0.4381  1.0369  0.1674     0.069  \n",
              "ridge     0.3763  1.0991  0.1660     0.013  \n",
              "lr        0.3761  1.0991  0.1660     0.014  \n",
              "lar       0.3761  1.0991  0.1660     0.018  \n",
              "lasso     0.3753  1.1021  0.1660     0.017  \n",
              "huber     0.3307  1.1248  0.1632     0.056  \n",
              "dt        0.2470  1.0213  0.1863     0.021  \n",
              "en        0.3414  1.1064  0.1747     0.018  \n",
              "omp       0.3198  1.1173  0.1719     0.015  \n",
              "br        0.3270  1.1093  0.1768     0.016  \n",
              "llar      0.2652  1.1338  0.1770     0.014  \n",
              "par       0.0615  1.1251  0.2079     0.016  "
            ]
          },
          "metadata": {
            "tags": []
          }
        },
        {
          "output_type": "stream",
          "text": [
            "<catboost.core.CatBoostRegressor object at 0x7fa3b07c7e90>\n",
            "ExtraTreesRegressor(bootstrap=False, ccp_alpha=0.0, criterion='mse',\n",
            "                    max_depth=None, max_features='auto', max_leaf_nodes=None,\n",
            "                    max_samples=None, min_impurity_decrease=0.0,\n",
            "                    min_impurity_split=None, min_samples_leaf=1,\n",
            "                    min_samples_split=2, min_weight_fraction_leaf=0.0,\n",
            "                    n_estimators=100, n_jobs=-1, oob_score=False,\n",
            "                    random_state=47, verbose=0, warm_start=False)\n",
            "RandomForestRegressor(bootstrap=True, ccp_alpha=0.0, criterion='mse',\n",
            "                      max_depth=None, max_features='auto', max_leaf_nodes=None,\n",
            "                      max_samples=None, min_impurity_decrease=0.0,\n",
            "                      min_impurity_split=None, min_samples_leaf=1,\n",
            "                      min_samples_split=2, min_weight_fraction_leaf=0.0,\n",
            "                      n_estimators=100, n_jobs=-1, oob_score=False,\n",
            "                      random_state=47, verbose=0, warm_start=False)\n",
            "GradientBoostingRegressor(alpha=0.9, ccp_alpha=0.0, criterion='friedman_mse',\n",
            "                          init=None, learning_rate=0.1, loss='ls', max_depth=3,\n",
            "                          max_features=None, max_leaf_nodes=None,\n",
            "                          min_impurity_decrease=0.0, min_impurity_split=None,\n",
            "                          min_samples_leaf=1, min_samples_split=2,\n",
            "                          min_weight_fraction_leaf=0.0, n_estimators=100,\n",
            "                          n_iter_no_change=None, presort='deprecated',\n",
            "                          random_state=47, subsample=1.0, tol=0.0001,\n",
            "                          validation_fraction=0.1, verbose=0, warm_start=False)\n",
            "LGBMRegressor(boosting_type='gbdt', class_weight=None, colsample_bytree=1.0,\n",
            "              importance_type='split', learning_rate=0.1, max_depth=-1,\n",
            "              min_child_samples=20, min_child_weight=0.001, min_split_gain=0.0,\n",
            "              n_estimators=100, n_jobs=-1, num_leaves=31, objective=None,\n",
            "              random_state=47, reg_alpha=0.0, reg_lambda=0.0, silent=True,\n",
            "              subsample=1.0, subsample_for_bin=200000, subsample_freq=0)\n"
          ],
          "name": "stdout"
        }
      ]
    },
    {
      "cell_type": "code",
      "metadata": {
        "colab": {
          "base_uri": "https://localhost:8080/"
        },
        "id": "ddUWxzGQpRjX",
        "outputId": "54a9ce1f-6075-4d9c-ee39-685834a72d78"
      },
      "source": [
        "# df_top_by_comparing.to_csv('./output_pycaret/00_compare_models.csv',index=True)\n",
        "df_top_by_comparing.index"
      ],
      "execution_count": 46,
      "outputs": [
        {
          "output_type": "execute_result",
          "data": {
            "text/plain": [
              "Index(['catboost', 'gbr', 'et', 'rf', 'xgboost', 'lightgbm', 'ada', 'lar',\n",
              "       'lr', 'ridge', 'br', 'lasso', 'omp', 'huber', 'llar', 'dt', 'knn', 'en',\n",
              "       'par'],\n",
              "      dtype='object')"
            ]
          },
          "metadata": {
            "tags": []
          },
          "execution_count": 46
        }
      ]
    },
    {
      "cell_type": "code",
      "metadata": {
        "colab": {
          "base_uri": "https://localhost:8080/"
        },
        "id": "P0tYkV3Jpads",
        "outputId": "f09b5de6-8dc5-40a9-f8fd-226932654668"
      },
      "source": [
        "# 모델들, grid score df, plot 등이 모두 저장되는 상위경로\n",
        "\n",
        "now_time = now_time.replace('중식','석식')\n",
        "\n",
        "upper_dir_of_pycaret = f'/content/drive/MyDrive/restaurant_people/output_pycaret/{now_time}'\n",
        "print(f\"upper_dir_of_pycaret : {upper_dir_of_pycaret}\")\n",
        "\n",
        "fold=10\n",
        "# FEATS = [c for c in final_df.columns if c not in ['단지코드']]\n",
        "target_feature = '석식계'\n",
        "\n",
        "print(f'FEATS : {len(FEATS)}')\n",
        "print(f\"target : {target_feature}\")\n",
        "print(f'cat_features : {len(categorical_features)}')\n",
        "print(f'numeric_features : {len(numeric_features)}')\n",
        "\n",
        "model_name_list=['catboost']   # 'et', 'catboost', 'rf', 'gbr', 'llar', 'omp', 'en', 'ada', 'br', 'lr', 'lasso', 'dt', 'ridge',\n",
        "ensemble_method = 'blend_models'  # 'blend_models', 'stack_models' ->  (Regression : 'create_stacknet'), (Classifier : 'stack_models'),\n",
        "meta_model_for_stack = 'xgboost' # If using stack_models"
      ],
      "execution_count": 47,
      "outputs": [
        {
          "output_type": "stream",
          "text": [
            "upper_dir_of_pycaret : /content/drive/MyDrive/restaurant_people/output_pycaret/0703_2253_Pycaret사용_catboost_79수정_석식\n",
            "FEATS : 7\n",
            "target : 석식계\n",
            "cat_features : 0\n",
            "numeric_features : 0\n"
          ],
          "name": "stdout"
        }
      ]
    },
    {
      "cell_type": "code",
      "metadata": {
        "colab": {
          "base_uri": "https://localhost:8080/",
          "height": 1000,
          "referenced_widgets": [
            "988cacc6706d491d9d5bd313ebe49bc3",
            "a0c2cd078eee4912bc27343cfb66498f",
            "14562929f76b47de8ed8b8fb0745dc4f",
            "51900a37dceb49d28e9cab7c8994aceb",
            "b411f15bdc434dec9315317d2fae13e1",
            "4d61329a6872447ea62727b5080adbc5"
          ]
        },
        "id": "HBArQ1hCpw01",
        "outputId": "2447bbab-6808-4933-d9d4-24ad447328cd"
      },
      "source": [
        "n_iter = 20\n",
        "\n",
        "settings = setup(\n",
        "                data=train[FEATS], \n",
        "                target=target_feature, \n",
        "                train_size=0.95, \n",
        "                categorical_features = categorical_features,\n",
        "                numeric_features = numeric_features ,                        \n",
        "                data_split_shuffle = True, # True가 default\n",
        "                session_id = seed,\n",
        "                # fold_strategy = last_fold,\n",
        "                # experiment_name=experiment_name,\n",
        "                # log_experiment=False,   # compare_model 할 때에는 하이퍼파라미터가 어떻게 튜닝되었는지 볼 수 있어서 유용하다고 한다.\n",
        "                )\n",
        "\n",
        "# from ngboost import NGBClassifier\n",
        "# ngc = NGBClassifier()\n",
        "# ngboost = create_model(ngc)\n",
        "\n"
      ],
      "execution_count": 48,
      "outputs": [
        {
          "output_type": "display_data",
          "data": {
            "text/html": [
              "<div>\n",
              "<style scoped>\n",
              "    .dataframe tbody tr th:only-of-type {\n",
              "        vertical-align: middle;\n",
              "    }\n",
              "\n",
              "    .dataframe tbody tr th {\n",
              "        vertical-align: top;\n",
              "    }\n",
              "\n",
              "    .dataframe thead th {\n",
              "        text-align: right;\n",
              "    }\n",
              "</style>\n",
              "<table border=\"1\" class=\"dataframe\">\n",
              "  <thead>\n",
              "    <tr style=\"text-align: right;\">\n",
              "      <th></th>\n",
              "      <th>Description</th>\n",
              "      <th>Value</th>\n",
              "    </tr>\n",
              "  </thead>\n",
              "  <tbody>\n",
              "    <tr>\n",
              "      <th>0</th>\n",
              "      <td>session_id</td>\n",
              "      <td>47</td>\n",
              "    </tr>\n",
              "    <tr>\n",
              "      <th>1</th>\n",
              "      <td>Target</td>\n",
              "      <td>석식계</td>\n",
              "    </tr>\n",
              "    <tr>\n",
              "      <th>2</th>\n",
              "      <td>Original Data</td>\n",
              "      <td>(1205, 7)</td>\n",
              "    </tr>\n",
              "    <tr>\n",
              "      <th>3</th>\n",
              "      <td>Missing Values</td>\n",
              "      <td>False</td>\n",
              "    </tr>\n",
              "    <tr>\n",
              "      <th>4</th>\n",
              "      <td>Numeric Features</td>\n",
              "      <td>4</td>\n",
              "    </tr>\n",
              "    <tr>\n",
              "      <th>5</th>\n",
              "      <td>Categorical Features</td>\n",
              "      <td>2</td>\n",
              "    </tr>\n",
              "    <tr>\n",
              "      <th>6</th>\n",
              "      <td>Ordinal Features</td>\n",
              "      <td>False</td>\n",
              "    </tr>\n",
              "    <tr>\n",
              "      <th>7</th>\n",
              "      <td>High Cardinality Features</td>\n",
              "      <td>False</td>\n",
              "    </tr>\n",
              "    <tr>\n",
              "      <th>8</th>\n",
              "      <td>High Cardinality Method</td>\n",
              "      <td>None</td>\n",
              "    </tr>\n",
              "    <tr>\n",
              "      <th>9</th>\n",
              "      <td>Transformed Train Set</td>\n",
              "      <td>(1144, 21)</td>\n",
              "    </tr>\n",
              "    <tr>\n",
              "      <th>10</th>\n",
              "      <td>Transformed Test Set</td>\n",
              "      <td>(61, 21)</td>\n",
              "    </tr>\n",
              "    <tr>\n",
              "      <th>11</th>\n",
              "      <td>Shuffle Train-Test</td>\n",
              "      <td>True</td>\n",
              "    </tr>\n",
              "    <tr>\n",
              "      <th>12</th>\n",
              "      <td>Stratify Train-Test</td>\n",
              "      <td>False</td>\n",
              "    </tr>\n",
              "    <tr>\n",
              "      <th>13</th>\n",
              "      <td>Fold Generator</td>\n",
              "      <td>KFold</td>\n",
              "    </tr>\n",
              "    <tr>\n",
              "      <th>14</th>\n",
              "      <td>Fold Number</td>\n",
              "      <td>10</td>\n",
              "    </tr>\n",
              "    <tr>\n",
              "      <th>15</th>\n",
              "      <td>CPU Jobs</td>\n",
              "      <td>-1</td>\n",
              "    </tr>\n",
              "    <tr>\n",
              "      <th>16</th>\n",
              "      <td>Use GPU</td>\n",
              "      <td>False</td>\n",
              "    </tr>\n",
              "    <tr>\n",
              "      <th>17</th>\n",
              "      <td>Log Experiment</td>\n",
              "      <td>False</td>\n",
              "    </tr>\n",
              "    <tr>\n",
              "      <th>18</th>\n",
              "      <td>Experiment Name</td>\n",
              "      <td>reg-default-name</td>\n",
              "    </tr>\n",
              "    <tr>\n",
              "      <th>19</th>\n",
              "      <td>USI</td>\n",
              "      <td>8983</td>\n",
              "    </tr>\n",
              "    <tr>\n",
              "      <th>20</th>\n",
              "      <td>Imputation Type</td>\n",
              "      <td>simple</td>\n",
              "    </tr>\n",
              "    <tr>\n",
              "      <th>21</th>\n",
              "      <td>Iterative Imputation Iteration</td>\n",
              "      <td>None</td>\n",
              "    </tr>\n",
              "    <tr>\n",
              "      <th>22</th>\n",
              "      <td>Numeric Imputer</td>\n",
              "      <td>mean</td>\n",
              "    </tr>\n",
              "    <tr>\n",
              "      <th>23</th>\n",
              "      <td>Iterative Imputation Numeric Model</td>\n",
              "      <td>None</td>\n",
              "    </tr>\n",
              "    <tr>\n",
              "      <th>24</th>\n",
              "      <td>Categorical Imputer</td>\n",
              "      <td>constant</td>\n",
              "    </tr>\n",
              "    <tr>\n",
              "      <th>25</th>\n",
              "      <td>Iterative Imputation Categorical Model</td>\n",
              "      <td>None</td>\n",
              "    </tr>\n",
              "    <tr>\n",
              "      <th>26</th>\n",
              "      <td>Unknown Categoricals Handling</td>\n",
              "      <td>least_frequent</td>\n",
              "    </tr>\n",
              "    <tr>\n",
              "      <th>27</th>\n",
              "      <td>Normalize</td>\n",
              "      <td>False</td>\n",
              "    </tr>\n",
              "    <tr>\n",
              "      <th>28</th>\n",
              "      <td>Normalize Method</td>\n",
              "      <td>None</td>\n",
              "    </tr>\n",
              "    <tr>\n",
              "      <th>29</th>\n",
              "      <td>Transformation</td>\n",
              "      <td>False</td>\n",
              "    </tr>\n",
              "    <tr>\n",
              "      <th>30</th>\n",
              "      <td>Transformation Method</td>\n",
              "      <td>None</td>\n",
              "    </tr>\n",
              "    <tr>\n",
              "      <th>31</th>\n",
              "      <td>PCA</td>\n",
              "      <td>False</td>\n",
              "    </tr>\n",
              "    <tr>\n",
              "      <th>32</th>\n",
              "      <td>PCA Method</td>\n",
              "      <td>None</td>\n",
              "    </tr>\n",
              "    <tr>\n",
              "      <th>33</th>\n",
              "      <td>PCA Components</td>\n",
              "      <td>None</td>\n",
              "    </tr>\n",
              "    <tr>\n",
              "      <th>34</th>\n",
              "      <td>Ignore Low Variance</td>\n",
              "      <td>False</td>\n",
              "    </tr>\n",
              "    <tr>\n",
              "      <th>35</th>\n",
              "      <td>Combine Rare Levels</td>\n",
              "      <td>False</td>\n",
              "    </tr>\n",
              "    <tr>\n",
              "      <th>36</th>\n",
              "      <td>Rare Level Threshold</td>\n",
              "      <td>None</td>\n",
              "    </tr>\n",
              "    <tr>\n",
              "      <th>37</th>\n",
              "      <td>Numeric Binning</td>\n",
              "      <td>False</td>\n",
              "    </tr>\n",
              "    <tr>\n",
              "      <th>38</th>\n",
              "      <td>Remove Outliers</td>\n",
              "      <td>False</td>\n",
              "    </tr>\n",
              "    <tr>\n",
              "      <th>39</th>\n",
              "      <td>Outliers Threshold</td>\n",
              "      <td>None</td>\n",
              "    </tr>\n",
              "    <tr>\n",
              "      <th>40</th>\n",
              "      <td>Remove Multicollinearity</td>\n",
              "      <td>False</td>\n",
              "    </tr>\n",
              "    <tr>\n",
              "      <th>41</th>\n",
              "      <td>Multicollinearity Threshold</td>\n",
              "      <td>None</td>\n",
              "    </tr>\n",
              "    <tr>\n",
              "      <th>42</th>\n",
              "      <td>Clustering</td>\n",
              "      <td>False</td>\n",
              "    </tr>\n",
              "    <tr>\n",
              "      <th>43</th>\n",
              "      <td>Clustering Iteration</td>\n",
              "      <td>None</td>\n",
              "    </tr>\n",
              "    <tr>\n",
              "      <th>44</th>\n",
              "      <td>Polynomial Features</td>\n",
              "      <td>False</td>\n",
              "    </tr>\n",
              "    <tr>\n",
              "      <th>45</th>\n",
              "      <td>Polynomial Degree</td>\n",
              "      <td>None</td>\n",
              "    </tr>\n",
              "    <tr>\n",
              "      <th>46</th>\n",
              "      <td>Trignometry Features</td>\n",
              "      <td>False</td>\n",
              "    </tr>\n",
              "    <tr>\n",
              "      <th>47</th>\n",
              "      <td>Polynomial Threshold</td>\n",
              "      <td>None</td>\n",
              "    </tr>\n",
              "    <tr>\n",
              "      <th>48</th>\n",
              "      <td>Group Features</td>\n",
              "      <td>False</td>\n",
              "    </tr>\n",
              "    <tr>\n",
              "      <th>49</th>\n",
              "      <td>Feature Selection</td>\n",
              "      <td>False</td>\n",
              "    </tr>\n",
              "    <tr>\n",
              "      <th>50</th>\n",
              "      <td>Feature Selection Method</td>\n",
              "      <td>classic</td>\n",
              "    </tr>\n",
              "    <tr>\n",
              "      <th>51</th>\n",
              "      <td>Features Selection Threshold</td>\n",
              "      <td>None</td>\n",
              "    </tr>\n",
              "    <tr>\n",
              "      <th>52</th>\n",
              "      <td>Feature Interaction</td>\n",
              "      <td>False</td>\n",
              "    </tr>\n",
              "    <tr>\n",
              "      <th>53</th>\n",
              "      <td>Feature Ratio</td>\n",
              "      <td>False</td>\n",
              "    </tr>\n",
              "    <tr>\n",
              "      <th>54</th>\n",
              "      <td>Interaction Threshold</td>\n",
              "      <td>None</td>\n",
              "    </tr>\n",
              "    <tr>\n",
              "      <th>55</th>\n",
              "      <td>Transform Target</td>\n",
              "      <td>False</td>\n",
              "    </tr>\n",
              "    <tr>\n",
              "      <th>56</th>\n",
              "      <td>Transform Target Method</td>\n",
              "      <td>box-cox</td>\n",
              "    </tr>\n",
              "  </tbody>\n",
              "</table>\n",
              "</div>"
            ],
            "text/plain": [
              "                               Description             Value\n",
              "0                               session_id                47\n",
              "1                                   Target               석식계\n",
              "2                            Original Data         (1205, 7)\n",
              "3                           Missing Values             False\n",
              "4                         Numeric Features                 4\n",
              "5                     Categorical Features                 2\n",
              "6                         Ordinal Features             False\n",
              "7                High Cardinality Features             False\n",
              "8                  High Cardinality Method              None\n",
              "9                    Transformed Train Set        (1144, 21)\n",
              "10                    Transformed Test Set          (61, 21)\n",
              "11                      Shuffle Train-Test              True\n",
              "12                     Stratify Train-Test             False\n",
              "13                          Fold Generator             KFold\n",
              "14                             Fold Number                10\n",
              "15                                CPU Jobs                -1\n",
              "16                                 Use GPU             False\n",
              "17                          Log Experiment             False\n",
              "18                         Experiment Name  reg-default-name\n",
              "19                                     USI              8983\n",
              "20                         Imputation Type            simple\n",
              "21          Iterative Imputation Iteration              None\n",
              "22                         Numeric Imputer              mean\n",
              "23      Iterative Imputation Numeric Model              None\n",
              "24                     Categorical Imputer          constant\n",
              "25  Iterative Imputation Categorical Model              None\n",
              "26           Unknown Categoricals Handling    least_frequent\n",
              "27                               Normalize             False\n",
              "28                        Normalize Method              None\n",
              "29                          Transformation             False\n",
              "30                   Transformation Method              None\n",
              "31                                     PCA             False\n",
              "32                              PCA Method              None\n",
              "33                          PCA Components              None\n",
              "34                     Ignore Low Variance             False\n",
              "35                     Combine Rare Levels             False\n",
              "36                    Rare Level Threshold              None\n",
              "37                         Numeric Binning             False\n",
              "38                         Remove Outliers             False\n",
              "39                      Outliers Threshold              None\n",
              "40                Remove Multicollinearity             False\n",
              "41             Multicollinearity Threshold              None\n",
              "42                              Clustering             False\n",
              "43                    Clustering Iteration              None\n",
              "44                     Polynomial Features             False\n",
              "45                       Polynomial Degree              None\n",
              "46                    Trignometry Features             False\n",
              "47                    Polynomial Threshold              None\n",
              "48                          Group Features             False\n",
              "49                       Feature Selection             False\n",
              "50                Feature Selection Method           classic\n",
              "51            Features Selection Threshold              None\n",
              "52                     Feature Interaction             False\n",
              "53                           Feature Ratio             False\n",
              "54                   Interaction Threshold              None\n",
              "55                        Transform Target             False\n",
              "56                 Transform Target Method           box-cox"
            ]
          },
          "metadata": {
            "tags": []
          }
        }
      ]
    },
    {
      "cell_type": "code",
      "metadata": {
        "colab": {
          "base_uri": "https://localhost:8080/",
          "height": 696,
          "referenced_widgets": [
            "71a37d5fa92941c0a360ab5f8aa28a56",
            "6ee65b366cc14783a88d2a479de9eb6a",
            "370ecb1170f3428b90dada70d1cf2d60",
            "f16af137e4d944e692abd1875bacce5a",
            "acad5a7ce0c040fcb97c65d6aa6fe95b",
            "3ce936161bfb44fb9ab2fd1f6ed6640f"
          ]
        },
        "id": "JnV0_olup4zk",
        "outputId": "85b1c96c-4c0f-4858-e5e1-aea42e2f16e8"
      },
      "source": [
        "dinner_model, metric_result = ensemble_automl(\n",
        "                                            train,\n",
        "                                            # holdout,\n",
        "                                            FEATS,\n",
        "                                            categorical_features,\n",
        "                                            numeric_features,\n",
        "                                            seed=seed,\n",
        "                                            model_name_list=model_name_list,\n",
        "                                            ensemble_method = ensemble_method,\n",
        "                                            meta_model_for_stack = meta_model_for_stack,\n",
        "                                            )\n",
        "\n",
        "print(dinner_model)\n",
        "\n",
        "print(f\"Error : \",'\\n'.join(metric_result))\n"
      ],
      "execution_count": 49,
      "outputs": [
        {
          "output_type": "stream",
          "text": [
            "final model은 실험결과를 저장할 수 없습니다\n",
            "Transformation Pipeline and Model Succesfully Saved\n",
            "<catboost.core.CatBoostRegressor object at 0x7feacfe00f10>\n",
            "Error :  \n"
          ],
          "name": "stdout"
        }
      ]
    },
    {
      "cell_type": "markdown",
      "metadata": {
        "id": "SVsxamOudW5w"
      },
      "source": [
        "# Submission & Conifg\n",
        "\n"
      ]
    },
    {
      "cell_type": "code",
      "metadata": {
        "id": "yWu9WUK_oOrG"
      },
      "source": [
        "# 이번 Experiment Arg 관리\n",
        "config_key = [\n",
        "            'now_time',\n",
        "            'seed','fold','model_name_list','ensemble_method','meta_model_for_stack',\n",
        "            'categorical_features','numeric_features','FEATS','LENGTH_FEATS','n_iter','metric_result'\n",
        "            ]\n",
        "config_value = [\n",
        "                now_time,\n",
        "                seed, fold, model_name_list, ensemble_method, meta_model_for_stack, \n",
        "             categorical_features, numeric_features, FEATS,len(FEATS),n_iter,metric_result,]\n"
      ],
      "execution_count": 50,
      "outputs": []
    },
    {
      "cell_type": "code",
      "metadata": {
        "colab": {
          "base_uri": "https://localhost:8080/"
        },
        "id": "GlhiQrCXojhP",
        "outputId": "70c16e18-5fa4-4abf-ee52-a63e8dee637a"
      },
      "source": [
        "cd /content/drive/MyDrive"
      ],
      "execution_count": 51,
      "outputs": [
        {
          "output_type": "stream",
          "text": [
            "/content/drive/MyDrive\n"
          ],
          "name": "stdout"
        }
      ]
    },
    {
      "cell_type": "code",
      "metadata": {
        "colab": {
          "base_uri": "https://localhost:8080/"
        },
        "id": "WFVoa3SAolN7",
        "outputId": "5f86264f-3819-4a8e-b264-91b69d673312"
      },
      "source": [
        "print(train.shape)\n",
        "print(test.shape)"
      ],
      "execution_count": 52,
      "outputs": [
        {
          "output_type": "stream",
          "text": [
            "(1205, 11)\n",
            "(50, 7)\n"
          ],
          "name": "stdout"
        }
      ]
    },
    {
      "cell_type": "code",
      "metadata": {
        "colab": {
          "base_uri": "https://localhost:8080/"
        },
        "id": "uVck3JDHq7Wf",
        "outputId": "be1a8523-dbf9-4f86-f0cd-d86b6edc3ae2"
      },
      "source": [
        "print(train['중식계'].max())\n",
        "print(train['중식계'].min())"
      ],
      "execution_count": 53,
      "outputs": [
        {
          "output_type": "stream",
          "text": [
            "1459.0\n",
            "296.0\n"
          ],
          "name": "stdout"
        }
      ]
    },
    {
      "cell_type": "code",
      "metadata": {
        "colab": {
          "base_uri": "https://localhost:8080/"
        },
        "id": "NyqsMgP7ooq5",
        "outputId": "8cca5181-c555-4de6-92a7-386a0d18c667"
      },
      "source": [
        "print(train['석식계'].max())\n",
        "print(train['석식계'].min())"
      ],
      "execution_count": 55,
      "outputs": [
        {
          "output_type": "stream",
          "text": [
            "905.0\n",
            "0.0\n"
          ],
          "name": "stdout"
        }
      ]
    },
    {
      "cell_type": "code",
      "metadata": {
        "colab": {
          "base_uri": "https://localhost:8080/"
        },
        "id": "RD3nlQ2VqYEd",
        "outputId": "b0dd63d5-fc42-4e38-ecd9-47868bfcea19"
      },
      "source": [
        "sample_submission = pd.read_csv('./data/sample_submission.csv')\n",
        "# MAKE PREDICTION\n",
        "lunch_prediction = predict_model(lunch_model, data=test[[f for f in FEATS if f not in ['중식계','석식계']]])\n",
        "total_preds = lunch_prediction[\"Label\"]\n",
        "sample_submission['중식계'] = total_preds.values\n",
        "\n",
        "dinner_prediction = predict_model(dinner_model, data=test[[f for f in FEATS if f not in ['중식계','석식계']]])\n",
        "total_preds = dinner_prediction[\"Label\"]\n",
        "sample_submission['석식계'] = total_preds.values\n",
        "\n",
        "# SAVE OUTPUT\n",
        "prediction_name = f\"{now_time}_NFeatures-{len(FEATS)}\" # \n",
        "\n",
        "output_dir = f'{upper_dir_of_pycaret}/코드공유_submission'\n",
        "os.makedirs(output_dir, exist_ok=True)    \n",
        "write_path = os.path.join(output_dir, f\"{prediction_name}.csv\")\n",
        "print(\"Saving Final Output CSVs...\")\n",
        "sample_submission.to_csv(f'{write_path}',index=False)\n",
        "print(f\"writing csv : {write_path}\")\n",
        "\n",
        "import json\n",
        "# Save Config\n",
        "write_path = os.path.join(upper_dir_of_pycaret, f\"{prediction_name}_config.json\")\n",
        "config_dict = {k:v for k,v in zip(config_key, config_value)}\n",
        "print(\"Saving Final Config Dict...\")\n",
        "## json파일 저장 ##\n",
        "with open(write_path, \"w\") as fp:\n",
        "    print(f\"writing config : {write_path}\")\n",
        "    json.dump(config_dict, fp, indent=4)\n"
      ],
      "execution_count": 56,
      "outputs": [
        {
          "output_type": "stream",
          "text": [
            "Saving Final Output CSVs...\n",
            "writing csv : /content/drive/MyDrive/restaurant_people/output_pycaret/0703_2253_Pycaret사용_catboost_79수정_석식/코드공유_submission/0703_2253_Pycaret사용_catboost_79수정_석식_NFeatures-7.csv\n",
            "Saving Final Config Dict...\n",
            "writing config : /content/drive/MyDrive/restaurant_people/output_pycaret/0703_2253_Pycaret사용_catboost_79수정_석식/0703_2253_Pycaret사용_catboost_79수정_석식_NFeatures-7_config.json\n"
          ],
          "name": "stdout"
        }
      ]
    },
    {
      "cell_type": "code",
      "metadata": {
        "colab": {
          "base_uri": "https://localhost:8080/"
        },
        "id": "7-4CvUklrHpA",
        "outputId": "b00de4c5-fa39-49ea-bdcc-f11932c8375c"
      },
      "source": [
        "print(sample_submission.isnull().sum())"
      ],
      "execution_count": 57,
      "outputs": [
        {
          "output_type": "stream",
          "text": [
            "일자     0\n",
            "중식계    0\n",
            "석식계    0\n",
            "dtype: int64\n"
          ],
          "name": "stdout"
        }
      ]
    },
    {
      "cell_type": "code",
      "metadata": {
        "colab": {
          "base_uri": "https://localhost:8080/",
          "height": 203
        },
        "id": "8TzX3xSksUbl",
        "outputId": "f4870b79-9be0-4c86-d52a-2cec19b91668"
      },
      "source": [
        "data1 = pd.read_csv('/content/drive/MyDrive/restaurant_people/output_pycaret/0702_2327_Pycaret사용_catboost_79수정_Pycaret사용_catboost_79수정_석식_Pycaret사용_catboost_79수정_석식/코드공유_submission/0702_2327_Pycaret사용_catboost_79수정_Pycaret사용_catboost_79수정_석식_Pycaret사용_catboost_79수정_석식_NFeatures-7.csv')\n",
        "data1.head()"
      ],
      "execution_count": 74,
      "outputs": [
        {
          "output_type": "execute_result",
          "data": {
            "text/html": [
              "<div>\n",
              "<style scoped>\n",
              "    .dataframe tbody tr th:only-of-type {\n",
              "        vertical-align: middle;\n",
              "    }\n",
              "\n",
              "    .dataframe tbody tr th {\n",
              "        vertical-align: top;\n",
              "    }\n",
              "\n",
              "    .dataframe thead th {\n",
              "        text-align: right;\n",
              "    }\n",
              "</style>\n",
              "<table border=\"1\" class=\"dataframe\">\n",
              "  <thead>\n",
              "    <tr style=\"text-align: right;\">\n",
              "      <th></th>\n",
              "      <th>일자</th>\n",
              "      <th>중식계</th>\n",
              "      <th>석식계</th>\n",
              "    </tr>\n",
              "  </thead>\n",
              "  <tbody>\n",
              "    <tr>\n",
              "      <th>0</th>\n",
              "      <td>2021-01-27</td>\n",
              "      <td>1029.655027</td>\n",
              "      <td>201.784069</td>\n",
              "    </tr>\n",
              "    <tr>\n",
              "      <th>1</th>\n",
              "      <td>2021-01-28</td>\n",
              "      <td>966.612533</td>\n",
              "      <td>513.966237</td>\n",
              "    </tr>\n",
              "    <tr>\n",
              "      <th>2</th>\n",
              "      <td>2021-01-29</td>\n",
              "      <td>577.491834</td>\n",
              "      <td>252.136990</td>\n",
              "    </tr>\n",
              "    <tr>\n",
              "      <th>3</th>\n",
              "      <td>2021-02-01</td>\n",
              "      <td>1233.517966</td>\n",
              "      <td>567.065858</td>\n",
              "    </tr>\n",
              "    <tr>\n",
              "      <th>4</th>\n",
              "      <td>2021-02-02</td>\n",
              "      <td>1078.728291</td>\n",
              "      <td>580.498491</td>\n",
              "    </tr>\n",
              "  </tbody>\n",
              "</table>\n",
              "</div>"
            ],
            "text/plain": [
              "           일자          중식계         석식계\n",
              "0  2021-01-27  1029.655027  201.784069\n",
              "1  2021-01-28   966.612533  513.966237\n",
              "2  2021-01-29   577.491834  252.136990\n",
              "3  2021-02-01  1233.517966  567.065858\n",
              "4  2021-02-02  1078.728291  580.498491"
            ]
          },
          "metadata": {
            "tags": []
          },
          "execution_count": 74
        }
      ]
    },
    {
      "cell_type": "code",
      "metadata": {
        "colab": {
          "base_uri": "https://localhost:8080/"
        },
        "id": "fXFbEGJXsm3b",
        "outputId": "81cc7892-070a-4f53-a75a-30b430125562"
      },
      "source": [
        "print(sum(data1.중식계[data1.중식계<0]))\n",
        "print(sum(data1.석식계[data1.석식계<0]))"
      ],
      "execution_count": 72,
      "outputs": [
        {
          "output_type": "stream",
          "text": [
            "0\n",
            "0\n"
          ],
          "name": "stdout"
        }
      ]
    },
    {
      "cell_type": "code",
      "metadata": {
        "colab": {
          "base_uri": "https://localhost:8080/",
          "height": 203
        },
        "id": "YERU51AQsmEy",
        "outputId": "71ab012d-2c50-4a11-889a-733b55f18c84"
      },
      "source": [
        "data2 = pd.read_csv('/content/drive/MyDrive/submission/submit.csv')\n",
        "data2.head()"
      ],
      "execution_count": 73,
      "outputs": [
        {
          "output_type": "execute_result",
          "data": {
            "text/html": [
              "<div>\n",
              "<style scoped>\n",
              "    .dataframe tbody tr th:only-of-type {\n",
              "        vertical-align: middle;\n",
              "    }\n",
              "\n",
              "    .dataframe tbody tr th {\n",
              "        vertical-align: top;\n",
              "    }\n",
              "\n",
              "    .dataframe thead th {\n",
              "        text-align: right;\n",
              "    }\n",
              "</style>\n",
              "<table border=\"1\" class=\"dataframe\">\n",
              "  <thead>\n",
              "    <tr style=\"text-align: right;\">\n",
              "      <th></th>\n",
              "      <th>일자</th>\n",
              "      <th>중식계</th>\n",
              "      <th>석식계</th>\n",
              "    </tr>\n",
              "  </thead>\n",
              "  <tbody>\n",
              "    <tr>\n",
              "      <th>0</th>\n",
              "      <td>2021-01-27</td>\n",
              "      <td>1013.0935</td>\n",
              "      <td>229.45080</td>\n",
              "    </tr>\n",
              "    <tr>\n",
              "      <th>1</th>\n",
              "      <td>2021-01-28</td>\n",
              "      <td>949.7029</td>\n",
              "      <td>480.56656</td>\n",
              "    </tr>\n",
              "    <tr>\n",
              "      <th>2</th>\n",
              "      <td>2021-01-29</td>\n",
              "      <td>574.9601</td>\n",
              "      <td>250.45422</td>\n",
              "    </tr>\n",
              "    <tr>\n",
              "      <th>3</th>\n",
              "      <td>2021-02-01</td>\n",
              "      <td>1242.6844</td>\n",
              "      <td>586.47010</td>\n",
              "    </tr>\n",
              "    <tr>\n",
              "      <th>4</th>\n",
              "      <td>2021-02-02</td>\n",
              "      <td>1083.2233</td>\n",
              "      <td>573.60657</td>\n",
              "    </tr>\n",
              "  </tbody>\n",
              "</table>\n",
              "</div>"
            ],
            "text/plain": [
              "           일자        중식계        석식계\n",
              "0  2021-01-27  1013.0935  229.45080\n",
              "1  2021-01-28   949.7029  480.56656\n",
              "2  2021-01-29   574.9601  250.45422\n",
              "3  2021-02-01  1242.6844  586.47010\n",
              "4  2021-02-02  1083.2233  573.60657"
            ]
          },
          "metadata": {
            "tags": []
          },
          "execution_count": 73
        }
      ]
    },
    {
      "cell_type": "code",
      "metadata": {
        "colab": {
          "base_uri": "https://localhost:8080/"
        },
        "id": "MecfyyP_tBjv",
        "outputId": "d7fbf534-6ab6-4a2f-8c74-078ebf43b3d9"
      },
      "source": [
        "all(data1.일자==data2.일자)"
      ],
      "execution_count": 80,
      "outputs": [
        {
          "output_type": "execute_result",
          "data": {
            "text/plain": [
              "True"
            ]
          },
          "metadata": {
            "tags": []
          },
          "execution_count": 80
        }
      ]
    },
    {
      "cell_type": "code",
      "metadata": {
        "colab": {
          "base_uri": "https://localhost:8080/"
        },
        "id": "oe4Saa_EtZWg",
        "outputId": "cc724406-0208-4500-da49-42a04a72f323"
      },
      "source": [
        "data1.dtypes"
      ],
      "execution_count": 76,
      "outputs": [
        {
          "output_type": "execute_result",
          "data": {
            "text/plain": [
              "일자      object\n",
              "중식계    float64\n",
              "석식계    float64\n",
              "dtype: object"
            ]
          },
          "metadata": {
            "tags": []
          },
          "execution_count": 76
        }
      ]
    },
    {
      "cell_type": "code",
      "metadata": {
        "colab": {
          "base_uri": "https://localhost:8080/"
        },
        "id": "Lyv1Z24OtabW",
        "outputId": "21ceff9d-2ce1-4670-c779-2cab4203a230"
      },
      "source": [
        "data2.dtypes"
      ],
      "execution_count": 77,
      "outputs": [
        {
          "output_type": "execute_result",
          "data": {
            "text/plain": [
              "일자      object\n",
              "중식계    float64\n",
              "석식계    float64\n",
              "dtype: object"
            ]
          },
          "metadata": {
            "tags": []
          },
          "execution_count": 77
        }
      ]
    },
    {
      "cell_type": "code",
      "metadata": {
        "colab": {
          "base_uri": "https://localhost:8080/"
        },
        "id": "-BjWklfZtcJv",
        "outputId": "cdd0b9a8-6cb6-4ea6-f14e-64c566da19dc"
      },
      "source": [
        "data1.shape"
      ],
      "execution_count": 78,
      "outputs": [
        {
          "output_type": "execute_result",
          "data": {
            "text/plain": [
              "(50, 3)"
            ]
          },
          "metadata": {
            "tags": []
          },
          "execution_count": 78
        }
      ]
    },
    {
      "cell_type": "code",
      "metadata": {
        "colab": {
          "base_uri": "https://localhost:8080/"
        },
        "id": "1t65tQFFtc90",
        "outputId": "d7b6b5ee-0245-485d-e49d-7aedea79b763"
      },
      "source": [
        "data2.shape"
      ],
      "execution_count": 79,
      "outputs": [
        {
          "output_type": "execute_result",
          "data": {
            "text/plain": [
              "(50, 3)"
            ]
          },
          "metadata": {
            "tags": []
          },
          "execution_count": 79
        }
      ]
    },
    {
      "cell_type": "markdown",
      "metadata": {
        "id": "kLw7yYyNe-Hd"
      },
      "source": [
        "## 1. XGBoost"
      ]
    },
    {
      "cell_type": "code",
      "metadata": {
        "id": "DGSI5hPUdc15"
      },
      "source": [
        "from sklearn.model_selection import GridSearchCV\n",
        "from xgboost import XGBRegressor\n",
        "\n",
        "params = {\n",
        "    'learning_rate': [0.0, 0.1, 0.09, 0.089, 0.08],\n",
        "    'boosting_type': ['gbtree', 'gblinear', 'dart'],\n",
        "    \n",
        "}\n",
        "\n",
        "lunch_r = XGBRegressor(objective='reg:squarederror')\n",
        "dinner_r = XGBRegressor(objective='reg:squarederror')\n",
        "\n",
        "lunch_model = GridSearchCV(lunch_r, params, scoring='neg_mean_absolute_error')\n",
        "dinner_model = GridSearchCV(dinner_r, params, scoring='neg_mean_absolute_error')"
      ],
      "execution_count": 39,
      "outputs": []
    },
    {
      "cell_type": "markdown",
      "metadata": {
        "id": "irPMwr60pF3F"
      },
      "source": [
        "## 중식"
      ]
    },
    {
      "cell_type": "code",
      "metadata": {
        "colab": {
          "base_uri": "https://localhost:8080/"
        },
        "id": "tYvHq8ZcoAx_",
        "outputId": "72aeb49a-0b0e-47b5-ea3a-9aa057667b9a"
      },
      "source": [
        "x = train[['월', '일', '요일', '식사가능자수', '본사출장자수', '본사시간외근무명령서승인건수']]\n",
        "y = train['중식계']\n",
        "\n",
        "lunch_model.fit(x, y)\n",
        "print(lunch_model.best_score_, lunch_model.best_params_)\n",
        "lunch_model = lunch_model.best_estimator_"
      ],
      "execution_count": 40,
      "outputs": [
        {
          "output_type": "stream",
          "text": [
            "-86.02227778137967 {'boosting_type': 'gbtree', 'learning_rate': 0.09}\n"
          ],
          "name": "stdout"
        }
      ]
    },
    {
      "cell_type": "code",
      "metadata": {
        "id": "2cPdl1uookfx"
      },
      "source": [
        "test_x = test[['월', '일', '요일', '식사가능자수', '본사출장자수', '본사시간외근무명령서승인건수']]\n",
        "y_pred = lunch_model.predict(test_x)"
      ],
      "execution_count": 41,
      "outputs": []
    },
    {
      "cell_type": "code",
      "metadata": {
        "id": "6KGCSBlxpaHq"
      },
      "source": [
        "submission['중식계'] = y_pred"
      ],
      "execution_count": 42,
      "outputs": []
    },
    {
      "cell_type": "markdown",
      "metadata": {
        "id": "jFG-31i7pHIp"
      },
      "source": [
        "## 석식"
      ]
    },
    {
      "cell_type": "code",
      "metadata": {
        "colab": {
          "base_uri": "https://localhost:8080/"
        },
        "id": "yZfF8saipHlt",
        "outputId": "e9f3ea80-a0c7-44ea-e268-82103381a859"
      },
      "source": [
        "x = train[['월', '일', '요일(석식)', '식사가능자수', '본사출장자수', '본사시간외근무명령서승인건수']]\n",
        "y = train['석식계']\n",
        "\n",
        "dinner_model.fit(x, y)\n",
        "print(dinner_model.best_score_, dinner_model.best_params_)\n",
        "dinner_model = dinner_model.best_estimator_"
      ],
      "execution_count": 43,
      "outputs": [
        {
          "output_type": "stream",
          "text": [
            "-74.9887862015562 {'boosting_type': 'gbtree', 'learning_rate': 0.089}\n"
          ],
          "name": "stdout"
        }
      ]
    },
    {
      "cell_type": "code",
      "metadata": {
        "id": "hvt4mtNepN5X"
      },
      "source": [
        "test_x = test[['월', '일', '요일(석식)', '식사가능자수', '본사출장자수', '본사시간외근무명령서승인건수']]\n",
        "y_pred = dinner_model.predict(test_x)"
      ],
      "execution_count": 44,
      "outputs": []
    },
    {
      "cell_type": "code",
      "metadata": {
        "id": "oFu9-iYspdI3"
      },
      "source": [
        "submission['석식계'] = y_pred"
      ],
      "execution_count": 45,
      "outputs": []
    },
    {
      "cell_type": "markdown",
      "metadata": {
        "id": "qBqkDDoPpe8y"
      },
      "source": [
        "## 제출 파일 다운로드"
      ]
    },
    {
      "cell_type": "code",
      "metadata": {
        "id": "-SMYyBqCph7b"
      },
      "source": [
        "upper_dir = './submission'\n",
        "import os \n",
        "os.makedirs(f\"{upper_dir}\",exist_ok=True)\n",
        "submission.to_csv(f'{upper_dir}/submission.csv', index=False)\n",
        "\n",
        "from google.colab import files\n",
        "\n",
        "# files.download('submit.csv')"
      ],
      "execution_count": 48,
      "outputs": []
    },
    {
      "cell_type": "markdown",
      "metadata": {
        "id": "ckty68ywq0MI"
      },
      "source": [
        "* 1차 시도\n",
        "  * feature = ['요일', '식사가능자수', '본사출장자수', '본사시간외근무명령서승인건수']\n",
        "  * score = 94.3871666667\n",
        "\n",
        "* 2차 시도\n",
        "  * feature = 1차 시도 + '월'\n",
        "  * score = 82.6756666667"
      ]
    },
    {
      "cell_type": "markdown",
      "metadata": {
        "id": "wAZ9WnOArfmR"
      },
      "source": [
        "* 3차 시도\n",
        "  * weekday rank에 맞춰 매핑\n",
        "    * 중식,\n",
        "    * 석식 구분.\n",
        "  * score = \t81.3001666667"
      ]
    },
    {
      "cell_type": "markdown",
      "metadata": {
        "id": "QpFsC_6YcN5w"
      },
      "source": [
        "* 4차 시도\n",
        "  * feature에 '일' 추가\n",
        "    * both 중식 and 석식\n",
        "  * score = 80.9271666667"
      ]
    },
    {
      "cell_type": "markdown",
      "metadata": {
        "id": "X4xR_hnpYQ94"
      },
      "source": [
        "  * 5차 시도\n",
        "    * XGBoost + GridSearch\n",
        "    * score = 79.828006"
      ]
    },
    {
      "cell_type": "markdown",
      "metadata": {
        "id": "toMyAlK6g7iK"
      },
      "source": [
        "* 6차 시도 (예정)\n",
        "  * train 데이터에서 석식계가 0인 날 제외 (test에는 석식계 0 없음 확인 필)"
      ]
    },
    {
      "cell_type": "code",
      "metadata": {
        "id": "Wv7ZNe5phAzy"
      },
      "source": [
        ""
      ],
      "execution_count": null,
      "outputs": []
    }
  ]
}